{
  "cells": [
    {
      "cell_type": "code",
      "execution_count": null,
      "metadata": {
        "id": "TlZxxMkzGyTv"
      },
      "outputs": [],
      "source": [
        "#Code taken and modified from https://github.com/SullyChen/Molecular-Solubility-with-PyTorch-Geometric/blob/main/Molecular%20Solubility.ipynb"
      ]
    },
    {
      "cell_type": "code",
      "execution_count": null,
      "metadata": {
        "colab": {
          "base_uri": "https://localhost:8080/"
        },
        "id": "ZevvLDjT7rMD",
        "outputId": "454c5489-0539-4af4-dd8a-73e5c296934d"
      },
      "outputs": [
        {
          "output_type": "stream",
          "name": "stdout",
          "text": [
            "Collecting pysmiles\n",
            "  Downloading pysmiles-1.1.2-py2.py3-none-any.whl (22 kB)\n",
            "Collecting pbr (from pysmiles)\n",
            "  Downloading pbr-6.0.0-py2.py3-none-any.whl (107 kB)\n",
            "\u001b[2K     \u001b[90m━━━━━━━━━━━━━━━━━━━━━━━━━━━━━━━━━━━━━━━━\u001b[0m \u001b[32m107.5/107.5 kB\u001b[0m \u001b[31m3.8 MB/s\u001b[0m eta \u001b[36m0:00:00\u001b[0m\n",
            "\u001b[?25hRequirement already satisfied: networkx in /usr/local/lib/python3.10/dist-packages (from pysmiles) (3.2.1)\n",
            "Installing collected packages: pbr, pysmiles\n",
            "Successfully installed pbr-6.0.0 pysmiles-1.1.2\n",
            "Collecting torch_geometric\n",
            "  Downloading torch_geometric-2.4.0-py3-none-any.whl (1.0 MB)\n",
            "\u001b[2K     \u001b[90m━━━━━━━━━━━━━━━━━━━━━━━━━━━━━━━━━━━━━━━━\u001b[0m \u001b[32m1.0/1.0 MB\u001b[0m \u001b[31m7.4 MB/s\u001b[0m eta \u001b[36m0:00:00\u001b[0m\n",
            "\u001b[?25hRequirement already satisfied: tqdm in /usr/local/lib/python3.10/dist-packages (from torch_geometric) (4.66.1)\n",
            "Requirement already satisfied: numpy in /usr/local/lib/python3.10/dist-packages (from torch_geometric) (1.23.5)\n",
            "Requirement already satisfied: scipy in /usr/local/lib/python3.10/dist-packages (from torch_geometric) (1.11.4)\n",
            "Requirement already satisfied: jinja2 in /usr/local/lib/python3.10/dist-packages (from torch_geometric) (3.1.2)\n",
            "Requirement already satisfied: requests in /usr/local/lib/python3.10/dist-packages (from torch_geometric) (2.31.0)\n",
            "Requirement already satisfied: pyparsing in /usr/local/lib/python3.10/dist-packages (from torch_geometric) (3.1.1)\n",
            "Requirement already satisfied: scikit-learn in /usr/local/lib/python3.10/dist-packages (from torch_geometric) (1.2.2)\n",
            "Requirement already satisfied: psutil>=5.8.0 in /usr/local/lib/python3.10/dist-packages (from torch_geometric) (5.9.5)\n",
            "Requirement already satisfied: MarkupSafe>=2.0 in /usr/local/lib/python3.10/dist-packages (from jinja2->torch_geometric) (2.1.3)\n",
            "Requirement already satisfied: charset-normalizer<4,>=2 in /usr/local/lib/python3.10/dist-packages (from requests->torch_geometric) (3.3.2)\n",
            "Requirement already satisfied: idna<4,>=2.5 in /usr/local/lib/python3.10/dist-packages (from requests->torch_geometric) (3.6)\n",
            "Requirement already satisfied: urllib3<3,>=1.21.1 in /usr/local/lib/python3.10/dist-packages (from requests->torch_geometric) (2.0.7)\n",
            "Requirement already satisfied: certifi>=2017.4.17 in /usr/local/lib/python3.10/dist-packages (from requests->torch_geometric) (2023.11.17)\n",
            "Requirement already satisfied: joblib>=1.1.1 in /usr/local/lib/python3.10/dist-packages (from scikit-learn->torch_geometric) (1.3.2)\n",
            "Requirement already satisfied: threadpoolctl>=2.0.0 in /usr/local/lib/python3.10/dist-packages (from scikit-learn->torch_geometric) (3.2.0)\n",
            "Installing collected packages: torch_geometric\n",
            "Successfully installed torch_geometric-2.4.0\n"
          ]
        }
      ],
      "source": [
        "!pip install pysmiles\n",
        "!pip install torch_geometric\n",
        "import numpy as np\n",
        "import random\n",
        "import matplotlib.pyplot as plt\n",
        "from pysmiles import read_smiles\n",
        "import pandas as pd\n",
        "import logging\n",
        "from tqdm import tqdm\n",
        "import torch\n",
        "from torch.nn import Sequential as Seq, Linear, ReLU, CrossEntropyLoss\n",
        "import torch.nn.functional as F\n",
        "from torch_geometric.nn import MessagePassing, GCNConv\n",
        "from torch_geometric.utils import remove_self_loops, add_self_loops, degree\n",
        "from torch_geometric.data import Data\n",
        "\n",
        "logging.getLogger('pysmiles').setLevel(logging.CRITICAL)  # Anything higher than warning"
      ]
    },
    {
      "cell_type": "code",
      "execution_count": null,
      "metadata": {
        "id": "YdYqzRidGosJ"
      },
      "outputs": [],
      "source": []
    },
    {
      "cell_type": "code",
      "execution_count": null,
      "metadata": {
        "id": "Wfe822I9jN3x"
      },
      "outputs": [],
      "source": []
    },
    {
      "cell_type": "code",
      "execution_count": null,
      "metadata": {
        "colab": {
          "base_uri": "https://localhost:8080/"
        },
        "id": "n-Hysr12791c",
        "outputId": "6dc9e561-ab7c-4ffe-9ae4-e557a4a050d0"
      },
      "outputs": [
        {
          "output_type": "stream",
          "name": "stdout",
          "text": [
            "Mounted at /content/drive/\n",
            "(9982, 17)\n",
            "(17,)\n"
          ]
        },
        {
          "output_type": "stream",
          "name": "stderr",
          "text": [
            "100%|██████████| 9982/9982 [00:11<00:00, 888.96it/s]\n"
          ]
        }
      ],
      "source": [
        "from google.colab import drive\n",
        "drive.mount('/content/drive/')\n",
        "with open('/content/drive/MyDrive/SolPred/curated-solubility-dataset.csv', 'r') as f:\n",
        "  df = pd.read_csv(f) #read dataset (https://dataverse.harvard.edu/dataset.xhtml?persistentId=doi:10.7910/DVN/OVHAW8)\n",
        "X_smiles = list(df['SMILES']) #get smiles strings from file\n",
        "Y = np.asarray(df['Solubility']) #get solubility values from file\n",
        "X_data = np.stack((np.asarray(df['MolWt']),np.asarray(df['MolLogP']),np.asarray(df['MolMR']),np.asarray(df['HeavyAtomCount']),np.asarray(df['NumHAcceptors']),np.asarray(df['NumHDonors']),np.asarray(df['NumHeteroatoms']),np.asarray(df['NumRotatableBonds']),np.asarray(df['NumValenceElectrons']),np.asarray(df['NumAromaticRings']),np.asarray(df['NumSaturatedRings']),np.asarray(df['NumAliphaticRings']),np.asarray(df['RingCount']),np.asarray(df['TPSA']),np.asarray(df['LabuteASA']),np.asarray(df['BalabanJ']),np.asarray(df['BertzCT'])),axis=0).T\n",
        "print(X_data.shape)\n",
        "\n",
        "X_data_mean = np.mean(X_data,0)\n",
        "print(X_data_mean.shape)\n",
        "\n",
        "X_data_std = np.std(X_data,0)\n",
        "\n",
        "X_data = (X_data-X_data_mean)/X_data_std\n",
        "\n",
        "elements = ['K', 'Y', 'V', 'Sm', 'Dy', 'In', 'Lu', 'Hg', 'Co', 'Mg',    #list of all elements in the dataset\n",
        "            'Cu', 'Rh', 'Hf', 'O', 'As', 'Ge', 'Au', 'Mo', 'Br', 'Ce',\n",
        "            'Zr', 'Ag', 'Ba', 'N', 'Cr', 'Sr', 'Fe', 'Gd', 'I', 'Al',\n",
        "            'B', 'Se', 'Pr', 'Te', 'Cd', 'Pd', 'Si', 'Zn', 'Pb', 'Sn',\n",
        "            'Cl', 'Mn', 'Cs', 'Na', 'S', 'Ti', 'Ni', 'Ru', 'Ca', 'Nd',\n",
        "            'W', 'H', 'Li', 'Sb', 'Bi', 'La', 'Pt', 'Nb', 'P', 'F', 'C']\n",
        "\n",
        "#convert element to a one-hot vector of dimension len(elements)\n",
        "def element_to_onehot(element):\n",
        "    out = []\n",
        "    for i in range(0, len(element)):\n",
        "        v = np.zeros(len(elements))\n",
        "        v[elements.index(element[i])] = 1.0\n",
        "        out.append(v)\n",
        "    return np.asarray(out)\n",
        "\n",
        "#convert solubility value to one-hot class vector\n",
        "def val_to_class(val):\n",
        "    if val < -3.65: #insoluble\n",
        "        return [1, 0, 0]\n",
        "    elif val < -1.69: #slightly soluble\n",
        "        return [0, 1, 0]\n",
        "    else: #soluble\n",
        "        return [0, 0, 1]\n",
        "\n",
        "#process SMILES strings into graphs\n",
        "nodes = []\n",
        "edge_index = []\n",
        "for smiles in tqdm(X_smiles):\n",
        "    try:\n",
        "        G = read_smiles(smiles, explicit_hydrogen=True)\n",
        "        feature = element_to_onehot(np.asarray(G.nodes(data='element'))[:, 1])\n",
        "        edges = np.asarray(G.edges)\n",
        "        index = np.asarray([edges[:,0], edges[:,1]]) #reshape indices into shape [2, -1]\n",
        "        nodes.append(feature)\n",
        "        edge_index.append(index)\n",
        "    except:\n",
        "        pass"
      ]
    },
    {
      "cell_type": "code",
      "execution_count": null,
      "metadata": {
        "colab": {
          "base_uri": "https://localhost:8080/"
        },
        "id": "fXcJSQmn9ebx",
        "outputId": "3c1b4367-5d25-4233-8e00-6f5a67b3441f"
      },
      "outputs": [
        {
          "output_type": "stream",
          "name": "stderr",
          "text": [
            "100%|██████████| 9947/9947 [00:01<00:00, 5243.77it/s]\n"
          ]
        }
      ],
      "source": [
        "#Generate Data objects\n",
        "data = list()\n",
        "\n",
        "#process graphs into torch_geometric Data objects\n",
        "for i in tqdm(range(0, len(nodes))):\n",
        "    x = torch.tensor(nodes[i], dtype=torch.float) #convert node features into torch tensor\n",
        "    edges = torch.tensor(edge_index[i], dtype=torch.long) #convert edge index into torch tensor\n",
        "    y = torch.tensor([val_to_class(Y[i])], dtype=torch.float) #change shape of label and convert to tensor\n",
        "    data.append((Data(x=x,edge_index=edges, y=y),torch.from_numpy(X_data[i].astype(np.float32)))) #add the Data object to the list of data\n",
        "random.shuffle(data)\n",
        "train = data[:int(len(data)*0.8)] #train set\n",
        "test = data[int(len(data)*0.8):] #val set"
      ]
    },
    {
      "cell_type": "code",
      "execution_count": null,
      "metadata": {
        "id": "SsXl2-Z9kIl2"
      },
      "outputs": [],
      "source": [
        "#define the message passing network\n",
        "class Net(torch.nn.Module):\n",
        "    def __init__(self):\n",
        "        super(Net, self).__init__()\n",
        "        self.conv1 = GCNConv(61, 45)\n",
        "        self.conv2 = GCNConv(45, 32)\n",
        "        self.lin1 = Linear(32+17, 64)\n",
        "        self.lin2 = Linear(64, 32)\n",
        "        self.lin3 = Linear(32, 16)\n",
        "\n",
        "        self.lin4 = Linear(16, 3)\n",
        "\n",
        "\n",
        "\n",
        "    def forward(self, gdata, ldata):\n",
        "        x, edge_index= gdata.x, gdata.edge_index\n",
        "\n",
        "        x = self.conv1(x, edge_index)\n",
        "        x = F.relu(x)\n",
        "        x = F.dropout(x, p=0.2, training=self.training)\n",
        "\n",
        "        x = self.conv2(x, edge_index)\n",
        "        x = F.relu(x)\n",
        "\n",
        "\n",
        "        x = torch.sum(x, dim=0)\n",
        "        x = torch.cat((x,ldata),axis=0)\n",
        "\n",
        "        x = self.lin1(x)\n",
        "        x = F.relu(x)\n",
        "\n",
        "        x = self.lin2(x)\n",
        "        x = F.relu(x)\n",
        "\n",
        "        x = self.lin3(x)\n",
        "        x = F.relu(x)\n",
        "\n",
        "        x = self.lin4(x)\n",
        "        return x"
      ]
    },
    {
      "cell_type": "code",
      "execution_count": null,
      "metadata": {
        "id": "YAbm0BfhitV3"
      },
      "outputs": [],
      "source": [
        "#set up device and create model\n",
        "device = torch.device('cuda' if torch.cuda.is_available() else 'cpu') #use CUDA if available\n",
        "model = Net().to(device) #create network and send to the device memory\n",
        "optimizer = torch.optim.Adam(model.parameters(), lr=0.001, weight_decay=1e-4) #use Adam optimizer\n",
        "CSE = CrossEntropyLoss() #define loss"
      ]
    },
    {
      "cell_type": "code",
      "execution_count": null,
      "metadata": {
        "colab": {
          "base_uri": "https://localhost:8080/"
        },
        "id": "OruDaljhkJo1",
        "outputId": "9a358afb-d810-40b5-8a2f-92b85ccc94ed"
      },
      "outputs": [
        {
          "output_type": "stream",
          "name": "stderr",
          "text": [
            "100%|██████████| 7957/7957 [00:50<00:00, 156.20it/s]\n"
          ]
        },
        {
          "output_type": "stream",
          "name": "stdout",
          "text": [
            "Epoch: 000, Average loss: 0.73745, Accuracy: 0.67136\n"
          ]
        },
        {
          "output_type": "stream",
          "name": "stderr",
          "text": [
            "100%|██████████| 7957/7957 [00:32<00:00, 243.11it/s]\n"
          ]
        },
        {
          "output_type": "stream",
          "name": "stdout",
          "text": [
            "Epoch: 001, Average loss: 0.64666, Accuracy: 0.72565\n"
          ]
        },
        {
          "output_type": "stream",
          "name": "stderr",
          "text": [
            "100%|██████████| 7957/7957 [00:33<00:00, 235.68it/s]\n"
          ]
        },
        {
          "output_type": "stream",
          "name": "stdout",
          "text": [
            "Epoch: 002, Average loss: 0.61985, Accuracy: 0.73872\n"
          ]
        },
        {
          "output_type": "stream",
          "name": "stderr",
          "text": [
            "100%|██████████| 7957/7957 [00:36<00:00, 219.30it/s]\n"
          ]
        },
        {
          "output_type": "stream",
          "name": "stdout",
          "text": [
            "Epoch: 003, Average loss: 0.60554, Accuracy: 0.74425\n"
          ]
        },
        {
          "output_type": "stream",
          "name": "stderr",
          "text": [
            "100%|██████████| 7957/7957 [00:33<00:00, 236.44it/s]\n"
          ]
        },
        {
          "output_type": "stream",
          "name": "stdout",
          "text": [
            "Epoch: 004, Average loss: 0.59778, Accuracy: 0.74174\n"
          ]
        },
        {
          "output_type": "stream",
          "name": "stderr",
          "text": [
            "100%|██████████| 7957/7957 [00:34<00:00, 230.19it/s]\n"
          ]
        },
        {
          "output_type": "stream",
          "name": "stdout",
          "text": [
            "Epoch: 005, Average loss: 0.59054, Accuracy: 0.74438\n"
          ]
        },
        {
          "output_type": "stream",
          "name": "stderr",
          "text": [
            "100%|██████████| 7957/7957 [00:37<00:00, 214.19it/s]\n"
          ]
        },
        {
          "output_type": "stream",
          "name": "stdout",
          "text": [
            "Epoch: 006, Average loss: 0.57895, Accuracy: 0.75355\n"
          ]
        },
        {
          "output_type": "stream",
          "name": "stderr",
          "text": [
            "100%|██████████| 7957/7957 [00:35<00:00, 224.13it/s]\n"
          ]
        },
        {
          "output_type": "stream",
          "name": "stdout",
          "text": [
            "Epoch: 007, Average loss: 0.58052, Accuracy: 0.75619\n"
          ]
        },
        {
          "output_type": "stream",
          "name": "stderr",
          "text": [
            "100%|██████████| 7957/7957 [00:36<00:00, 219.28it/s]\n"
          ]
        },
        {
          "output_type": "stream",
          "name": "stdout",
          "text": [
            "Epoch: 008, Average loss: 0.57131, Accuracy: 0.75405\n"
          ]
        },
        {
          "output_type": "stream",
          "name": "stderr",
          "text": [
            "100%|██████████| 7957/7957 [00:37<00:00, 214.64it/s]\n"
          ]
        },
        {
          "output_type": "stream",
          "name": "stdout",
          "text": [
            "Epoch: 009, Average loss: 0.56658, Accuracy: 0.75745\n"
          ]
        },
        {
          "output_type": "stream",
          "name": "stderr",
          "text": [
            "100%|██████████| 7957/7957 [00:38<00:00, 204.31it/s]\n"
          ]
        },
        {
          "output_type": "stream",
          "name": "stdout",
          "text": [
            "Epoch: 010, Average loss: 0.56244, Accuracy: 0.76247\n"
          ]
        },
        {
          "output_type": "stream",
          "name": "stderr",
          "text": [
            "100%|██████████| 7957/7957 [00:37<00:00, 209.48it/s]\n"
          ]
        },
        {
          "output_type": "stream",
          "name": "stdout",
          "text": [
            "Epoch: 011, Average loss: 0.56037, Accuracy: 0.76272\n"
          ]
        },
        {
          "output_type": "stream",
          "name": "stderr",
          "text": [
            "100%|██████████| 7957/7957 [00:37<00:00, 214.93it/s]\n"
          ]
        },
        {
          "output_type": "stream",
          "name": "stdout",
          "text": [
            "Epoch: 012, Average loss: 0.55974, Accuracy: 0.76059\n"
          ]
        },
        {
          "output_type": "stream",
          "name": "stderr",
          "text": [
            "100%|██████████| 7957/7957 [00:38<00:00, 206.52it/s]\n"
          ]
        },
        {
          "output_type": "stream",
          "name": "stdout",
          "text": [
            "Epoch: 013, Average loss: 0.55336, Accuracy: 0.76210\n"
          ]
        },
        {
          "output_type": "stream",
          "name": "stderr",
          "text": [
            "100%|██████████| 7957/7957 [00:36<00:00, 215.44it/s]\n"
          ]
        },
        {
          "output_type": "stream",
          "name": "stdout",
          "text": [
            "Epoch: 014, Average loss: 0.54568, Accuracy: 0.76813\n"
          ]
        },
        {
          "output_type": "stream",
          "name": "stderr",
          "text": [
            "100%|██████████| 7957/7957 [00:39<00:00, 202.10it/s]\n"
          ]
        },
        {
          "output_type": "stream",
          "name": "stdout",
          "text": [
            "Epoch: 015, Average loss: 0.54501, Accuracy: 0.76800\n"
          ]
        },
        {
          "output_type": "stream",
          "name": "stderr",
          "text": [
            "100%|██████████| 7957/7957 [00:37<00:00, 212.44it/s]\n"
          ]
        },
        {
          "output_type": "stream",
          "name": "stdout",
          "text": [
            "Epoch: 016, Average loss: 0.54203, Accuracy: 0.76775\n"
          ]
        },
        {
          "output_type": "stream",
          "name": "stderr",
          "text": [
            "100%|██████████| 7957/7957 [00:37<00:00, 212.80it/s]\n"
          ]
        },
        {
          "output_type": "stream",
          "name": "stdout",
          "text": [
            "Epoch: 017, Average loss: 0.53522, Accuracy: 0.77454\n"
          ]
        },
        {
          "output_type": "stream",
          "name": "stderr",
          "text": [
            "100%|██████████| 7957/7957 [00:35<00:00, 225.46it/s]\n"
          ]
        },
        {
          "output_type": "stream",
          "name": "stdout",
          "text": [
            "Epoch: 018, Average loss: 0.53481, Accuracy: 0.77554\n"
          ]
        },
        {
          "output_type": "stream",
          "name": "stderr",
          "text": [
            "100%|██████████| 7957/7957 [00:36<00:00, 219.61it/s]\n"
          ]
        },
        {
          "output_type": "stream",
          "name": "stdout",
          "text": [
            "Epoch: 019, Average loss: 0.53020, Accuracy: 0.77492\n"
          ]
        },
        {
          "output_type": "stream",
          "name": "stderr",
          "text": [
            "100%|██████████| 7957/7957 [00:37<00:00, 214.92it/s]\n"
          ]
        },
        {
          "output_type": "stream",
          "name": "stdout",
          "text": [
            "Epoch: 020, Average loss: 0.52561, Accuracy: 0.77793\n"
          ]
        },
        {
          "output_type": "stream",
          "name": "stderr",
          "text": [
            "100%|██████████| 7957/7957 [00:36<00:00, 216.66it/s]\n"
          ]
        },
        {
          "output_type": "stream",
          "name": "stdout",
          "text": [
            "Epoch: 021, Average loss: 0.52570, Accuracy: 0.77969\n"
          ]
        },
        {
          "output_type": "stream",
          "name": "stderr",
          "text": [
            "100%|██████████| 7957/7957 [00:37<00:00, 214.26it/s]\n"
          ]
        },
        {
          "output_type": "stream",
          "name": "stdout",
          "text": [
            "Epoch: 022, Average loss: 0.52316, Accuracy: 0.77655\n"
          ]
        },
        {
          "output_type": "stream",
          "name": "stderr",
          "text": [
            "100%|██████████| 7957/7957 [00:38<00:00, 206.18it/s]\n"
          ]
        },
        {
          "output_type": "stream",
          "name": "stdout",
          "text": [
            "Epoch: 023, Average loss: 0.52108, Accuracy: 0.77869\n"
          ]
        },
        {
          "output_type": "stream",
          "name": "stderr",
          "text": [
            "100%|██████████| 7957/7957 [00:38<00:00, 205.91it/s]\n"
          ]
        },
        {
          "output_type": "stream",
          "name": "stdout",
          "text": [
            "Epoch: 024, Average loss: 0.51635, Accuracy: 0.78522\n"
          ]
        },
        {
          "output_type": "stream",
          "name": "stderr",
          "text": [
            "100%|██████████| 7957/7957 [00:36<00:00, 220.12it/s]\n"
          ]
        },
        {
          "output_type": "stream",
          "name": "stdout",
          "text": [
            "Epoch: 025, Average loss: 0.51644, Accuracy: 0.78032\n"
          ]
        },
        {
          "output_type": "stream",
          "name": "stderr",
          "text": [
            "100%|██████████| 7957/7957 [00:36<00:00, 219.11it/s]\n"
          ]
        },
        {
          "output_type": "stream",
          "name": "stdout",
          "text": [
            "Epoch: 026, Average loss: 0.51006, Accuracy: 0.78509\n"
          ]
        },
        {
          "output_type": "stream",
          "name": "stderr",
          "text": [
            "100%|██████████| 7957/7957 [00:34<00:00, 227.43it/s]\n"
          ]
        },
        {
          "output_type": "stream",
          "name": "stdout",
          "text": [
            "Epoch: 027, Average loss: 0.51000, Accuracy: 0.78346\n"
          ]
        },
        {
          "output_type": "stream",
          "name": "stderr",
          "text": [
            "100%|██████████| 7957/7957 [00:34<00:00, 229.06it/s]\n"
          ]
        },
        {
          "output_type": "stream",
          "name": "stdout",
          "text": [
            "Epoch: 028, Average loss: 0.50821, Accuracy: 0.78283\n"
          ]
        },
        {
          "output_type": "stream",
          "name": "stderr",
          "text": [
            "100%|██████████| 7957/7957 [00:35<00:00, 221.86it/s]\n"
          ]
        },
        {
          "output_type": "stream",
          "name": "stdout",
          "text": [
            "Epoch: 029, Average loss: 0.50485, Accuracy: 0.78560\n"
          ]
        },
        {
          "output_type": "stream",
          "name": "stderr",
          "text": [
            "100%|██████████| 7957/7957 [00:33<00:00, 235.46it/s]\n"
          ]
        },
        {
          "output_type": "stream",
          "name": "stdout",
          "text": [
            "Epoch: 030, Average loss: 0.50512, Accuracy: 0.78409\n"
          ]
        },
        {
          "output_type": "stream",
          "name": "stderr",
          "text": [
            "100%|██████████| 7957/7957 [00:34<00:00, 233.20it/s]\n"
          ]
        },
        {
          "output_type": "stream",
          "name": "stdout",
          "text": [
            "Epoch: 031, Average loss: 0.50648, Accuracy: 0.78409\n"
          ]
        },
        {
          "output_type": "stream",
          "name": "stderr",
          "text": [
            "100%|██████████| 7957/7957 [00:34<00:00, 228.43it/s]\n"
          ]
        },
        {
          "output_type": "stream",
          "name": "stdout",
          "text": [
            "Epoch: 032, Average loss: 0.50072, Accuracy: 0.78635\n"
          ]
        },
        {
          "output_type": "stream",
          "name": "stderr",
          "text": [
            "100%|██████████| 7957/7957 [00:34<00:00, 227.51it/s]\n"
          ]
        },
        {
          "output_type": "stream",
          "name": "stdout",
          "text": [
            "Epoch: 033, Average loss: 0.49703, Accuracy: 0.78660\n"
          ]
        },
        {
          "output_type": "stream",
          "name": "stderr",
          "text": [
            "100%|██████████| 7957/7957 [00:35<00:00, 225.92it/s]\n"
          ]
        },
        {
          "output_type": "stream",
          "name": "stdout",
          "text": [
            "Epoch: 034, Average loss: 0.49952, Accuracy: 0.78937\n"
          ]
        },
        {
          "output_type": "stream",
          "name": "stderr",
          "text": [
            "100%|██████████| 7957/7957 [00:35<00:00, 226.67it/s]\n"
          ]
        },
        {
          "output_type": "stream",
          "name": "stdout",
          "text": [
            "Epoch: 035, Average loss: 0.49702, Accuracy: 0.79138\n"
          ]
        },
        {
          "output_type": "stream",
          "name": "stderr",
          "text": [
            "100%|██████████| 7957/7957 [00:34<00:00, 228.13it/s]\n"
          ]
        },
        {
          "output_type": "stream",
          "name": "stdout",
          "text": [
            "Epoch: 036, Average loss: 0.48900, Accuracy: 0.79125\n"
          ]
        },
        {
          "output_type": "stream",
          "name": "stderr",
          "text": [
            "100%|██████████| 7957/7957 [00:34<00:00, 228.73it/s]\n"
          ]
        },
        {
          "output_type": "stream",
          "name": "stdout",
          "text": [
            "Epoch: 037, Average loss: 0.49113, Accuracy: 0.79565\n"
          ]
        },
        {
          "output_type": "stream",
          "name": "stderr",
          "text": [
            "100%|██████████| 7957/7957 [00:37<00:00, 212.56it/s]\n"
          ]
        },
        {
          "output_type": "stream",
          "name": "stdout",
          "text": [
            "Epoch: 038, Average loss: 0.49281, Accuracy: 0.79389\n"
          ]
        },
        {
          "output_type": "stream",
          "name": "stderr",
          "text": [
            "100%|██████████| 7957/7957 [00:35<00:00, 227.30it/s]\n"
          ]
        },
        {
          "output_type": "stream",
          "name": "stdout",
          "text": [
            "Epoch: 039, Average loss: 0.48178, Accuracy: 0.79465\n"
          ]
        },
        {
          "output_type": "stream",
          "name": "stderr",
          "text": [
            "100%|██████████| 7957/7957 [00:35<00:00, 226.83it/s]\n"
          ]
        },
        {
          "output_type": "stream",
          "name": "stdout",
          "text": [
            "Epoch: 040, Average loss: 0.48601, Accuracy: 0.80005\n"
          ]
        },
        {
          "output_type": "stream",
          "name": "stderr",
          "text": [
            "100%|██████████| 7957/7957 [00:35<00:00, 221.56it/s]\n"
          ]
        },
        {
          "output_type": "stream",
          "name": "stdout",
          "text": [
            "Epoch: 041, Average loss: 0.48568, Accuracy: 0.79666\n"
          ]
        },
        {
          "output_type": "stream",
          "name": "stderr",
          "text": [
            "100%|██████████| 7957/7957 [00:35<00:00, 225.42it/s]\n"
          ]
        },
        {
          "output_type": "stream",
          "name": "stdout",
          "text": [
            "Epoch: 042, Average loss: 0.48254, Accuracy: 0.79729\n"
          ]
        },
        {
          "output_type": "stream",
          "name": "stderr",
          "text": [
            "100%|██████████| 7957/7957 [00:34<00:00, 233.00it/s]\n"
          ]
        },
        {
          "output_type": "stream",
          "name": "stdout",
          "text": [
            "Epoch: 043, Average loss: 0.47952, Accuracy: 0.79904\n"
          ]
        },
        {
          "output_type": "stream",
          "name": "stderr",
          "text": [
            "100%|██████████| 7957/7957 [00:36<00:00, 218.04it/s]\n"
          ]
        },
        {
          "output_type": "stream",
          "name": "stdout",
          "text": [
            "Epoch: 044, Average loss: 0.47839, Accuracy: 0.79967\n"
          ]
        },
        {
          "output_type": "stream",
          "name": "stderr",
          "text": [
            "100%|██████████| 7957/7957 [00:34<00:00, 233.44it/s]\n"
          ]
        },
        {
          "output_type": "stream",
          "name": "stdout",
          "text": [
            "Epoch: 045, Average loss: 0.47915, Accuracy: 0.80030\n"
          ]
        },
        {
          "output_type": "stream",
          "name": "stderr",
          "text": [
            "100%|██████████| 7957/7957 [00:34<00:00, 232.31it/s]\n"
          ]
        },
        {
          "output_type": "stream",
          "name": "stdout",
          "text": [
            "Epoch: 046, Average loss: 0.48443, Accuracy: 0.79666\n"
          ]
        },
        {
          "output_type": "stream",
          "name": "stderr",
          "text": [
            "100%|██████████| 7957/7957 [00:35<00:00, 227.00it/s]\n"
          ]
        },
        {
          "output_type": "stream",
          "name": "stdout",
          "text": [
            "Epoch: 047, Average loss: 0.47203, Accuracy: 0.80520\n"
          ]
        },
        {
          "output_type": "stream",
          "name": "stderr",
          "text": [
            "100%|██████████| 7957/7957 [00:35<00:00, 226.43it/s]\n"
          ]
        },
        {
          "output_type": "stream",
          "name": "stdout",
          "text": [
            "Epoch: 048, Average loss: 0.47373, Accuracy: 0.80721\n"
          ]
        },
        {
          "output_type": "stream",
          "name": "stderr",
          "text": [
            "100%|██████████| 7957/7957 [00:35<00:00, 225.81it/s]\n"
          ]
        },
        {
          "output_type": "stream",
          "name": "stdout",
          "text": [
            "Epoch: 049, Average loss: 0.47170, Accuracy: 0.80407\n"
          ]
        },
        {
          "output_type": "stream",
          "name": "stderr",
          "text": [
            "100%|██████████| 7957/7957 [00:35<00:00, 222.93it/s]\n"
          ]
        },
        {
          "output_type": "stream",
          "name": "stdout",
          "text": [
            "Epoch: 050, Average loss: 0.46910, Accuracy: 0.80181\n"
          ]
        },
        {
          "output_type": "stream",
          "name": "stderr",
          "text": [
            "100%|██████████| 7957/7957 [00:35<00:00, 223.70it/s]\n"
          ]
        },
        {
          "output_type": "stream",
          "name": "stdout",
          "text": [
            "Epoch: 051, Average loss: 0.46615, Accuracy: 0.80319\n"
          ]
        },
        {
          "output_type": "stream",
          "name": "stderr",
          "text": [
            "100%|██████████| 7957/7957 [00:36<00:00, 216.63it/s]\n"
          ]
        },
        {
          "output_type": "stream",
          "name": "stdout",
          "text": [
            "Epoch: 052, Average loss: 0.46733, Accuracy: 0.80922\n"
          ]
        },
        {
          "output_type": "stream",
          "name": "stderr",
          "text": [
            "100%|██████████| 7957/7957 [00:35<00:00, 222.26it/s]\n"
          ]
        },
        {
          "output_type": "stream",
          "name": "stdout",
          "text": [
            "Epoch: 053, Average loss: 0.46304, Accuracy: 0.80407\n"
          ]
        },
        {
          "output_type": "stream",
          "name": "stderr",
          "text": [
            "100%|██████████| 7957/7957 [00:34<00:00, 231.07it/s]\n"
          ]
        },
        {
          "output_type": "stream",
          "name": "stdout",
          "text": [
            "Epoch: 054, Average loss: 0.46334, Accuracy: 0.80596\n"
          ]
        },
        {
          "output_type": "stream",
          "name": "stderr",
          "text": [
            "100%|██████████| 7957/7957 [00:35<00:00, 226.71it/s]\n"
          ]
        },
        {
          "output_type": "stream",
          "name": "stdout",
          "text": [
            "Epoch: 055, Average loss: 0.46295, Accuracy: 0.80897\n"
          ]
        },
        {
          "output_type": "stream",
          "name": "stderr",
          "text": [
            "100%|██████████| 7957/7957 [00:37<00:00, 211.11it/s]\n"
          ]
        },
        {
          "output_type": "stream",
          "name": "stdout",
          "text": [
            "Epoch: 056, Average loss: 0.45366, Accuracy: 0.80910\n"
          ]
        },
        {
          "output_type": "stream",
          "name": "stderr",
          "text": [
            "100%|██████████| 7957/7957 [00:36<00:00, 220.94it/s]\n"
          ]
        },
        {
          "output_type": "stream",
          "name": "stdout",
          "text": [
            "Epoch: 057, Average loss: 0.45601, Accuracy: 0.81161\n"
          ]
        },
        {
          "output_type": "stream",
          "name": "stderr",
          "text": [
            "100%|██████████| 7957/7957 [00:38<00:00, 208.70it/s]\n"
          ]
        },
        {
          "output_type": "stream",
          "name": "stdout",
          "text": [
            "Epoch: 058, Average loss: 0.45782, Accuracy: 0.81174\n"
          ]
        },
        {
          "output_type": "stream",
          "name": "stderr",
          "text": [
            "100%|██████████| 7957/7957 [00:36<00:00, 215.10it/s]\n"
          ]
        },
        {
          "output_type": "stream",
          "name": "stdout",
          "text": [
            "Epoch: 059, Average loss: 0.45463, Accuracy: 0.81036\n"
          ]
        },
        {
          "output_type": "stream",
          "name": "stderr",
          "text": [
            "100%|██████████| 7957/7957 [00:35<00:00, 224.77it/s]\n"
          ]
        },
        {
          "output_type": "stream",
          "name": "stdout",
          "text": [
            "Epoch: 060, Average loss: 0.45371, Accuracy: 0.81325\n"
          ]
        },
        {
          "output_type": "stream",
          "name": "stderr",
          "text": [
            "100%|██████████| 7957/7957 [00:34<00:00, 229.71it/s]\n"
          ]
        },
        {
          "output_type": "stream",
          "name": "stdout",
          "text": [
            "Epoch: 061, Average loss: 0.45556, Accuracy: 0.81086\n"
          ]
        },
        {
          "output_type": "stream",
          "name": "stderr",
          "text": [
            "100%|██████████| 7957/7957 [00:34<00:00, 230.18it/s]\n"
          ]
        },
        {
          "output_type": "stream",
          "name": "stdout",
          "text": [
            "Epoch: 062, Average loss: 0.45484, Accuracy: 0.81212\n"
          ]
        },
        {
          "output_type": "stream",
          "name": "stderr",
          "text": [
            "100%|██████████| 7957/7957 [00:35<00:00, 225.70it/s]\n"
          ]
        },
        {
          "output_type": "stream",
          "name": "stdout",
          "text": [
            "Epoch: 063, Average loss: 0.45005, Accuracy: 0.81400\n"
          ]
        },
        {
          "output_type": "stream",
          "name": "stderr",
          "text": [
            "100%|██████████| 7957/7957 [00:35<00:00, 226.59it/s]\n"
          ]
        },
        {
          "output_type": "stream",
          "name": "stdout",
          "text": [
            "Epoch: 064, Average loss: 0.45063, Accuracy: 0.81375\n"
          ]
        },
        {
          "output_type": "stream",
          "name": "stderr",
          "text": [
            "100%|██████████| 7957/7957 [00:34<00:00, 230.37it/s]\n"
          ]
        },
        {
          "output_type": "stream",
          "name": "stdout",
          "text": [
            "Epoch: 065, Average loss: 0.44689, Accuracy: 0.81463\n"
          ]
        },
        {
          "output_type": "stream",
          "name": "stderr",
          "text": [
            "100%|██████████| 7957/7957 [00:34<00:00, 227.56it/s]\n"
          ]
        },
        {
          "output_type": "stream",
          "name": "stdout",
          "text": [
            "Epoch: 066, Average loss: 0.44892, Accuracy: 0.81299\n"
          ]
        },
        {
          "output_type": "stream",
          "name": "stderr",
          "text": [
            "100%|██████████| 7957/7957 [00:37<00:00, 210.54it/s]\n"
          ]
        },
        {
          "output_type": "stream",
          "name": "stdout",
          "text": [
            "Epoch: 067, Average loss: 0.44555, Accuracy: 0.81526\n"
          ]
        },
        {
          "output_type": "stream",
          "name": "stderr",
          "text": [
            "100%|██████████| 7957/7957 [00:34<00:00, 227.57it/s]\n"
          ]
        },
        {
          "output_type": "stream",
          "name": "stdout",
          "text": [
            "Epoch: 068, Average loss: 0.44584, Accuracy: 0.81488\n"
          ]
        },
        {
          "output_type": "stream",
          "name": "stderr",
          "text": [
            "100%|██████████| 7957/7957 [00:34<00:00, 230.78it/s]\n"
          ]
        },
        {
          "output_type": "stream",
          "name": "stdout",
          "text": [
            "Epoch: 069, Average loss: 0.44713, Accuracy: 0.81287\n"
          ]
        },
        {
          "output_type": "stream",
          "name": "stderr",
          "text": [
            "100%|██████████| 7957/7957 [00:35<00:00, 221.85it/s]\n"
          ]
        },
        {
          "output_type": "stream",
          "name": "stdout",
          "text": [
            "Epoch: 070, Average loss: 0.44631, Accuracy: 0.81475\n"
          ]
        },
        {
          "output_type": "stream",
          "name": "stderr",
          "text": [
            "100%|██████████| 7957/7957 [00:34<00:00, 228.22it/s]\n"
          ]
        },
        {
          "output_type": "stream",
          "name": "stdout",
          "text": [
            "Epoch: 071, Average loss: 0.43819, Accuracy: 0.81563\n"
          ]
        },
        {
          "output_type": "stream",
          "name": "stderr",
          "text": [
            "100%|██████████| 7957/7957 [00:34<00:00, 227.71it/s]\n"
          ]
        },
        {
          "output_type": "stream",
          "name": "stdout",
          "text": [
            "Epoch: 072, Average loss: 0.44476, Accuracy: 0.81287\n"
          ]
        },
        {
          "output_type": "stream",
          "name": "stderr",
          "text": [
            "100%|██████████| 7957/7957 [00:35<00:00, 222.56it/s]\n"
          ]
        },
        {
          "output_type": "stream",
          "name": "stdout",
          "text": [
            "Epoch: 073, Average loss: 0.44201, Accuracy: 0.81463\n"
          ]
        },
        {
          "output_type": "stream",
          "name": "stderr",
          "text": [
            "100%|██████████| 7957/7957 [00:34<00:00, 231.26it/s]\n"
          ]
        },
        {
          "output_type": "stream",
          "name": "stdout",
          "text": [
            "Epoch: 074, Average loss: 0.44148, Accuracy: 0.81714\n"
          ]
        },
        {
          "output_type": "stream",
          "name": "stderr",
          "text": [
            "100%|██████████| 7957/7957 [00:35<00:00, 227.07it/s]\n"
          ]
        },
        {
          "output_type": "stream",
          "name": "stdout",
          "text": [
            "Epoch: 075, Average loss: 0.44303, Accuracy: 0.81325\n"
          ]
        },
        {
          "output_type": "stream",
          "name": "stderr",
          "text": [
            "100%|██████████| 7957/7957 [00:35<00:00, 223.80it/s]\n"
          ]
        },
        {
          "output_type": "stream",
          "name": "stdout",
          "text": [
            "Epoch: 076, Average loss: 0.43938, Accuracy: 0.81840\n"
          ]
        },
        {
          "output_type": "stream",
          "name": "stderr",
          "text": [
            "100%|██████████| 7957/7957 [00:37<00:00, 213.39it/s]\n"
          ]
        },
        {
          "output_type": "stream",
          "name": "stdout",
          "text": [
            "Epoch: 077, Average loss: 0.43853, Accuracy: 0.82028\n"
          ]
        },
        {
          "output_type": "stream",
          "name": "stderr",
          "text": [
            "100%|██████████| 7957/7957 [00:34<00:00, 231.50it/s]\n"
          ]
        },
        {
          "output_type": "stream",
          "name": "stdout",
          "text": [
            "Epoch: 078, Average loss: 0.44332, Accuracy: 0.81463\n"
          ]
        },
        {
          "output_type": "stream",
          "name": "stderr",
          "text": [
            "100%|██████████| 7957/7957 [00:35<00:00, 226.23it/s]\n"
          ]
        },
        {
          "output_type": "stream",
          "name": "stdout",
          "text": [
            "Epoch: 079, Average loss: 0.43881, Accuracy: 0.81651\n"
          ]
        },
        {
          "output_type": "stream",
          "name": "stderr",
          "text": [
            "100%|██████████| 7957/7957 [00:34<00:00, 229.96it/s]\n"
          ]
        },
        {
          "output_type": "stream",
          "name": "stdout",
          "text": [
            "Epoch: 080, Average loss: 0.43785, Accuracy: 0.81777\n"
          ]
        },
        {
          "output_type": "stream",
          "name": "stderr",
          "text": [
            "100%|██████████| 7957/7957 [00:34<00:00, 233.98it/s]\n"
          ]
        },
        {
          "output_type": "stream",
          "name": "stdout",
          "text": [
            "Epoch: 081, Average loss: 0.43452, Accuracy: 0.81915\n"
          ]
        },
        {
          "output_type": "stream",
          "name": "stderr",
          "text": [
            "100%|██████████| 7957/7957 [00:35<00:00, 223.82it/s]\n"
          ]
        },
        {
          "output_type": "stream",
          "name": "stdout",
          "text": [
            "Epoch: 082, Average loss: 0.43605, Accuracy: 0.81840\n"
          ]
        },
        {
          "output_type": "stream",
          "name": "stderr",
          "text": [
            "100%|██████████| 7957/7957 [00:35<00:00, 221.17it/s]\n"
          ]
        },
        {
          "output_type": "stream",
          "name": "stdout",
          "text": [
            "Epoch: 083, Average loss: 0.42898, Accuracy: 0.82242\n"
          ]
        },
        {
          "output_type": "stream",
          "name": "stderr",
          "text": [
            "100%|██████████| 7957/7957 [00:34<00:00, 231.03it/s]\n"
          ]
        },
        {
          "output_type": "stream",
          "name": "stdout",
          "text": [
            "Epoch: 084, Average loss: 0.43633, Accuracy: 0.82116\n"
          ]
        },
        {
          "output_type": "stream",
          "name": "stderr",
          "text": [
            "100%|██████████| 7957/7957 [00:34<00:00, 228.78it/s]\n"
          ]
        },
        {
          "output_type": "stream",
          "name": "stdout",
          "text": [
            "Epoch: 085, Average loss: 0.43241, Accuracy: 0.82418\n"
          ]
        },
        {
          "output_type": "stream",
          "name": "stderr",
          "text": [
            "100%|██████████| 7957/7957 [00:35<00:00, 226.37it/s]\n"
          ]
        },
        {
          "output_type": "stream",
          "name": "stdout",
          "text": [
            "Epoch: 086, Average loss: 0.42865, Accuracy: 0.81915\n"
          ]
        },
        {
          "output_type": "stream",
          "name": "stderr",
          "text": [
            "100%|██████████| 7957/7957 [00:34<00:00, 232.26it/s]\n"
          ]
        },
        {
          "output_type": "stream",
          "name": "stdout",
          "text": [
            "Epoch: 087, Average loss: 0.43606, Accuracy: 0.81940\n"
          ]
        },
        {
          "output_type": "stream",
          "name": "stderr",
          "text": [
            "100%|██████████| 7957/7957 [00:34<00:00, 231.61it/s]\n"
          ]
        },
        {
          "output_type": "stream",
          "name": "stdout",
          "text": [
            "Epoch: 088, Average loss: 0.43271, Accuracy: 0.82129\n"
          ]
        },
        {
          "output_type": "stream",
          "name": "stderr",
          "text": [
            "100%|██████████| 7957/7957 [00:35<00:00, 221.82it/s]\n"
          ]
        },
        {
          "output_type": "stream",
          "name": "stdout",
          "text": [
            "Epoch: 089, Average loss: 0.42567, Accuracy: 0.82317\n"
          ]
        },
        {
          "output_type": "stream",
          "name": "stderr",
          "text": [
            "100%|██████████| 7957/7957 [00:34<00:00, 231.12it/s]\n"
          ]
        },
        {
          "output_type": "stream",
          "name": "stdout",
          "text": [
            "Epoch: 090, Average loss: 0.43237, Accuracy: 0.81790\n"
          ]
        },
        {
          "output_type": "stream",
          "name": "stderr",
          "text": [
            "100%|██████████| 7957/7957 [00:34<00:00, 233.14it/s]\n"
          ]
        },
        {
          "output_type": "stream",
          "name": "stdout",
          "text": [
            "Epoch: 091, Average loss: 0.43001, Accuracy: 0.82355\n"
          ]
        },
        {
          "output_type": "stream",
          "name": "stderr",
          "text": [
            "100%|██████████| 7957/7957 [00:36<00:00, 216.60it/s]\n"
          ]
        },
        {
          "output_type": "stream",
          "name": "stdout",
          "text": [
            "Epoch: 092, Average loss: 0.42179, Accuracy: 0.82519\n"
          ]
        },
        {
          "output_type": "stream",
          "name": "stderr",
          "text": [
            "100%|██████████| 7957/7957 [00:35<00:00, 223.87it/s]\n"
          ]
        },
        {
          "output_type": "stream",
          "name": "stdout",
          "text": [
            "Epoch: 093, Average loss: 0.42973, Accuracy: 0.82204\n"
          ]
        },
        {
          "output_type": "stream",
          "name": "stderr",
          "text": [
            "100%|██████████| 7957/7957 [00:35<00:00, 227.34it/s]\n"
          ]
        },
        {
          "output_type": "stream",
          "name": "stdout",
          "text": [
            "Epoch: 094, Average loss: 0.42276, Accuracy: 0.82808\n"
          ]
        },
        {
          "output_type": "stream",
          "name": "stderr",
          "text": [
            "100%|██████████| 7957/7957 [00:35<00:00, 222.88it/s]\n"
          ]
        },
        {
          "output_type": "stream",
          "name": "stdout",
          "text": [
            "Epoch: 095, Average loss: 0.42090, Accuracy: 0.82343\n"
          ]
        },
        {
          "output_type": "stream",
          "name": "stderr",
          "text": [
            "100%|██████████| 7957/7957 [00:35<00:00, 226.91it/s]\n"
          ]
        },
        {
          "output_type": "stream",
          "name": "stdout",
          "text": [
            "Epoch: 096, Average loss: 0.42634, Accuracy: 0.82355\n"
          ]
        },
        {
          "output_type": "stream",
          "name": "stderr",
          "text": [
            "100%|██████████| 7957/7957 [00:34<00:00, 231.76it/s]\n"
          ]
        },
        {
          "output_type": "stream",
          "name": "stdout",
          "text": [
            "Epoch: 097, Average loss: 0.42071, Accuracy: 0.82883\n"
          ]
        },
        {
          "output_type": "stream",
          "name": "stderr",
          "text": [
            "100%|██████████| 7957/7957 [00:35<00:00, 225.39it/s]\n"
          ]
        },
        {
          "output_type": "stream",
          "name": "stdout",
          "text": [
            "Epoch: 098, Average loss: 0.42730, Accuracy: 0.82506\n"
          ]
        },
        {
          "output_type": "stream",
          "name": "stderr",
          "text": [
            "100%|██████████| 7957/7957 [00:35<00:00, 225.70it/s]"
          ]
        },
        {
          "output_type": "stream",
          "name": "stdout",
          "text": [
            "Epoch: 099, Average loss: 0.42231, Accuracy: 0.82757\n"
          ]
        },
        {
          "output_type": "stream",
          "name": "stderr",
          "text": [
            "\n"
          ]
        }
      ],
      "source": [
        "#train model\n",
        "model.train() #set model to training mode\n",
        "for epoch in range(100): #run for epochs of training\n",
        "    sum_loss = 0 #used to compute average loss in an epoch\n",
        "    num_correct = 0\n",
        "    random.shuffle(train) #shuffle the training data each epoch\n",
        "    for d in tqdm(train): #go over each training point\n",
        "        data = d[0].to(device) #send data to device\n",
        "        optimizer.zero_grad() #zero gradients\n",
        "        out = model(data, d[1]) #evaluate data point\n",
        "        if torch.argmax(out) == torch.argmax(data.y): #if prediction is correct, increment counter for accuracy calculation\n",
        "            num_correct += 1\n",
        "        loss = CSE(torch.reshape(out, [1, 3]), torch.reshape(torch.argmax(data.y),[1])) #compute mean squared error loss\n",
        "        sum_loss += float(loss) #add loss value to aggregate loss\n",
        "        loss.backward() #compute gradients\n",
        "        optimizer.step() #apply optimization\n",
        "    print('Epoch: {:03d}, Average loss: {:.5f}, Accuracy: {:.5f}'.format(epoch, sum_loss/len(train), num_correct/len(train)))"
      ]
    },
    {
      "cell_type": "code",
      "execution_count": null,
      "metadata": {
        "colab": {
          "base_uri": "https://localhost:8080/",
          "height": 517
        },
        "id": "KN59wgg8itV3",
        "outputId": "2024db3f-e7a6-4ac5-ee0c-5a520359abd6"
      },
      "outputs": [
        {
          "output_type": "stream",
          "name": "stderr",
          "text": [
            "100%|██████████| 1990/1990 [00:02<00:00, 667.10it/s]\n"
          ]
        },
        {
          "output_type": "stream",
          "name": "stdout",
          "text": [
            "Test accuracy: 0.7698492462311558\n"
          ]
        },
        {
          "output_type": "execute_result",
          "data": {
            "text/plain": [
              "(array([624., 694., 672.]),\n",
              " array([0.        , 0.66666667, 1.33333333, 2.        ]),\n",
              " <BarContainer object of 3 artists>)"
            ]
          },
          "metadata": {},
          "execution_count": 8
        },
        {
          "output_type": "display_data",
          "data": {
            "text/plain": [
              "<Figure size 640x480 with 1 Axes>"
            ],
            "image/png": "[encoded data removed]"
          },
          "metadata": {}
        }
      ],
      "source": [
        "#test the model and display a histogram of the outputs\n",
        "num_correct = 0\n",
        "model.eval()\n",
        "predictions = list()\n",
        "y_pred = list()\n",
        "y_true = list()\n",
        "for t in tqdm(test):\n",
        "    d = t[0].to(device)\n",
        "    out = model(d,t[1])\n",
        "    y_true.append(torch.argmax(d.y))\n",
        "    y_pred.append(torch.argmax(out))\n",
        "    if torch.argmax(out) == torch.argmax(d.y): #if prediction is correct, increment counter for accuracy calculation\n",
        "            num_correct += 1\n",
        "    predictions.append(torch.argmax(out).item())\n",
        "\n",
        "print(\"Test accuracy: \" + str(num_correct/len(test)))\n",
        "plt.hist(predictions, bins=3)"
      ]
    },
    {
      "cell_type": "code",
      "execution_count": null,
      "metadata": {
        "colab": {
          "base_uri": "https://localhost:8080/",
          "height": 486
        },
        "id": "zTq0pyD8kLPD",
        "outputId": "72828710-a845-4d3d-e947-a7bf1ac482cc"
      },
      "outputs": [
        {
          "output_type": "stream",
          "name": "stdout",
          "text": [
            "[tensor(2), tensor(2), tensor(2), tensor(2), tensor(1), tensor(0), tensor(2), tensor(0), tensor(0), tensor(2), tensor(0), tensor(1), tensor(2), tensor(2), tensor(1), tensor(2), tensor(1), tensor(2), tensor(1), tensor(0), tensor(1), tensor(0), tensor(2), tensor(1), tensor(1), tensor(0), tensor(0), tensor(1), tensor(2), tensor(2), tensor(1), tensor(0), tensor(1), tensor(2), tensor(0), tensor(1), tensor(0), tensor(2), tensor(0), tensor(2), tensor(0), tensor(0), tensor(0), tensor(1), tensor(1), tensor(0), tensor(2), tensor(1), tensor(0), tensor(2), tensor(1), tensor(1), tensor(1), tensor(1), tensor(2), tensor(2), tensor(1), tensor(1), tensor(1), tensor(2), tensor(2), tensor(1), tensor(1), tensor(1), tensor(2), tensor(0), tensor(0), tensor(2), tensor(2), tensor(2), tensor(2), tensor(2), tensor(1), tensor(2), tensor(0), tensor(2), tensor(2), tensor(2), tensor(2), tensor(2), tensor(1), tensor(0), tensor(0), tensor(1), tensor(1), tensor(2), tensor(2), tensor(1), tensor(2), tensor(2), tensor(1), tensor(2), tensor(0), tensor(0), tensor(2), tensor(2), tensor(0), tensor(1), tensor(0), tensor(1), tensor(2), tensor(0), tensor(2), tensor(0), tensor(0), tensor(2), tensor(2), tensor(1), tensor(1), tensor(2), tensor(2), tensor(0), tensor(0), tensor(1), tensor(2), tensor(0), tensor(1), tensor(0), tensor(1), tensor(1), tensor(0), tensor(1), tensor(0), tensor(1), tensor(1), tensor(2), tensor(2), tensor(2), tensor(2), tensor(1), tensor(1), tensor(2), tensor(1), tensor(1), tensor(0), tensor(1), tensor(0), tensor(1), tensor(1), tensor(1), tensor(0), tensor(2), tensor(2), tensor(1), tensor(1), tensor(1), tensor(1), tensor(2), tensor(1), tensor(2), tensor(1), tensor(1), tensor(0), tensor(0), tensor(1), tensor(1), tensor(2), tensor(0), tensor(1), tensor(0), tensor(1), tensor(1), tensor(0), tensor(0), tensor(0), tensor(2), tensor(1), tensor(2), tensor(0), tensor(2), tensor(1), tensor(2), tensor(0), tensor(0), tensor(2), tensor(1), tensor(1), tensor(1), tensor(1), tensor(1), tensor(1), tensor(2), tensor(1), tensor(0), tensor(2), tensor(0), tensor(1), tensor(1), tensor(2), tensor(0), tensor(1), tensor(1), tensor(1), tensor(1), tensor(2), tensor(2), tensor(2), tensor(2), tensor(1), tensor(2), tensor(0), tensor(2), tensor(2), tensor(0), tensor(1), tensor(2), tensor(2), tensor(2), tensor(2), tensor(0), tensor(1), tensor(0), tensor(1), tensor(1), tensor(2), tensor(1), tensor(2), tensor(2), tensor(2), tensor(0), tensor(1), tensor(2), tensor(2), tensor(0), tensor(0), tensor(2), tensor(1), tensor(0), tensor(0), tensor(1), tensor(0), tensor(1), tensor(1), tensor(0), tensor(2), tensor(1), tensor(1), tensor(2), tensor(2), tensor(2), tensor(1), tensor(2), tensor(2), tensor(2), tensor(1), tensor(1), tensor(1), tensor(2), tensor(1), tensor(0), tensor(1), tensor(1), tensor(2), tensor(0), tensor(0), tensor(1), tensor(0), tensor(1), tensor(0), tensor(1), tensor(0), tensor(2), tensor(0), tensor(0), tensor(1), tensor(1), tensor(0), tensor(2), tensor(1), tensor(1), tensor(1), tensor(2), tensor(2), tensor(0), tensor(0), tensor(0), tensor(2), tensor(1), tensor(2), tensor(1), tensor(2), tensor(2), tensor(1), tensor(1), tensor(1), tensor(0), tensor(1), tensor(2), tensor(2), tensor(1), tensor(1), tensor(1), tensor(2), tensor(1), tensor(2), tensor(2), tensor(1), tensor(2), tensor(1), tensor(1), tensor(0), tensor(0), tensor(1), tensor(0), tensor(1), tensor(2), tensor(0), tensor(1), tensor(0), tensor(1), tensor(0), tensor(0), tensor(0), tensor(1), tensor(1), tensor(1), tensor(2), tensor(0), tensor(1), tensor(2), tensor(2), tensor(0), tensor(0), tensor(1), tensor(1), tensor(1), tensor(1), tensor(1), tensor(1), tensor(2), tensor(2), tensor(1), tensor(1), tensor(2), tensor(2), tensor(0), tensor(2), tensor(1), tensor(0), tensor(1), tensor(1), tensor(1), tensor(2), tensor(2), tensor(1), tensor(0), tensor(2), tensor(1), tensor(1), tensor(0), tensor(0), tensor(1), tensor(0), tensor(1), tensor(2), tensor(0), tensor(1), tensor(0), tensor(0), tensor(0), tensor(1), tensor(1), tensor(1), tensor(1), tensor(0), tensor(1), tensor(1), tensor(0), tensor(1), tensor(0), tensor(2), tensor(2), tensor(1), tensor(2), tensor(1), tensor(2), tensor(2), tensor(1), tensor(2), tensor(2), tensor(1), tensor(2), tensor(0), tensor(0), tensor(0), tensor(0), tensor(0), tensor(1), tensor(0), tensor(1), tensor(1), tensor(0), tensor(0), tensor(2), tensor(2), tensor(2), tensor(2), tensor(1), tensor(0), tensor(2), tensor(1), tensor(0), tensor(1), tensor(0), tensor(2), tensor(1), tensor(1), tensor(2), tensor(1), tensor(1), tensor(2), tensor(1), tensor(2), tensor(1), tensor(0), tensor(0), tensor(2), tensor(1), tensor(2), tensor(0), tensor(0), tensor(2), tensor(1), tensor(2), tensor(1), tensor(0), tensor(1), tensor(0), tensor(1), tensor(1), tensor(0), tensor(2), tensor(1), tensor(1), tensor(2), tensor(1), tensor(1), tensor(0), tensor(1), tensor(2), tensor(0), tensor(2), tensor(2), tensor(2), tensor(0), tensor(2), tensor(2), tensor(0), tensor(1), tensor(0), tensor(2), tensor(1), tensor(2), tensor(2), tensor(0), tensor(0), tensor(0), tensor(2), tensor(2), tensor(0), tensor(2), tensor(0), tensor(2), tensor(0), tensor(1), tensor(1), tensor(0), tensor(0), tensor(0), tensor(1), tensor(1), tensor(2), tensor(0), tensor(2), tensor(0), tensor(2), tensor(1), tensor(2), tensor(2), tensor(0), tensor(0), tensor(1), tensor(2), tensor(0), tensor(1), tensor(1), tensor(2), tensor(1), tensor(0), tensor(0), tensor(0), tensor(1), tensor(2), tensor(1), tensor(2), tensor(2), tensor(1), tensor(0), tensor(1), tensor(0), tensor(1), tensor(2), tensor(2), tensor(1), tensor(1), tensor(1), tensor(1), tensor(0), tensor(0), tensor(1), tensor(2), tensor(2), tensor(0), tensor(0), tensor(2), tensor(1), tensor(0), tensor(1), tensor(1), tensor(0), tensor(1), tensor(1), tensor(0), tensor(2), tensor(1), tensor(2), tensor(1), tensor(1), tensor(0), tensor(1), tensor(1), tensor(0), tensor(1), tensor(2), tensor(2), tensor(1), tensor(0), tensor(2), tensor(2), tensor(1), tensor(2), tensor(0), tensor(1), tensor(1), tensor(2), tensor(1), tensor(0), tensor(1), tensor(1), tensor(2), tensor(2), tensor(1), tensor(1), tensor(2), tensor(2), tensor(1), tensor(0), tensor(1), tensor(2), tensor(2), tensor(0), tensor(2), tensor(2), tensor(0), tensor(2), tensor(1), tensor(2), tensor(2), tensor(2), tensor(0), tensor(1), tensor(2), tensor(1), tensor(2), tensor(1), tensor(0), tensor(2), tensor(0), tensor(0), tensor(0), tensor(1), tensor(1), tensor(2), tensor(1), tensor(2), tensor(1), tensor(2), tensor(2), tensor(2), tensor(2), tensor(2), tensor(1), tensor(0), tensor(2), tensor(0), tensor(1), tensor(0), tensor(0), tensor(2), tensor(1), tensor(1), tensor(0), tensor(1), tensor(1), tensor(1), tensor(2), tensor(1), tensor(0), tensor(0), tensor(1), tensor(0), tensor(2), tensor(0), tensor(1), tensor(1), tensor(1), tensor(1), tensor(2), tensor(2), tensor(1), tensor(2), tensor(2), tensor(2), tensor(1), tensor(1), tensor(2), tensor(1), tensor(1), tensor(2), tensor(2), tensor(0), tensor(1), tensor(2), tensor(0), tensor(0), tensor(0), tensor(0), tensor(2), tensor(0), tensor(0), tensor(2), tensor(2), tensor(2), tensor(0), tensor(1), tensor(0), tensor(2), tensor(2), tensor(1), tensor(2), tensor(1), tensor(0), tensor(0), tensor(0), tensor(1), tensor(1), tensor(1), tensor(1), tensor(1), tensor(0), tensor(1), tensor(1), tensor(1), tensor(0), tensor(1), tensor(2), tensor(2), tensor(1), tensor(0), tensor(2), tensor(2), tensor(2), tensor(0), tensor(1), tensor(0), tensor(2), tensor(2), tensor(1), tensor(0), tensor(0), tensor(2), tensor(0), tensor(1), tensor(2), tensor(2), tensor(0), tensor(2), tensor(0), tensor(2), tensor(0), tensor(1), tensor(0), tensor(0), tensor(0), tensor(1), tensor(2), tensor(0), tensor(1), tensor(1), tensor(0), tensor(1), tensor(1), tensor(2), tensor(0), tensor(1), tensor(1), tensor(0), tensor(1), tensor(2), tensor(0), tensor(0), tensor(0), tensor(0), tensor(1), tensor(2), tensor(1), tensor(1), tensor(0), tensor(0), tensor(2), tensor(2), tensor(2), tensor(2), tensor(2), tensor(0), tensor(0), tensor(1), tensor(1), tensor(2), tensor(1), tensor(0), tensor(0), tensor(1), tensor(2), tensor(0), tensor(0), tensor(0), tensor(0), tensor(1), tensor(0), tensor(2), tensor(1), tensor(1), tensor(2), tensor(2), tensor(2), tensor(2), tensor(2), tensor(2), tensor(0), tensor(2), tensor(0), tensor(1), tensor(0), tensor(0), tensor(2), tensor(0), tensor(1), tensor(0), tensor(2), tensor(0), tensor(1), tensor(2), tensor(0), tensor(1), tensor(0), tensor(0), tensor(0), tensor(2), tensor(2), tensor(1), tensor(1), tensor(2), tensor(0), tensor(0), tensor(2), tensor(1), tensor(2), tensor(1), tensor(0), tensor(1), tensor(0), tensor(1), tensor(0), tensor(2), tensor(1), tensor(0), tensor(0), tensor(2), tensor(1), tensor(2), tensor(2), tensor(1), tensor(0), tensor(1), tensor(1), tensor(2), tensor(2), tensor(2), tensor(1), tensor(1), tensor(2), tensor(2), tensor(2), tensor(0), tensor(2), tensor(0), tensor(2), tensor(1), tensor(0), tensor(0), tensor(0), tensor(1), tensor(2), tensor(0), tensor(2), tensor(0), tensor(0), tensor(2), tensor(1), tensor(2), tensor(2), tensor(1), tensor(0), tensor(1), tensor(1), tensor(0), tensor(0), tensor(2), tensor(1), tensor(2), tensor(2), tensor(2), tensor(1), tensor(2), tensor(2), tensor(0), tensor(2), tensor(1), tensor(2), tensor(2), tensor(1), tensor(2), tensor(1), tensor(2), tensor(1), tensor(0), tensor(2), tensor(0), tensor(0), tensor(1), tensor(1), tensor(0), tensor(2), tensor(2), tensor(1), tensor(0), tensor(0), tensor(1), tensor(2), tensor(0), tensor(2), tensor(1), tensor(0), tensor(1), tensor(1), tensor(0), tensor(1), tensor(2), tensor(0), tensor(1), tensor(0), tensor(2), tensor(0), tensor(1), tensor(2), tensor(2), tensor(1), tensor(2), tensor(1), tensor(2), tensor(0), tensor(0), tensor(2), tensor(2), tensor(0), tensor(2), tensor(2), tensor(2), tensor(1), tensor(0), tensor(2), tensor(0), tensor(0), tensor(1), tensor(1), tensor(1), tensor(2), tensor(2), tensor(0), tensor(0), tensor(0), tensor(0), tensor(1), tensor(1), tensor(1), tensor(2), tensor(1), tensor(1), tensor(1), tensor(1), tensor(2), tensor(0), tensor(0), tensor(1), tensor(2), tensor(1), tensor(1), tensor(2), tensor(0), tensor(2), tensor(2), tensor(2), tensor(1), tensor(0), tensor(1), tensor(0), tensor(2), tensor(2), tensor(2), tensor(2), tensor(2), tensor(1), tensor(1), tensor(2), tensor(0), tensor(2), tensor(1), tensor(2), tensor(0), tensor(1), tensor(2), tensor(2), tensor(2), tensor(2), tensor(1), tensor(2), tensor(2), tensor(2), tensor(0), tensor(1), tensor(1), tensor(0), tensor(2), tensor(0), tensor(1), tensor(0), tensor(2), tensor(0), tensor(0), tensor(0), tensor(2), tensor(0), tensor(1), tensor(0), tensor(1), tensor(0), tensor(0), tensor(2), tensor(2), tensor(1), tensor(1), tensor(1), tensor(0), tensor(0), tensor(1), tensor(2), tensor(2), tensor(0), tensor(0), tensor(2), tensor(2), tensor(0), tensor(1), tensor(2), tensor(2), tensor(2), tensor(2), tensor(1), tensor(1), tensor(1), tensor(2), tensor(0), tensor(2), tensor(2), tensor(0), tensor(0), tensor(1), tensor(2), tensor(0), tensor(0), tensor(1), tensor(2), tensor(1), tensor(2), tensor(0), tensor(1), tensor(1), tensor(1), tensor(1), tensor(1), tensor(0), tensor(0), tensor(1), tensor(2), tensor(0), tensor(2), tensor(1), tensor(0), tensor(2), tensor(1), tensor(0), tensor(1), tensor(2), tensor(2), tensor(1), tensor(1), tensor(2), tensor(2), tensor(1), tensor(2), tensor(0), tensor(1), tensor(2), tensor(1), tensor(1), tensor(0), tensor(1), tensor(2), tensor(1), tensor(0), tensor(1), tensor(1), tensor(2), tensor(0), tensor(2), tensor(2), tensor(0), tensor(0), tensor(1), tensor(1), tensor(0), tensor(0), tensor(1), tensor(2), tensor(2), tensor(0), tensor(1), tensor(2), tensor(0), tensor(1), tensor(2), tensor(2), tensor(1), tensor(0), tensor(0), tensor(1), tensor(1), tensor(2), tensor(1), tensor(0), tensor(0), tensor(0), tensor(0), tensor(1), tensor(1), tensor(2), tensor(1), tensor(0), tensor(0), tensor(0), tensor(2), tensor(0), tensor(0), tensor(2), tensor(2), tensor(2), tensor(1), tensor(0), tensor(2), tensor(0), tensor(2), tensor(1), tensor(0), tensor(2), tensor(2), tensor(1), tensor(1), tensor(0), tensor(2), tensor(1), tensor(0), tensor(1), tensor(2), tensor(1), tensor(2), tensor(2), tensor(2), tensor(1), tensor(0), tensor(1), tensor(1), tensor(2), tensor(2), tensor(2), tensor(1), tensor(1), tensor(2), tensor(0), tensor(2), tensor(0), tensor(1), tensor(2), tensor(2), tensor(0), tensor(0), tensor(2), tensor(2), tensor(2), tensor(2), tensor(0), tensor(0), tensor(0), tensor(1), tensor(2), tensor(0), tensor(0), tensor(0), tensor(2), tensor(2), tensor(0), tensor(2), tensor(0), tensor(1), tensor(1), tensor(2), tensor(0), tensor(1), tensor(2), tensor(2), tensor(1), tensor(2), tensor(1), tensor(0), tensor(1), tensor(1), tensor(1), tensor(2), tensor(2), tensor(1), tensor(1), tensor(0), tensor(0), tensor(2), tensor(1), tensor(2), tensor(2), tensor(2), tensor(1), tensor(1), tensor(2), tensor(2), tensor(2), tensor(1), tensor(0), tensor(2), tensor(0), tensor(1), tensor(1), tensor(1), tensor(1), tensor(2), tensor(1), tensor(1), tensor(1), tensor(0), tensor(2), tensor(0), tensor(1), tensor(2), tensor(0), tensor(2), tensor(1), tensor(1), tensor(0), tensor(1), tensor(1), tensor(0), tensor(0), tensor(0), tensor(0), tensor(0), tensor(1), tensor(2), tensor(2), tensor(1), tensor(1), tensor(0), tensor(0), tensor(1), tensor(0), tensor(2), tensor(0), tensor(2), tensor(0), tensor(2), tensor(1), tensor(2), tensor(2), tensor(1), tensor(2), tensor(1), tensor(2), tensor(0), tensor(1), tensor(0), tensor(0), tensor(0), tensor(2), tensor(1), tensor(1), tensor(1), tensor(2), tensor(1), tensor(2), tensor(0), tensor(0), tensor(0), tensor(2), tensor(2), tensor(2), tensor(2), tensor(2), tensor(0), tensor(1), tensor(2), tensor(1), tensor(1), tensor(0), tensor(1), tensor(0), tensor(0), tensor(0), tensor(0), tensor(2), tensor(2), tensor(0), tensor(2), tensor(1), tensor(1), tensor(0), tensor(1), tensor(1), tensor(0), tensor(1), tensor(2), tensor(1), tensor(1), tensor(0), tensor(0), tensor(2), tensor(1), tensor(1), tensor(2), tensor(1), tensor(2), tensor(0), tensor(0), tensor(2), tensor(1), tensor(2), tensor(0), tensor(1), tensor(1), tensor(1), tensor(2), tensor(2), tensor(1), tensor(1), tensor(2), tensor(1), tensor(1), tensor(2), tensor(2), tensor(2), tensor(2), tensor(0), tensor(1), tensor(1), tensor(1), tensor(1), tensor(1), tensor(1), tensor(0), tensor(0), tensor(0), tensor(2), tensor(1), tensor(2), tensor(1), tensor(1), tensor(0), tensor(0), tensor(1), tensor(0), tensor(2), tensor(1), tensor(0), tensor(2), tensor(1), tensor(1), tensor(0), tensor(2), tensor(1), tensor(2), tensor(0), tensor(2), tensor(2), tensor(0), tensor(1), tensor(2), tensor(2), tensor(0), tensor(2), tensor(1), tensor(1), tensor(2), tensor(0), tensor(2), tensor(0), tensor(2), tensor(0), tensor(2), tensor(2), tensor(1), tensor(0), tensor(2), tensor(1), tensor(1), tensor(1), tensor(0), tensor(2), tensor(1), tensor(1), tensor(0), tensor(0), tensor(1), tensor(2), tensor(2), tensor(1), tensor(1), tensor(2), tensor(0), tensor(1), tensor(0), tensor(0), tensor(2), tensor(1), tensor(2), tensor(0), tensor(0), tensor(0), tensor(1), tensor(2), tensor(0), tensor(2), tensor(2), tensor(1), tensor(1), tensor(2), tensor(0), tensor(1), tensor(1), tensor(0), tensor(1), tensor(1), tensor(2), tensor(1), tensor(1), tensor(2), tensor(0), tensor(2), tensor(1), tensor(2), tensor(0), tensor(2), tensor(1), tensor(0), tensor(0), tensor(0), tensor(2), tensor(1), tensor(1), tensor(2), tensor(1), tensor(0), tensor(0), tensor(2), tensor(0), tensor(0), tensor(0), tensor(0), tensor(1), tensor(0), tensor(0), tensor(2), tensor(2), tensor(0), tensor(1), tensor(1), tensor(0), tensor(2), tensor(2), tensor(1), tensor(1), tensor(0), tensor(1), tensor(2), tensor(1), tensor(0), tensor(0), tensor(0), tensor(0), tensor(0), tensor(1), tensor(2), tensor(0), tensor(0), tensor(1), tensor(0), tensor(1), tensor(2), tensor(1), tensor(2), tensor(1), tensor(2), tensor(1), tensor(0), tensor(1), tensor(0), tensor(0), tensor(0), tensor(2), tensor(0), tensor(2), tensor(0), tensor(1), tensor(2), tensor(0), tensor(0), tensor(2), tensor(1), tensor(0), tensor(2), tensor(2), tensor(2), tensor(0), tensor(2), tensor(2), tensor(0), tensor(1), tensor(2), tensor(2), tensor(0), tensor(0), tensor(0), tensor(1), tensor(1), tensor(1), tensor(2), tensor(1), tensor(0), tensor(2), tensor(2), tensor(1), tensor(0), tensor(2), tensor(0), tensor(1), tensor(2), tensor(0), tensor(0), tensor(1), tensor(0), tensor(1), tensor(2), tensor(1), tensor(0), tensor(2), tensor(1), tensor(2), tensor(0), tensor(1), tensor(2), tensor(1), tensor(2), tensor(1), tensor(0), tensor(2), tensor(1), tensor(1), tensor(0), tensor(1), tensor(1), tensor(0), tensor(0), tensor(2), tensor(1), tensor(2), tensor(2), tensor(2), tensor(0), tensor(1), tensor(2), tensor(0), tensor(0), tensor(2), tensor(1), tensor(2), tensor(1), tensor(2), tensor(0), tensor(0), tensor(1), tensor(2), tensor(2), tensor(0), tensor(1), tensor(1), tensor(2), tensor(2), tensor(0), tensor(2), tensor(1), tensor(1), tensor(1), tensor(1), tensor(0), tensor(1), tensor(0), tensor(2), tensor(2), tensor(2), tensor(0), tensor(2), tensor(1), tensor(0), tensor(1), tensor(2), tensor(0), tensor(2), tensor(2), tensor(1), tensor(0), tensor(2), tensor(1), tensor(0), tensor(2), tensor(2), tensor(2), tensor(0), tensor(0), tensor(1), tensor(0), tensor(2), tensor(2), tensor(0), tensor(2), tensor(2), tensor(2), tensor(2), tensor(2), tensor(2), tensor(2), tensor(1), tensor(2), tensor(2), tensor(1), tensor(1), tensor(0), tensor(0), tensor(1), tensor(0), tensor(1), tensor(2), tensor(0), tensor(1), tensor(0), tensor(2), tensor(0), tensor(0), tensor(2), tensor(1), tensor(2), tensor(2), tensor(0), tensor(1), tensor(2), tensor(1), tensor(2), tensor(1), tensor(0), tensor(0), tensor(0), tensor(2), tensor(0), tensor(2), tensor(0), tensor(2), tensor(2), tensor(1), tensor(0), tensor(0), tensor(2), tensor(2), tensor(0), tensor(0), tensor(0), tensor(0), tensor(2), tensor(1), tensor(2), tensor(1), tensor(0), tensor(2), tensor(2), tensor(1), tensor(2), tensor(1), tensor(0), tensor(0), tensor(1), tensor(1), tensor(2), tensor(0), tensor(0), tensor(0), tensor(1), tensor(1), tensor(2), tensor(2), tensor(0), tensor(1), tensor(0), tensor(1), tensor(1), tensor(0), tensor(2), tensor(1), tensor(1), tensor(0), tensor(2), tensor(1), tensor(0), tensor(2), tensor(1), tensor(0), tensor(0), tensor(2), tensor(2), tensor(1), tensor(0), tensor(1), tensor(2), tensor(2), tensor(0), tensor(1), tensor(0), tensor(0), tensor(1), tensor(1), tensor(2), tensor(0), tensor(2), tensor(0), tensor(2), tensor(1), tensor(2), tensor(0), tensor(2), tensor(0), tensor(2), tensor(1), tensor(1), tensor(0), tensor(0), tensor(2), tensor(1), tensor(1), tensor(1), tensor(0), tensor(2), tensor(0), tensor(0), tensor(1), tensor(0), tensor(2), tensor(1), tensor(0), tensor(1), tensor(2), tensor(0), tensor(1), tensor(1), tensor(1), tensor(2), tensor(2), tensor(2), tensor(1), tensor(0), tensor(0), tensor(1), tensor(2), tensor(2), tensor(1), tensor(0), tensor(2), tensor(2), tensor(2), tensor(0), tensor(1), tensor(2), tensor(1), tensor(1), tensor(1), tensor(1), tensor(0), tensor(1), tensor(0), tensor(1), tensor(1), tensor(0), tensor(2), tensor(0), tensor(0), tensor(2), tensor(0), tensor(2), tensor(1), tensor(0), tensor(0), tensor(2), tensor(0), tensor(1), tensor(1), tensor(2), tensor(1), tensor(2), tensor(2), tensor(0), tensor(2), tensor(2), tensor(1), tensor(2), tensor(1), tensor(1), tensor(1), tensor(2), tensor(1), tensor(0), tensor(2), tensor(0), tensor(0), tensor(2), tensor(1), tensor(1), tensor(0), tensor(1), tensor(1), tensor(2), tensor(2), tensor(1), tensor(0), tensor(2), tensor(1), tensor(0), tensor(1), tensor(1), tensor(0), tensor(0), tensor(2), tensor(1), tensor(2), tensor(2), tensor(0), tensor(0), tensor(2), tensor(2), tensor(1), tensor(0), tensor(2), tensor(2), tensor(1), tensor(2), tensor(0), tensor(1), tensor(0), tensor(0), tensor(1), tensor(1), tensor(1), tensor(0), tensor(1), tensor(0), tensor(1), tensor(1), tensor(2), tensor(2), tensor(1), tensor(0), tensor(0), tensor(0), tensor(0), tensor(0), tensor(2), tensor(0), tensor(1), tensor(2), tensor(2), tensor(0), tensor(1), tensor(0), tensor(1), tensor(2), tensor(0), tensor(0), tensor(0), tensor(1), tensor(2), tensor(2), tensor(1), tensor(2), tensor(1), tensor(1), tensor(2), tensor(1), tensor(0), tensor(2), tensor(1), tensor(0), tensor(1), tensor(1), tensor(2), tensor(1), tensor(0), tensor(0), tensor(0), tensor(0), tensor(2), tensor(2), tensor(0), tensor(1), tensor(2), tensor(2), tensor(0), tensor(0), tensor(2), tensor(1), tensor(1), tensor(0), tensor(2), tensor(1), tensor(0), tensor(2), tensor(0), tensor(0), tensor(2), tensor(1), tensor(0), tensor(0), tensor(1), tensor(2), tensor(0), tensor(0), tensor(0), tensor(0), tensor(0), tensor(0), tensor(0), tensor(2), tensor(0), tensor(2), tensor(1), tensor(1), tensor(1), tensor(2), tensor(2), tensor(1), tensor(2), tensor(2), tensor(2), tensor(0), tensor(2), tensor(0), tensor(0), tensor(1), tensor(0), tensor(2), tensor(0), tensor(1), tensor(2), tensor(0), tensor(1), tensor(0), tensor(2), tensor(0), tensor(2), tensor(1), tensor(1), tensor(1), tensor(0), tensor(1), tensor(1), tensor(2), tensor(0), tensor(1), tensor(1), tensor(2), tensor(1), tensor(0), tensor(2), tensor(1), tensor(0), tensor(1), tensor(1), tensor(1), tensor(1), tensor(2), tensor(2), tensor(0), tensor(1), tensor(0), tensor(0), tensor(2), tensor(0), tensor(1), tensor(2), tensor(2), tensor(2), tensor(1), tensor(0), tensor(2), tensor(0), tensor(1), tensor(0), tensor(0), tensor(0), tensor(1), tensor(0), tensor(1), tensor(2), tensor(1), tensor(0), tensor(2), tensor(2), tensor(1), tensor(0), tensor(2), tensor(1), tensor(1), tensor(1), tensor(2), tensor(1), tensor(1), tensor(2), tensor(0), tensor(0), tensor(0), tensor(0), tensor(1), tensor(2), tensor(0), tensor(2), tensor(0), tensor(0), tensor(0), tensor(0), tensor(1), tensor(2), tensor(0)]\n"
          ]
        },
        {
          "output_type": "display_data",
          "data": {
            "text/plain": [
              "<Figure size 640x480 with 2 Axes>"
            ],
            "image/png": "[encoded data removed]"
          },
          "metadata": {}
        }
      ],
      "source": [
        "import sklearn\n",
        "from sklearn import metrics\n",
        "print(y_pred)\n",
        "cm = sklearn.metrics.confusion_matrix(y_true, y_pred)\n",
        "cm_display = metrics.ConfusionMatrixDisplay(confusion_matrix = cm, display_labels = [\"Insoluble\", \"Somewhat Solube\", \"Very Soluble\"])\n",
        "\n",
        "import matplotlib.pyplot as plt\n",
        "\n",
        "cm_display.plot()\n",
        "plt.show()\n",
        "\n",
        "\n",
        "\n",
        "\n"
      ]
    },
    {
      "cell_type": "code",
      "execution_count": null,
      "metadata": {
        "id": "tssS7J7HitV3"
      },
      "outputs": [],
      "source": []
    },
    {
      "cell_type": "code",
      "execution_count": null,
      "metadata": {
        "id": "mf6Oh4JU2q8V"
      },
      "outputs": [],
      "source": []
    }
  ],
  "metadata": {
    "colab": {
      "provenance": []
    },
    "kernelspec": {
      "display_name": "Python 3",
      "language": "python",
      "name": "python3"
    },
    "language_info": {
      "codemirror_mode": {
        "name": "ipython",
        "version": 3
      },
      "file_extension": ".py",
      "mimetype": "text/x-python",
      "name": "python",
      "nbconvert_exporter": "python",
      "pygments_lexer": "ipython3",
      "version": "3.6.4"
    }
  },
  "nbformat": 4,
  "nbformat_minor": 0
}