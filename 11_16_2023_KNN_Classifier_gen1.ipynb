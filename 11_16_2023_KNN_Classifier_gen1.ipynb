{
  "nbformat": 4,
  "nbformat_minor": 0,
  "metadata": {
    "colab": {
      "provenance": []
    },
    "kernelspec": {
      "name": "python3",
      "display_name": "Python 3"
    },
    "language_info": {
      "name": "python"
    }
  },
  "cells": [
    {
      "cell_type": "code",
      "execution_count": 77,
      "metadata": {
        "colab": {
          "base_uri": "https://localhost:8080/"
        },
        "id": "7bu2T13c2DEn",
        "outputId": "8305fef0-49cb-4b18-817f-5b9c4f0ce5b1"
      },
      "outputs": [
        {
          "output_type": "stream",
          "name": "stdout",
          "text": [
            "Drive already mounted at /content/drive/; to attempt to forcibly remount, call drive.mount(\"/content/drive/\", force_remount=True).\n",
            "num_samples, num_features (9982, 19)\n",
            "num_labels (9982,)\n",
            "labels [0 1 2]\n",
            "Training shape:  (6987, 19)\n",
            "Validation shape:  (1497, 19)\n",
            "Testing shape:  (1498, 19)\n"
          ]
        }
      ],
      "source": [
        "import numpy as np\n",
        "from google.colab import drive\n",
        "import csv\n",
        "import torch\n",
        "from sklearn.model_selection import train_test_split\n",
        "np.set_printoptions(precision=3,suppress=True)\n",
        "\n",
        "#Read in data\n",
        "drive.mount('/content/drive/')\n",
        "with open('/content/drive/MyDrive/curated-solubility-dataset.csv', 'r') as f:\n",
        "    l = csv.reader(f)\n",
        "    data = np.array([list(filter(None,i)) for i in l])\n",
        "    X = data[1:,9:-1].astype(np.double)\n",
        "    y = data[1:,5].astype(np.double)\n",
        "\n",
        "#Convert to labels to value\n",
        "y = [0 if value < 0 else 1 if 0.05 <= value < 1 else 2 for value in y]\n",
        "y = np.asarray(y)\n",
        "\n",
        "#Partition\n",
        "X_train, X_test, y_train, y_test = train_test_split(X,y, train_size = .7, shuffle=True )\n",
        "X_val, X_test, y_val, y_test = train_test_split(X_test, y_test, train_size = .5)\n",
        "\n",
        "X_train = np.asfarray(X_train)\n",
        "X_val = np.asfarray(X_val)\n",
        "X_test = np.asfarray(X_test)\n",
        "\n",
        "#Dataset and label features\n",
        "print('num_samples, num_features', X.shape)\n",
        "print('num_labels', y.shape)\n",
        "print('labels', np.unique(y))\n",
        "\n",
        "#Paritioned data features\n",
        "print(\"Training shape: \", str(X_train.shape))\n",
        "print(\"Validation shape: \", str(X_val.shape))\n",
        "print(\"Testing shape: \", str(X_test.shape))"
      ]
    },
    {
      "cell_type": "code",
      "source": [
        "#Test different number of neighbors each knn model for each\n",
        "from sklearn.neighbors import KNeighborsClassifier\n",
        "\n",
        "models = {}\n",
        "for i in [1,3,5,10,15,25,50,75,100,250,500,1000]:\n",
        "  print(\"# of neighbors: \", i)\n",
        "  knn = KNeighborsClassifier(n_neighbors=i)\n",
        "  models[i] = knn.fit(X_train, y_train)"
      ],
      "metadata": {
        "colab": {
          "base_uri": "https://localhost:8080/"
        },
        "id": "Z8fdqHor2Myt",
        "outputId": "fd00bab1-d31e-4804-ad52-9a3c23e8f12b"
      },
      "execution_count": 78,
      "outputs": [
        {
          "output_type": "stream",
          "name": "stdout",
          "text": [
            "# of neighbors:  1\n",
            "# of neighbors:  3\n",
            "# of neighbors:  5\n",
            "# of neighbors:  10\n",
            "# of neighbors:  15\n",
            "# of neighbors:  25\n",
            "# of neighbors:  50\n",
            "# of neighbors:  75\n",
            "# of neighbors:  100\n",
            "# of neighbors:  250\n",
            "# of neighbors:  500\n",
            "# of neighbors:  1000\n"
          ]
        }
      ]
    },
    {
      "cell_type": "code",
      "source": [
        "# Accuracy on each model with varying nneigs\n",
        "import sklearn.metrics as metrics\n",
        "\n",
        "for i in models:\n",
        "  y_predict = models[i].predict(X_val)\n",
        "  acc = metrics.accuracy_score(y_val, y_predict)\n",
        "  print(f'Classification Rate using {i} neighbors: {acc*100:.2f}%')"
      ],
      "metadata": {
        "colab": {
          "base_uri": "https://localhost:8080/"
        },
        "id": "iXWJAiGk-vUm",
        "outputId": "062e0aa3-63f7-4329-8972-82c42a5f79c8"
      },
      "execution_count": 79,
      "outputs": [
        {
          "output_type": "stream",
          "name": "stdout",
          "text": [
            "Classification Rate using 1 neighbors: 97.73%\n",
            "Classification Rate using 3 neighbors: 96.86%\n",
            "Classification Rate using 5 neighbors: 96.66%\n",
            "Classification Rate using 10 neighbors: 96.06%\n",
            "Classification Rate using 15 neighbors: 95.32%\n",
            "Classification Rate using 25 neighbors: 95.26%\n",
            "Classification Rate using 50 neighbors: 93.92%\n",
            "Classification Rate using 75 neighbors: 93.59%\n",
            "Classification Rate using 100 neighbors: 93.39%\n",
            "Classification Rate using 250 neighbors: 90.71%\n",
            "Classification Rate using 500 neighbors: 89.11%\n",
            "Classification Rate using 1000 neighbors: 87.64%\n"
          ]
        }
      ]
    },
    {
      "cell_type": "code",
      "source": [
        "# Train and evaluate best model on X_train and X_val\n",
        "nneigs = 3\n",
        "\n",
        "X_trainval = np.concatenate((X_train, X_val), 0)\n",
        "y_trainval = np.concatenate((y_train, y_val), 0)\n",
        "\n",
        "knn = KNeighborsClassifier(n_neighbors=nneigs)\n",
        "model = knn.fit(X_trainval, y_trainval)\n",
        "y_predict = model.predict(X_test)\n",
        "\n",
        "acc = metrics.accuracy_score(y_test, y_predict)\n",
        "cm = metrics.confusion_matrix(y_test, y_predict)\n",
        "print(f'Classification Rate of {nneigs} neighbors: {acc*100:.2f}%\\n')\n",
        "print(f'Confusion Matrix of {nneigs} neighbors:')\n",
        "print(cm)"
      ],
      "metadata": {
        "id": "dI0BI_zw3upU",
        "colab": {
          "base_uri": "https://localhost:8080/"
        },
        "outputId": "faae0c2b-af32-4992-fc57-d4d172b4e022"
      },
      "execution_count": 80,
      "outputs": [
        {
          "output_type": "stream",
          "name": "stdout",
          "text": [
            "Classification Rate of 3 neighbors: 97.53%\n",
            "\n",
            "Confusion Matrix of 3 neighbors:\n",
            "[[1334    3    0]\n",
            " [  20  110    3]\n",
            " [   7    4   17]]\n"
          ]
        }
      ]
    }
  ]
}