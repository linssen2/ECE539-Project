{
  "nbformat": 4,
  "nbformat_minor": 0,
  "metadata": {
    "colab": {
      "provenance": []
    },
    "kernelspec": {
      "name": "python3",
      "display_name": "Python 3"
    },
    "language_info": {
      "name": "python"
    }
  },
  "cells": [
    {
      "cell_type": "code",
      "execution_count": null,
      "metadata": {
        "colab": {
          "base_uri": "https://localhost:8080/"
        },
        "id": "iiYyDcpqjMoJ",
        "outputId": "2a50b50c-dfb3-4390-c05d-9ccf564b7ff6"
      },
      "outputs": [
        {
          "output_type": "stream",
          "name": "stdout",
          "text": [
            "-----------------------------------------------------\n",
            "loading dataset...\n",
            "-----------------------------------------------------\n",
            "Drive already mounted at /content/drive/; to attempt to forcibly remount, call drive.mount(\"/content/drive/\", force_remount=True).\n",
            "num_samples, num_features (9982, 19)\n",
            "labels (9982,)\n",
            "-----------------------------------------------------\n",
            "Splitting dataset into train/test/val and normalizing\n",
            "-----------------------------------------------------\n",
            "Training features mean: -4.918824992004188e-16, std: 1.0000000000000036, shape: (6987, 19)\n",
            "Validation features mean: 0.0007712258611146494, std: 0.9052830530325855, shape: (1497, 19)\n",
            "Testing features mean: 0.048296642806657054, std: 1.222505604879925, shape: (1498, 19)\n"
          ]
        }
      ],
      "source": [
        "import numpy as np\n",
        "from google.colab import drive\n",
        "import csv\n",
        "import sklearn.model_selection\n",
        "# makes printing more human-friendly\n",
        "np.set_printoptions(precision=3,suppress=True)\n",
        "\n",
        "#Function to process the dataset. Input the google drive path to the dataset as well as the percentage of train and test\n",
        "#Function outputs the standardized train, test, val datasets and labels as well as the std and mean used to standardize\n",
        "#Output is: X_train, y_train, X_val, y_val, X_test, y_test, mean, std\n",
        "def process_dataset(path='SolPred/curated-solubility-dataset.csv', train_percentage=0.7, test_percentage=0.15, val_percentage=0.15):\n",
        "\n",
        "\n",
        "  #Loads the database and takes out specific indices as labels and features. If changing dataset change those indexes\n",
        "  def loaddataset(path):\n",
        "      drive.mount('/content/drive/')\n",
        "      with open('/content/drive/MyDrive/'+path, 'r') as f:\n",
        "        l = csv.reader(f)\n",
        "        data = np.array([list(filter(None,i)) for i in l])\n",
        "        X = data[1:,9:-1]\n",
        "        y = data[1:,5]\n",
        "        return X.astype(np.double),y.astype(np.double)\n",
        "\n",
        "  #Splits the data into training data, validation data, and testing data, and normalizes the data with respect to the training portion\n",
        "  #Returns the X_train, y_train, X_val, y_val, X_test, y_val, train_mean, train_std\n",
        "  def traintestsplit_and_normalize(train_p, test_p, val_p, features, labels):\n",
        "    #Split data\n",
        "    X_train, X_temp, y_train, y_temp = sklearn.model_selection.train_test_split(features,labels, train_size = train_p, shuffle=True )\n",
        "    X_val, X_test, y_val, y_test = sklearn.model_selection.train_test_split(X_temp, y_temp, train_size = val_p/(val_p+test_p))\n",
        "\n",
        "    X_train = np.asfarray(X_train)\n",
        "    X_val = np.asfarray(X_val)\n",
        "    X_test = np.asfarray(X_test)\n",
        "\n",
        "    X_mean = np.mean(X_train, axis=0)\n",
        "    X_std = np.std(X_train, axis=0)\n",
        "\n",
        "    X_train = (X_train-X_mean)/X_std\n",
        "    X_val = (X_val-X_mean)/X_std\n",
        "    X_test = (X_test-X_mean)/X_std\n",
        "    return X_train, y_train, X_val, y_val, X_test, y_test, X_mean, X_std\n",
        "  print('-----------------------------------------------------')\n",
        "\n",
        "  print('loading dataset...')\n",
        "  print('-----------------------------------------------------')\n",
        "\n",
        "  X,y = loaddataset(path)\n",
        "\n",
        "  #print(X[1])\n",
        "  print('num_samples, num_features', X.shape)\n",
        "  print('labels', y.shape)\n",
        "\n",
        "  print('-----------------------------------------------------')\n",
        "  print('Splitting dataset into train/test/val and normalizing')\n",
        "  print('-----------------------------------------------------')\n",
        "\n",
        "  X_train, y_train, X_val, y_val, X_test, y_test, X_mean, X_std = traintestsplit_and_normalize(train_percentage,val_percentage,test_percentage,X,y)\n",
        "  print(\"Training features mean: \" + str(np.mean(X_train)) + \", std: \" + str(np.std(X_train)) + \", shape: \" + str(X_train.shape))\n",
        "  print(\"Validation features mean: \" + str(np.mean(X_val)) + \", std: \" + str(np.std(X_val)) + \", shape: \" + str(X_val.shape))\n",
        "  print(\"Testing features mean: \" + str(np.mean(X_test)) + \", std: \" + str(np.std(X_test)) + \", shape: \" + str(X_test.shape))\n",
        "\n",
        "  return X_train, y_train, X_val, y_val, X_test, y_test, X_mean, X_std\n",
        "\n",
        "#Processes dataset with default values\n",
        "X_train, y_train, X_val, y_val, X_test, y_test, mean, std = process_dataset()"
      ]
    },
    {
      "cell_type": "code",
      "source": [
        "import random\n",
        "import torch\n",
        "\n",
        "def data_iter(batch_size, features, labels):\n",
        "  num_samples = len(features)\n",
        "  indices = list(range(num_samples))\n",
        "  random.shuffle(indices)\n",
        "\n",
        "  for i in range(0, num_samples, batch_size):\n",
        "    X, y = [],[]\n",
        "    for j in indices[i:i+batch_size]:\n",
        "      X.append(torch.from_numpy(features[j]))\n",
        "      y.append(torch.from_numpy(np.array(labels[j])))\n",
        "    yield torch.stack(X), torch.stack(y)\n",
        "\n",
        "for X_batch, y_batch in data_iter(10, X_train,y_train):\n",
        "  print('X_batch', X_batch.shape, X_batch.dtype)\n",
        "  print('y_batch', y_batch.shape, y_batch.dtype)\n",
        "  break"
      ],
      "metadata": {
        "colab": {
          "base_uri": "https://localhost:8080/"
        },
        "id": "u4LpOct0jnaI",
        "outputId": "3276eb83-8ffc-4cb4-db60-f6e3509d8a95"
      },
      "execution_count": null,
      "outputs": [
        {
          "output_type": "stream",
          "name": "stdout",
          "text": [
            "X_batch torch.Size([10, 19]) torch.float64\n",
            "y_batch torch.Size([10]) torch.float64\n"
          ]
        }
      ]
    },
    {
      "cell_type": "code",
      "source": [
        "from torch import nn\n",
        "class LinearANN(nn.Module):\n",
        "  def __init__(self, input_dim):\n",
        "        super(LinearANN, self).__init__()\n",
        "        self.layer1 = nn.Linear(input_dim, 64)\n",
        "        self.softmax = nn.Softmax(dim=1)\n",
        "        self.layer2 = nn.Linear(64,32)\n",
        "        self.layer3 = nn.Linear(32,16)\n",
        "        self.layer4 = nn.Linear(16,1)\n",
        "        self.relu = nn.ReLU()\n",
        "        self.double()\n",
        "\n",
        "  def forward(self, x):\n",
        "        x = self.relu(self.layer1(x))\n",
        "        x = self.relu(self.layer2(x))\n",
        "        x = self.relu(self.layer3(x))\n",
        "        x = self.layer4(x)\n",
        "        return x\n",
        "\n",
        "#Check model:\n",
        "model = LinearANN(len(X_train[0]))\n",
        "\n",
        "for X_batch, y_batch in data_iter(16, X_train, y_train):\n",
        "    out_batch = model(X_batch)\n",
        "    print('X_batch', X_batch.shape)\n",
        "    print('out_batch', out_batch.shape)\n",
        "    break"
      ],
      "metadata": {
        "colab": {
          "base_uri": "https://localhost:8080/"
        },
        "id": "Mf9SyruVjv6S",
        "outputId": "981cdf3d-4240-4b1c-d7b7-5ecde1e9ea5f"
      },
      "execution_count": null,
      "outputs": [
        {
          "output_type": "stream",
          "name": "stdout",
          "text": [
            "X_batch torch.Size([16, 19])\n",
            "out_batch torch.Size([16, 1])\n"
          ]
        }
      ]
    },
    {
      "cell_type": "code",
      "source": [
        "LEARNING_RATE = 0.0001\n",
        "#Training:\n",
        "import torch.optim as optim\n",
        "\n",
        "lossf = nn.L1Loss()\n",
        "optimizer = optim.Adam(model.parameters(), lr=LEARNING_RATE)"
      ],
      "metadata": {
        "id": "QqHmAFzanS72"
      },
      "execution_count": null,
      "outputs": []
    },
    {
      "cell_type": "code",
      "source": [
        "from scipy.optimize._lsq.trf_linear import make_strictly_feasible\n",
        "#Training parameters\n",
        "n_epochs = 200\n",
        "batch_size = 10\n",
        "batch_start = torch.arange(0,len(X_train),batch_size)\n",
        "\n",
        "#For keeping track of best\n",
        "best_mse = np.inf\n",
        "best_weights = None\n",
        "history = []\n",
        "\n",
        "import tqdm\n",
        "import copy\n",
        "#Inspiration from https://machinelearningmastery.com/building-a-regression-model-in-pytorch/\n",
        "for epoch in range(n_epochs):\n",
        "  model.train()\n",
        "  with tqdm.tqdm(batch_start, unit=\"batch\", mininterval=0, disable=True) as bar:\n",
        "    bar.set_description(f\"Epoch {epoch}\")\n",
        "    for X_batch, y_batch in data_iter(batch_size, X_train, y_train):\n",
        "      y_pred = model(X_batch)\n",
        "      loss = lossf(y_pred, y_batch.unsqueeze(1))\n",
        "      optimizer.zero_grad()\n",
        "      loss.backward()\n",
        "      optimizer.step()\n",
        "      bar.set_postfix(mse=float(loss))\n",
        "  model.eval()\n",
        "  y_pred = model(torch.from_numpy(X_val))\n",
        "  mse = lossf(y_pred,torch.from_numpy(y_val).unsqueeze(1))\n",
        "  history.append(float(mse))\n",
        "  if (mse < best_mse):\n",
        "    print(mse.item())\n",
        "    best_mse = mse\n",
        "    best_weights = copy.deepcopy(model.state_dict())\n",
        "\n",
        "model.load_state_dict(best_weights)"
      ],
      "metadata": {
        "colab": {
          "base_uri": "https://localhost:8080/"
        },
        "id": "sroc2Qf4pB62",
        "outputId": "c9aa54d6-ce54-41f7-b181-9e8939962ce5"
      },
      "execution_count": null,
      "outputs": [
        {
          "output_type": "stream",
          "name": "stdout",
          "text": [
            "1.4758064215891142\n",
            "0.9070106285668074\n",
            "0.8389759167223987\n",
            "0.8067724903561406\n",
            "0.7897357997191861\n",
            "0.7792588345411312\n",
            "0.766886827908315\n",
            "0.7531962903241849\n",
            "0.7451641133168355\n",
            "0.7370859622762677\n",
            "0.73312881780403\n",
            "0.723092906629534\n",
            "0.7196563822763461\n",
            "0.7114487097012365\n",
            "0.7027518360576369\n",
            "0.6977668094805237\n",
            "0.6905625180786632\n",
            "0.6900749718514735\n",
            "0.6831379171960308\n",
            "0.6746793564127451\n",
            "0.6720336204785303\n",
            "0.6668681601632814\n",
            "0.6631863452348984\n",
            "0.6523816377416687\n",
            "0.6509478418276154\n",
            "0.6498529143096872\n",
            "0.6405362290660693\n",
            "0.635341285021251\n",
            "0.6318508384672868\n",
            "0.6292692536972323\n",
            "0.6274745323290201\n",
            "0.6237360508121634\n",
            "0.6151366504122077\n",
            "0.6141968492812101\n",
            "0.6128227377010516\n",
            "0.6081395653351541\n",
            "0.6064889837827865\n",
            "0.6041385969179309\n",
            "0.6023414491405945\n",
            "0.5976429496156613\n",
            "0.5973194754633622\n",
            "0.5950813115213386\n",
            "0.5927771855616255\n",
            "0.5862747424299471\n",
            "0.5819636818323769\n",
            "0.5785656854034034\n",
            "0.5766774174649666\n",
            "0.5740155655719482\n",
            "0.5720043050543594\n",
            "0.568304350516526\n",
            "0.5671271511310423\n",
            "0.5623031027709999\n",
            "0.5603843887411821\n",
            "0.5583803902112472\n",
            "0.5578525620522774\n",
            "0.5565803908542184\n",
            "0.5534435006779432\n",
            "0.5529048746951729\n",
            "0.5528988668571857\n",
            "0.550703917509305\n",
            "0.5477222765499861\n",
            "0.5474801415581096\n",
            "0.5415180925937801\n",
            "0.5407946716003218\n",
            "0.5398577009299823\n",
            "0.5387422641145543\n",
            "0.5314795181353881\n",
            "0.5310307683912296\n",
            "0.5277456077871896\n",
            "0.5271699726718329\n",
            "0.5245300415697022\n",
            "0.523475567503711\n",
            "0.5216607641686902\n",
            "0.5162687837892389\n",
            "0.5161012906519026\n",
            "0.5092814724368672\n",
            "0.5085655589466508\n",
            "0.508514784793916\n",
            "0.5062279715936432\n",
            "0.5037349269747616\n",
            "0.5035052228629263\n",
            "0.5008540369173536\n",
            "0.4981048361725921\n",
            "0.49632760395629155\n",
            "0.49499066329229846\n",
            "0.49176882298281194\n"
          ]
        },
        {
          "output_type": "execute_result",
          "data": {
            "text/plain": [
              "<All keys matched successfully>"
            ]
          },
          "metadata": {},
          "execution_count": 5
        }
      ]
    },
    {
      "cell_type": "code",
      "source": [
        "import matplotlib.pyplot as plt\n",
        "\n",
        "plt.plot(history)"
      ],
      "metadata": {
        "colab": {
          "base_uri": "https://localhost:8080/",
          "height": 447
        },
        "id": "QsNO5q7UqimA",
        "outputId": "89a7765c-3522-41f7-d998-e2eb3210ec72"
      },
      "execution_count": null,
      "outputs": [
        {
          "output_type": "execute_result",
          "data": {
            "text/plain": [
              "[<matplotlib.lines.Line2D at 0x7f740a137b80>]"
            ]
          },
          "metadata": {},
          "execution_count": 6
        },
        {
          "output_type": "display_data",
          "data": {
            "text/plain": [
              "<Figure size 640x480 with 1 Axes>"
            ],
            "image/png": "[encoded data removed]"
          },
          "metadata": {}
        }
      ]
    },
    {
      "cell_type": "code",
      "source": [
        "from matplotlib import axes\n",
        "#Test results:\n",
        "y_pred = model(torch.from_numpy(X_test))\n",
        "mse = lossf(y_pred,torch.from_numpy(y_test).unsqueeze(1))\n",
        "print(\"MSE: \" + str(mse.item()) + \", RMSE: \" + str(torch.sqrt(mse).item()))\n",
        "fig, ax = plt.subplots()\n",
        "ax.scatter(y_test, y_pred.detach().numpy())\n",
        "ax.axline((0, 0), slope=1)\n"
      ],
      "metadata": {
        "colab": {
          "base_uri": "https://localhost:8080/",
          "height": 465
        },
        "id": "kAD3Mv2pz24L",
        "outputId": "22756a91-b293-4f7a-aa69-d1e1b37591ea"
      },
      "execution_count": null,
      "outputs": [
        {
          "output_type": "stream",
          "name": "stdout",
          "text": [
            "MSE: 0.5380914602859501, RMSE: 0.7335471765919014\n"
          ]
        },
        {
          "output_type": "execute_result",
          "data": {
            "text/plain": [
              "<matplotlib.lines._AxLine at 0x7f73f4e09db0>"
            ]
          },
          "metadata": {},
          "execution_count": 7
        },
        {
          "output_type": "display_data",
          "data": {
            "text/plain": [
              "<Figure size 640x480 with 1 Axes>"
            ],
            "image/png": "[encoded data removed]"
          },
          "metadata": {}
        }
      ]
    },
    {
      "cell_type": "code",
      "source": [
        "import sklearn\n",
        "from sklearn import metrics\n",
        "print(y_pred)\n",
        "cm = sklearn.metrics.confusion_matrix(y_true, y_pred)\n",
        "cm_display = metrics.ConfusionMatrixDisplay(confusion_matrix = cm, display_labels = [\"Insoluble\", \"Somewhat Solube\", \"Very Soluble\"])\n",
        "\n",
        "import matplotlib.pyplot as plt\n",
        "\n",
        "cm_display.plot()\n",
        "plt.show()"
      ],
      "metadata": {
        "id": "SXulNQ9tMT5r"
      },
      "execution_count": null,
      "outputs": []
    },
    {
      "cell_type": "code",
      "source": [
        "maeloss = nn.L1Loss()\n",
        "model2 = LinearANN(len(X_train[0]))\n",
        "optimizer = optim.Adam(model2.parameters(), lr=LEARNING_RATE)\n",
        "#Training parameters\n",
        "n_epochs = 100\n",
        "batch_size = 10\n",
        "batch_start = torch.arange(0,len(X_train),batch_size)\n",
        "\n",
        "#For keeping track of best\n",
        "best_mae = np.inf\n",
        "best_weights = None\n",
        "history = []\n",
        "\n",
        "import tqdm\n",
        "import copy\n",
        "#Inspiration from https://machinelearningmastery.com/building-a-regression-model-in-pytorch/\n",
        "for epoch in range(n_epochs):\n",
        "  model2.train()\n",
        "  with tqdm.tqdm(batch_start, unit=\"batch\", mininterval=0, disable=True) as bar:\n",
        "    bar.set_description(f\"Epoch {epoch}\")\n",
        "    for X_batch, y_batch in data_iter(batch_size, X_train, y_train):\n",
        "      y_pred = model2(X_batch)\n",
        "      loss = maeloss(y_pred, y_batch.unsqueeze(1))\n",
        "      optimizer.zero_grad()\n",
        "      loss.backward()\n",
        "      optimizer.step()\n",
        "      bar.set_postfix(mae=float(loss))\n",
        "  model2.eval()\n",
        "  y_pred = model(torch.from_numpy(X_val))\n",
        "  mae = lossf(y_pred,torch.from_numpy(y_val).unsqueeze(1))\n",
        "  history.append(float(mae))\n",
        "  if (mae < best_mae):\n",
        "    print(mae.item())\n",
        "    best_mae = mae\n",
        "    best_weights = copy.deepcopy(model.state_dict())\n",
        "\n",
        "model.load_state_dict(best_weights)"
      ],
      "metadata": {
        "colab": {
          "base_uri": "https://localhost:8080/"
        },
        "id": "LhRIztKWcTiZ",
        "outputId": "c61d26db-e3d5-4673-8c2c-afce38dd72f0"
      },
      "execution_count": null,
      "outputs": [
        {
          "output_type": "stream",
          "name": "stdout",
          "text": [
            "0.49176882298281194\n"
          ]
        },
        {
          "output_type": "execute_result",
          "data": {
            "text/plain": [
              "<All keys matched successfully>"
            ]
          },
          "metadata": {},
          "execution_count": 8
        }
      ]
    },
    {
      "cell_type": "code",
      "source": [
        "import matplotlib.pyplot as plt\n",
        "\n",
        "plt.plot(history)"
      ],
      "metadata": {
        "colab": {
          "base_uri": "https://localhost:8080/",
          "height": 447
        },
        "id": "ajBgaqigc88G",
        "outputId": "224a3d4c-6e81-459f-cee9-a9f67f9d75f2"
      },
      "execution_count": null,
      "outputs": [
        {
          "output_type": "execute_result",
          "data": {
            "text/plain": [
              "[<matplotlib.lines.Line2D at 0x7f73f4cbe830>]"
            ]
          },
          "metadata": {},
          "execution_count": 9
        },
        {
          "output_type": "display_data",
          "data": {
            "text/plain": [
              "<Figure size 640x480 with 1 Axes>"
            ],
            "image/png": "[encoded data removed]"
          },
          "metadata": {}
        }
      ]
    },
    {
      "cell_type": "code",
      "source": [],
      "metadata": {
        "id": "1Pg-EuM0yat-"
      },
      "execution_count": null,
      "outputs": []
    }
  ]
}