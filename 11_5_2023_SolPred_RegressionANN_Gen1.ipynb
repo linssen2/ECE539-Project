{
  "nbformat": 4,
  "nbformat_minor": 0,
  "metadata": {
    "colab": {
      "provenance": []
    },
    "kernelspec": {
      "name": "python3",
      "display_name": "Python 3"
    },
    "language_info": {
      "name": "python"
    }
  },
  "cells": [
    {
      "cell_type": "code",
      "execution_count": 1,
      "metadata": {
        "colab": {
          "base_uri": "https://localhost:8080/"
        },
        "id": "iiYyDcpqjMoJ",
        "outputId": "015c096b-4c89-45da-fc06-4710a0546a8f"
      },
      "outputs": [
        {
          "output_type": "stream",
          "name": "stdout",
          "text": [
            "-----------------------------------------------------\n",
            "loading dataset...\n",
            "-----------------------------------------------------\n",
            "Drive already mounted at /content/drive/; to attempt to forcibly remount, call drive.mount(\"/content/drive/\", force_remount=True).\n",
            "num_samples, num_features (9982, 19)\n",
            "labels (9982,)\n",
            "-----------------------------------------------------\n",
            "Splitting dataset into train/test/val and normalizing\n",
            "-----------------------------------------------------\n",
            "Training features mean: -8.085017509980335e-16, std: 1.000000000000001, shape: (6987, 19)\n",
            "Validation features mean: 0.0005016669533454465, std: 0.943511019936938, shape: (1497, 19)\n",
            "Testing features mean: -0.001834741035273268, std: 0.9463032341413049, shape: (1498, 19)\n"
          ]
        }
      ],
      "source": [
        "import numpy as np\n",
        "from google.colab import drive\n",
        "import csv\n",
        "import sklearn.model_selection\n",
        "# makes printing more human-friendly\n",
        "np.set_printoptions(precision=3,suppress=True)\n",
        "\n",
        "#Function to process the dataset. Input the google drive path to the dataset as well as the percentage of train and test\n",
        "#Function outputs the standardized train, test, val datasets and labels as well as the std and mean used to standardize\n",
        "#Output is: X_train, y_train, X_val, y_val, X_test, y_test, mean, std\n",
        "def process_dataset(path='SolPred/curated-solubility-dataset.csv', train_percentage=0.7, test_percentage=0.15, val_percentage=0.15):\n",
        "\n",
        "\n",
        "  #Loads the database and takes out specific indices as labels and features. If changing dataset change those indexes\n",
        "  def loaddataset(path):\n",
        "      drive.mount('/content/drive/')\n",
        "      with open('/content/drive/MyDrive/'+path, 'r') as f:\n",
        "        l = csv.reader(f)\n",
        "        data = np.array([list(filter(None,i)) for i in l])\n",
        "        X = data[1:,9:-1]\n",
        "        y = data[1:,5]\n",
        "        return X.astype(np.double),y.astype(np.double)\n",
        "\n",
        "  #Splits the data into training data, validation data, and testing data, and normalizes the data with respect to the training portion\n",
        "  #Returns the X_train, y_train, X_val, y_val, X_test, y_val, train_mean, train_std\n",
        "  def traintestsplit_and_normalize(train_p, test_p, val_p, features, labels):\n",
        "    #Split data\n",
        "    X_train, X_temp, y_train, y_temp = sklearn.model_selection.train_test_split(features,labels, train_size = train_p, shuffle=True )\n",
        "    X_val, X_test, y_val, y_test = sklearn.model_selection.train_test_split(X_temp, y_temp, train_size = val_p/(val_p+test_p))\n",
        "\n",
        "    X_train = np.asfarray(X_train)\n",
        "    X_val = np.asfarray(X_val)\n",
        "    X_test = np.asfarray(X_test)\n",
        "\n",
        "    X_mean = np.mean(X_train, axis=0)\n",
        "    X_std = np.std(X_train, axis=0)\n",
        "\n",
        "    X_train = (X_train-X_mean)/X_std\n",
        "    X_val = (X_val-X_mean)/X_std\n",
        "    X_test = (X_test-X_mean)/X_std\n",
        "    return X_train, y_train, X_val, y_val, X_test, y_test, X_mean, X_std\n",
        "  print('-----------------------------------------------------')\n",
        "\n",
        "  print('loading dataset...')\n",
        "  print('-----------------------------------------------------')\n",
        "\n",
        "  X,y = loaddataset(path)\n",
        "\n",
        "  #print(X[1])\n",
        "  print('num_samples, num_features', X.shape)\n",
        "  print('labels', y.shape)\n",
        "\n",
        "  print('-----------------------------------------------------')\n",
        "  print('Splitting dataset into train/test/val and normalizing')\n",
        "  print('-----------------------------------------------------')\n",
        "\n",
        "  X_train, y_train, X_val, y_val, X_test, y_test, X_mean, X_std = traintestsplit_and_normalize(train_percentage,val_percentage,test_percentage,X,y)\n",
        "  print(\"Training features mean: \" + str(np.mean(X_train)) + \", std: \" + str(np.std(X_train)) + \", shape: \" + str(X_train.shape))\n",
        "  print(\"Validation features mean: \" + str(np.mean(X_val)) + \", std: \" + str(np.std(X_val)) + \", shape: \" + str(X_val.shape))\n",
        "  print(\"Testing features mean: \" + str(np.mean(X_test)) + \", std: \" + str(np.std(X_test)) + \", shape: \" + str(X_test.shape))\n",
        "\n",
        "  return X_train, y_train, X_val, y_val, X_test, y_test, X_mean, X_std\n",
        "\n",
        "#Processes dataset with default values\n",
        "X_train, y_train, X_val, y_val, X_test, y_test, mean, std = process_dataset()"
      ]
    },
    {
      "cell_type": "code",
      "source": [
        "import random\n",
        "import torch\n",
        "\n",
        "def data_iter(batch_size, features, labels):\n",
        "  num_samples = len(features)\n",
        "  indices = list(range(num_samples))\n",
        "  random.shuffle(indices)\n",
        "\n",
        "  for i in range(0, num_samples, batch_size):\n",
        "    X, y = [],[]\n",
        "    for j in indices[i:i+batch_size]:\n",
        "      X.append(torch.from_numpy(features[j]))\n",
        "      y.append(torch.from_numpy(np.array(labels[j])))\n",
        "    yield torch.stack(X), torch.stack(y)\n",
        "\n",
        "for X_batch, y_batch in data_iter(10, X_train,y_train):\n",
        "  print('X_batch', X_batch.shape, X_batch.dtype)\n",
        "  print('y_batch', y_batch.shape, y_batch.dtype)\n",
        "  break"
      ],
      "metadata": {
        "colab": {
          "base_uri": "https://localhost:8080/"
        },
        "id": "u4LpOct0jnaI",
        "outputId": "13392b7a-c240-4dba-99bc-4df828eba8e8"
      },
      "execution_count": 2,
      "outputs": [
        {
          "output_type": "stream",
          "name": "stdout",
          "text": [
            "X_batch torch.Size([10, 19]) torch.float64\n",
            "y_batch torch.Size([10]) torch.float64\n"
          ]
        }
      ]
    },
    {
      "cell_type": "code",
      "source": [
        "from torch import nn\n",
        "class LinearANN(nn.Module):\n",
        "  def __init__(self, input_dim):\n",
        "        super(LinearANN, self).__init__()\n",
        "        self.layer1 = nn.Linear(input_dim, 64)\n",
        "        self.softmax = nn.Softmax(dim=1)\n",
        "        self.layer2 = nn.Linear(64,32)\n",
        "        self.layer3 = nn.Linear(32,16)\n",
        "        self.layer4 = nn.Linear(16,1)\n",
        "        self.relu = nn.ReLU()\n",
        "        self.double()\n",
        "\n",
        "  def forward(self, x):\n",
        "        x = self.relu(self.layer1(x))\n",
        "        x = self.relu(self.layer2(x))\n",
        "        x = self.relu(self.layer3(x))\n",
        "        x = self.layer4(x)\n",
        "        return x\n",
        "\n",
        "#Check model:\n",
        "model = LinearANN(len(X_train[0]))\n",
        "\n",
        "for X_batch, y_batch in data_iter(16, X_train, y_train):\n",
        "    out_batch = model(X_batch)\n",
        "    print('X_batch', X_batch.shape)\n",
        "    print('out_batch', out_batch.shape)\n",
        "    break"
      ],
      "metadata": {
        "colab": {
          "base_uri": "https://localhost:8080/"
        },
        "id": "Mf9SyruVjv6S",
        "outputId": "0636adc8-6997-4316-f85d-d88aa30d8fa6"
      },
      "execution_count": 3,
      "outputs": [
        {
          "output_type": "stream",
          "name": "stdout",
          "text": [
            "X_batch torch.Size([16, 19])\n",
            "out_batch torch.Size([16, 1])\n"
          ]
        }
      ]
    },
    {
      "cell_type": "code",
      "source": [
        "LEARNING_RATE = 0.0001\n",
        "#Training:\n",
        "import torch.optim as optim\n",
        "\n",
        "lossf = nn.MSELoss()\n",
        "optimizer = optim.Adam(model.parameters(), lr=LEARNING_RATE)"
      ],
      "metadata": {
        "id": "QqHmAFzanS72"
      },
      "execution_count": 4,
      "outputs": []
    },
    {
      "cell_type": "code",
      "source": [
        "from scipy.optimize._lsq.trf_linear import make_strictly_feasible\n",
        "#Training parameters\n",
        "n_epochs = 100\n",
        "batch_size = 10\n",
        "batch_start = torch.arange(0,len(X_train),batch_size)\n",
        "\n",
        "#For keeping track of best\n",
        "best_mse = np.inf\n",
        "best_weights = None\n",
        "history = []\n",
        "\n",
        "import tqdm\n",
        "import copy\n",
        "#Inspiration from https://machinelearningmastery.com/building-a-regression-model-in-pytorch/\n",
        "for epoch in range(n_epochs):\n",
        "  model.train()\n",
        "  with tqdm.tqdm(batch_start, unit=\"batch\", mininterval=0, disable=True) as bar:\n",
        "    bar.set_description(f\"Epoch {epoch}\")\n",
        "    for X_batch, y_batch in data_iter(batch_size, X_train, y_train):\n",
        "      y_pred = model(X_batch)\n",
        "      loss = lossf(y_pred, y_batch.unsqueeze(1))\n",
        "      optimizer.zero_grad()\n",
        "      loss.backward()\n",
        "      optimizer.step()\n",
        "      bar.set_postfix(mse=float(loss))\n",
        "  model.eval()\n",
        "  y_pred = model(torch.from_numpy(X_val))\n",
        "  mse = lossf(y_pred,torch.from_numpy(y_val).unsqueeze(1))\n",
        "  history.append(float(mse))\n",
        "  if (mse < best_mse):\n",
        "    print(mse.item())\n",
        "    best_mse = mse\n",
        "    best_weights = copy.deepcopy(model.state_dict())\n",
        "\n",
        "model.load_state_dict(best_weights)"
      ],
      "metadata": {
        "colab": {
          "base_uri": "https://localhost:8080/"
        },
        "id": "sroc2Qf4pB62",
        "outputId": "03734c3f-7a48-4e12-fc19-0bf4cfeb042b"
      },
      "execution_count": 5,
      "outputs": [
        {
          "output_type": "stream",
          "name": "stdout",
          "text": [
            "tensor(4.3279, dtype=torch.float64, grad_fn=<MseLossBackward0>)\n",
            "tensor(2.5810, dtype=torch.float64, grad_fn=<MseLossBackward0>)\n",
            "tensor(1.9694, dtype=torch.float64, grad_fn=<MseLossBackward0>)\n",
            "tensor(1.7514, dtype=torch.float64, grad_fn=<MseLossBackward0>)\n",
            "tensor(1.6194, dtype=torch.float64, grad_fn=<MseLossBackward0>)\n",
            "tensor(1.6119, dtype=torch.float64, grad_fn=<MseLossBackward0>)\n",
            "tensor(1.4945, dtype=torch.float64, grad_fn=<MseLossBackward0>)\n",
            "tensor(1.4737, dtype=torch.float64, grad_fn=<MseLossBackward0>)\n",
            "tensor(1.4202, dtype=torch.float64, grad_fn=<MseLossBackward0>)\n",
            "tensor(1.3833, dtype=torch.float64, grad_fn=<MseLossBackward0>)\n",
            "tensor(1.3742, dtype=torch.float64, grad_fn=<MseLossBackward0>)\n",
            "tensor(1.3583, dtype=torch.float64, grad_fn=<MseLossBackward0>)\n",
            "tensor(1.3202, dtype=torch.float64, grad_fn=<MseLossBackward0>)\n",
            "tensor(1.2555, dtype=torch.float64, grad_fn=<MseLossBackward0>)\n",
            "tensor(1.2372, dtype=torch.float64, grad_fn=<MseLossBackward0>)\n",
            "tensor(1.1932, dtype=torch.float64, grad_fn=<MseLossBackward0>)\n",
            "tensor(1.1810, dtype=torch.float64, grad_fn=<MseLossBackward0>)\n",
            "tensor(1.1624, dtype=torch.float64, grad_fn=<MseLossBackward0>)\n",
            "tensor(1.1274, dtype=torch.float64, grad_fn=<MseLossBackward0>)\n",
            "tensor(1.0840, dtype=torch.float64, grad_fn=<MseLossBackward0>)\n",
            "tensor(1.0640, dtype=torch.float64, grad_fn=<MseLossBackward0>)\n",
            "tensor(1.0378, dtype=torch.float64, grad_fn=<MseLossBackward0>)\n",
            "tensor(1.0291, dtype=torch.float64, grad_fn=<MseLossBackward0>)\n",
            "tensor(1.0220, dtype=torch.float64, grad_fn=<MseLossBackward0>)\n",
            "tensor(1.0051, dtype=torch.float64, grad_fn=<MseLossBackward0>)\n",
            "tensor(1.0027, dtype=torch.float64, grad_fn=<MseLossBackward0>)\n",
            "tensor(0.9962, dtype=torch.float64, grad_fn=<MseLossBackward0>)\n",
            "tensor(0.9956, dtype=torch.float64, grad_fn=<MseLossBackward0>)\n",
            "tensor(0.9925, dtype=torch.float64, grad_fn=<MseLossBackward0>)\n",
            "tensor(0.9788, dtype=torch.float64, grad_fn=<MseLossBackward0>)\n",
            "tensor(0.9576, dtype=torch.float64, grad_fn=<MseLossBackward0>)\n",
            "tensor(0.9495, dtype=torch.float64, grad_fn=<MseLossBackward0>)\n",
            "tensor(0.9395, dtype=torch.float64, grad_fn=<MseLossBackward0>)\n",
            "tensor(0.9193, dtype=torch.float64, grad_fn=<MseLossBackward0>)\n",
            "tensor(0.9001, dtype=torch.float64, grad_fn=<MseLossBackward0>)\n",
            "tensor(0.8844, dtype=torch.float64, grad_fn=<MseLossBackward0>)\n",
            "tensor(0.8775, dtype=torch.float64, grad_fn=<MseLossBackward0>)\n",
            "tensor(0.8766, dtype=torch.float64, grad_fn=<MseLossBackward0>)\n",
            "tensor(0.8693, dtype=torch.float64, grad_fn=<MseLossBackward0>)\n",
            "tensor(0.8528, dtype=torch.float64, grad_fn=<MseLossBackward0>)\n"
          ]
        },
        {
          "output_type": "execute_result",
          "data": {
            "text/plain": [
              "<All keys matched successfully>"
            ]
          },
          "metadata": {},
          "execution_count": 5
        }
      ]
    },
    {
      "cell_type": "code",
      "source": [
        "import matplotlib.pyplot as plt\n",
        "\n",
        "plt.plot(history)"
      ],
      "metadata": {
        "colab": {
          "base_uri": "https://localhost:8080/",
          "height": 452
        },
        "id": "QsNO5q7UqimA",
        "outputId": "d43a4927-2b9a-40ee-d42f-156cf12e3b2f"
      },
      "execution_count": 6,
      "outputs": [
        {
          "output_type": "execute_result",
          "data": {
            "text/plain": [
              "[<matplotlib.lines.Line2D at 0x7d4f3267d510>]"
            ]
          },
          "metadata": {},
          "execution_count": 6
        },
        {
          "output_type": "display_data",
          "data": {
            "text/plain": [
              "<Figure size 640x480 with 1 Axes>"
            ],
            "image/png": "[encoded data removed]"
          },
          "metadata": {}
        }
      ]
    },
    {
      "cell_type": "code",
      "source": [
        "#Test results:\n",
        "y_pred = model(torch.from_numpy(X_test))\n",
        "mse = lossf(y_pred,torch.from_numpy(y_test).unsqueeze(1))\n",
        "print(\"MSE: \" + str(mse.item()) + \", RMSE: \" + str(torch.sqrt(mse).item()))"
      ],
      "metadata": {
        "colab": {
          "base_uri": "https://localhost:8080/"
        },
        "id": "kAD3Mv2pz24L",
        "outputId": "1bfa2339-5942-4a09-e5d5-39a8d887da92"
      },
      "execution_count": 7,
      "outputs": [
        {
          "output_type": "stream",
          "name": "stdout",
          "text": [
            "MSE: 0.7258515626966532, RMSE: 0.8519692263788952\n"
          ]
        }
      ]
    },
    {
      "cell_type": "code",
      "source": [],
      "metadata": {
        "id": "1Pg-EuM0yat-"
      },
      "execution_count": 7,
      "outputs": []
    }
  ]
}