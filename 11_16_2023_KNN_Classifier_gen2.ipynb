{
  "nbformat": 4,
  "nbformat_minor": 0,
  "metadata": {
    "colab": {
      "provenance": [],
      "authorship_tag": "ABX9TyP0MAKYwTA2QBOEfcMN8i+i",
      "include_colab_link": true
    },
    "kernelspec": {
      "name": "python3",
      "display_name": "Python 3"
    },
    "language_info": {
      "name": "python"
    }
  },
  "cells": [
    {
      "cell_type": "markdown",
      "metadata": {
        "id": "view-in-github",
        "colab_type": "text"
      },
      "source": [
        "<a href=\"https://colab.research.google.com/github/linssen2/ECE539-Solubility-Identifier-Project/blob/main/11_16_2023_KNN_Classifier_gen2.ipynb\" target=\"_parent\"><img src=\"https://colab.research.google.com/assets/colab-badge.svg\" alt=\"Open In Colab\"/></a>"
      ]
    },
    {
      "cell_type": "code",
      "execution_count": 1,
      "metadata": {
        "colab": {
          "base_uri": "https://localhost:8080/"
        },
        "id": "7bu2T13c2DEn",
        "outputId": "e528d5fc-7f71-4c7d-e9b2-259867007688"
      },
      "outputs": [
        {
          "output_type": "stream",
          "name": "stdout",
          "text": [
            "Mounted at /content/drive/\n",
            "num_samples, num_features (9982, 19)\n",
            "num_labels (9982,)\n",
            "labels [0 1 2]\n",
            "Training shape:  (6987, 19)\n",
            "Validation shape:  (1497, 19)\n",
            "Testing shape:  (1498, 19)\n"
          ]
        }
      ],
      "source": [
        "import numpy as np\n",
        "from google.colab import drive\n",
        "import csv\n",
        "import torch\n",
        "from sklearn.model_selection import train_test_split\n",
        "np.set_printoptions(precision=3,suppress=True)\n",
        "\n",
        "#Read in data\n",
        "drive.mount('/content/drive/')\n",
        "with open('/content/drive/MyDrive/curated-solubility-dataset.csv', 'r') as f:\n",
        "    l = csv.reader(f)\n",
        "    data = np.array([list(filter(None,i)) for i in l])\n",
        "    X = data[1:,9:-1].astype(np.double)\n",
        "    y = data[1:,5].astype(np.double)\n",
        "\n",
        "#Convert to labels to value (0 = Not Soluable, 1 = Slightly Soluable, 2 = Soluable)\n",
        "y = [0 if val < -3.65 else 1 if -1.69 < val < 1 else 2 for val in y]\n",
        "y = np.asarray(y)\n",
        "\n",
        "#Partition\n",
        "X_train, X_test, y_train, y_test = train_test_split(X,y, train_size = .7, shuffle=True )\n",
        "X_val, X_test, y_val, y_test = train_test_split(X_test, y_test, train_size = .5, shuffle=True)\n",
        "\n",
        "X_train = np.asfarray(X_train)\n",
        "X_val = np.asfarray(X_val)\n",
        "X_test = np.asfarray(X_test)\n",
        "\n",
        "#Dataset and label features\n",
        "print('num_samples, num_features', X.shape)\n",
        "print('num_labels', y.shape)\n",
        "print('labels', np.unique(y))\n",
        "\n",
        "#Paritioned data features\n",
        "print(\"Training shape: \", str(X_train.shape))\n",
        "print(\"Validation shape: \", str(X_val.shape))\n",
        "print(\"Testing shape: \", str(X_test.shape))"
      ]
    },
    {
      "cell_type": "code",
      "source": [
        "#Test different number of neighbors each knn model for each\n",
        "from sklearn.neighbors import KNeighborsClassifier\n",
        "\n",
        "models = {}\n",
        "for i in [1,3,5,10,15,25,50,75,100,250,500,1000]:\n",
        "  print(\"# of neighbors: \", i)\n",
        "  knn = KNeighborsClassifier(n_neighbors=i)\n",
        "  models[i] = knn.fit(X_train, y_train)"
      ],
      "metadata": {
        "colab": {
          "base_uri": "https://localhost:8080/"
        },
        "id": "Z8fdqHor2Myt",
        "outputId": "e0f352f3-c8ae-41fa-b6b0-c7708faa8027"
      },
      "execution_count": 2,
      "outputs": [
        {
          "output_type": "stream",
          "name": "stdout",
          "text": [
            "# of neighbors:  1\n",
            "# of neighbors:  3\n",
            "# of neighbors:  5\n",
            "# of neighbors:  10\n",
            "# of neighbors:  15\n",
            "# of neighbors:  25\n",
            "# of neighbors:  50\n",
            "# of neighbors:  75\n",
            "# of neighbors:  100\n",
            "# of neighbors:  250\n",
            "# of neighbors:  500\n",
            "# of neighbors:  1000\n"
          ]
        }
      ]
    },
    {
      "cell_type": "code",
      "source": [
        "# Accuracy on each model with varying nneigs\n",
        "import sklearn.metrics as metrics\n",
        "\n",
        "for i in models:\n",
        "  y_predict = models[i].predict(X_val)\n",
        "  acc = metrics.accuracy_score(y_val, y_predict)\n",
        "  print(f'Classification Rate using {i} neighbors: {acc*100:.2f}%')"
      ],
      "metadata": {
        "colab": {
          "base_uri": "https://localhost:8080/"
        },
        "id": "iXWJAiGk-vUm",
        "outputId": "129f18a8-9f98-44a7-d5c6-4ba6719889d8"
      },
      "execution_count": 3,
      "outputs": [
        {
          "output_type": "stream",
          "name": "stdout",
          "text": [
            "Classification Rate using 1 neighbors: 68.47%\n",
            "Classification Rate using 3 neighbors: 68.27%\n",
            "Classification Rate using 5 neighbors: 68.00%\n",
            "Classification Rate using 10 neighbors: 68.20%\n",
            "Classification Rate using 15 neighbors: 68.60%\n",
            "Classification Rate using 25 neighbors: 67.74%\n",
            "Classification Rate using 50 neighbors: 65.93%\n",
            "Classification Rate using 75 neighbors: 64.46%\n",
            "Classification Rate using 100 neighbors: 63.39%\n",
            "Classification Rate using 250 neighbors: 59.79%\n",
            "Classification Rate using 500 neighbors: 58.32%\n",
            "Classification Rate using 1000 neighbors: 55.85%\n"
          ]
        }
      ]
    },
    {
      "cell_type": "code",
      "source": [
        "# Train and evaluate best model on X_train and X_val\n",
        "nneigs = 3\n",
        "\n",
        "X_trainval = np.concatenate((X_train, X_val), 0)\n",
        "y_trainval = np.concatenate((y_train, y_val), 0)\n",
        "\n",
        "knn = KNeighborsClassifier(n_neighbors=nneigs)\n",
        "model = knn.fit(X_trainval, y_trainval)\n",
        "y_pred = model.predict(X_test)\n",
        "\n",
        "acc = metrics.accuracy_score(y_test, y_pred)\n",
        "cm = metrics.confusion_matrix(y_test, y_pred)\n",
        "print(f'Classification Rate of {nneigs} neighbors: {acc*100:.2f}%\\n')\n",
        "print(f'Confusion Matrix of {nneigs} neighbors:')\n",
        "print(cm)"
      ],
      "metadata": {
        "id": "dI0BI_zw3upU",
        "colab": {
          "base_uri": "https://localhost:8080/"
        },
        "outputId": "35d69402-7103-48fd-b313-4f9994f1568d"
      },
      "execution_count": 4,
      "outputs": [
        {
          "output_type": "stream",
          "name": "stdout",
          "text": [
            "Classification Rate of 3 neighbors: 69.03%\n",
            "\n",
            "Confusion Matrix of 3 neighbors:\n",
            "[[429  15 102]\n",
            " [ 49 314  98]\n",
            " [130  70 291]]\n"
          ]
        }
      ]
    }
  ]
}