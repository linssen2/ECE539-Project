{
  "cells": [
    {
      "cell_type": "code",
      "source": [
        "#Code taken and modified from https://github.com/SullyChen/Molecular-Solubility-with-PyTorch-Geometric/blob/main/Molecular%20Solubility.ipynb"
      ],
      "metadata": {
        "id": "95Jl9HIVB84C"
      },
      "execution_count": null,
      "outputs": []
    },
    {
      "cell_type": "code",
      "execution_count": null,
      "metadata": {
        "id": "ZevvLDjT7rMD",
        "colab": {
          "base_uri": "https://localhost:8080/"
        },
        "outputId": "23078b49-7377-48d4-bcb9-e87e857176b7"
      },
      "outputs": [
        {
          "output_type": "stream",
          "name": "stdout",
          "text": [
            "Requirement already satisfied: pysmiles in /usr/local/lib/python3.10/dist-packages (1.1.2)\n",
            "Requirement already satisfied: pbr in /usr/local/lib/python3.10/dist-packages (from pysmiles) (6.0.0)\n",
            "Requirement already satisfied: networkx in /usr/local/lib/python3.10/dist-packages (from pysmiles) (3.2.1)\n",
            "Requirement already satisfied: torch_geometric in /usr/local/lib/python3.10/dist-packages (2.4.0)\n",
            "Requirement already satisfied: tqdm in /usr/local/lib/python3.10/dist-packages (from torch_geometric) (4.66.1)\n",
            "Requirement already satisfied: numpy in /usr/local/lib/python3.10/dist-packages (from torch_geometric) (1.23.5)\n",
            "Requirement already satisfied: scipy in /usr/local/lib/python3.10/dist-packages (from torch_geometric) (1.11.4)\n",
            "Requirement already satisfied: jinja2 in /usr/local/lib/python3.10/dist-packages (from torch_geometric) (3.1.2)\n",
            "Requirement already satisfied: requests in /usr/local/lib/python3.10/dist-packages (from torch_geometric) (2.31.0)\n",
            "Requirement already satisfied: pyparsing in /usr/local/lib/python3.10/dist-packages (from torch_geometric) (3.1.1)\n",
            "Requirement already satisfied: scikit-learn in /usr/local/lib/python3.10/dist-packages (from torch_geometric) (1.2.2)\n",
            "Requirement already satisfied: psutil>=5.8.0 in /usr/local/lib/python3.10/dist-packages (from torch_geometric) (5.9.5)\n",
            "Requirement already satisfied: MarkupSafe>=2.0 in /usr/local/lib/python3.10/dist-packages (from jinja2->torch_geometric) (2.1.3)\n",
            "Requirement already satisfied: charset-normalizer<4,>=2 in /usr/local/lib/python3.10/dist-packages (from requests->torch_geometric) (3.3.2)\n",
            "Requirement already satisfied: idna<4,>=2.5 in /usr/local/lib/python3.10/dist-packages (from requests->torch_geometric) (3.6)\n",
            "Requirement already satisfied: urllib3<3,>=1.21.1 in /usr/local/lib/python3.10/dist-packages (from requests->torch_geometric) (2.0.7)\n",
            "Requirement already satisfied: certifi>=2017.4.17 in /usr/local/lib/python3.10/dist-packages (from requests->torch_geometric) (2023.11.17)\n",
            "Requirement already satisfied: joblib>=1.1.1 in /usr/local/lib/python3.10/dist-packages (from scikit-learn->torch_geometric) (1.3.2)\n",
            "Requirement already satisfied: threadpoolctl>=2.0.0 in /usr/local/lib/python3.10/dist-packages (from scikit-learn->torch_geometric) (3.2.0)\n"
          ]
        }
      ],
      "source": [
        "!pip install pysmiles\n",
        "!pip install torch_geometric\n",
        "import numpy as np\n",
        "import random\n",
        "import matplotlib.pyplot as plt\n",
        "from pysmiles import read_smiles\n",
        "import pandas as pd\n",
        "import logging\n",
        "from tqdm import tqdm\n",
        "import torch\n",
        "from torch.nn import Sequential as Seq, Linear, ReLU, CrossEntropyLoss\n",
        "import torch.nn.functional as F\n",
        "from torch_geometric.nn import MessagePassing, GCNConv\n",
        "from torch_geometric.utils import remove_self_loops, add_self_loops, degree\n",
        "from torch_geometric.data import Data\n",
        "\n",
        "logging.getLogger('pysmiles').setLevel(logging.CRITICAL)  # Anything higher than warning"
      ]
    },
    {
      "cell_type": "code",
      "source": [],
      "metadata": {
        "id": "Wfe822I9jN3x"
      },
      "execution_count": null,
      "outputs": []
    },
    {
      "cell_type": "code",
      "execution_count": null,
      "metadata": {
        "colab": {
          "base_uri": "https://localhost:8080/"
        },
        "id": "n-Hysr12791c",
        "outputId": "fdc8beb7-1cfa-4473-8086-3e60b954dd39"
      },
      "outputs": [
        {
          "output_type": "stream",
          "name": "stdout",
          "text": [
            "Drive already mounted at /content/drive/; to attempt to forcibly remount, call drive.mount(\"/content/drive/\", force_remount=True).\n",
            "(9982, 17)\n",
            "(17,)\n"
          ]
        },
        {
          "output_type": "stream",
          "name": "stderr",
          "text": [
            "100%|██████████| 9982/9982 [00:25<00:00, 395.71it/s]\n"
          ]
        }
      ],
      "source": [
        "from google.colab import drive\n",
        "drive.mount('/content/drive/')\n",
        "with open('/content/drive/MyDrive/SolPred/curated-solubility-dataset.csv', 'r') as f:\n",
        "  df = pd.read_csv(f) #read dataset (https://dataverse.harvard.edu/dataset.xhtml?persistentId=doi:10.7910/DVN/OVHAW8)\n",
        "X_smiles = list(df['SMILES']) #get smiles strings from file\n",
        "Y = np.asarray(df['Solubility']) #get solubility values from file\n",
        "X_data = np.stack((np.asarray(df['MolWt']),np.asarray(df['MolLogP']),np.asarray(df['MolMR']),np.asarray(df['HeavyAtomCount']),np.asarray(df['NumHAcceptors']),np.asarray(df['NumHDonors']),np.asarray(df['NumHeteroatoms']),np.asarray(df['NumRotatableBonds']),np.asarray(df['NumValenceElectrons']),np.asarray(df['NumAromaticRings']),np.asarray(df['NumSaturatedRings']),np.asarray(df['NumAliphaticRings']),np.asarray(df['RingCount']),np.asarray(df['TPSA']),np.asarray(df['LabuteASA']),np.asarray(df['BalabanJ']),np.asarray(df['BertzCT'])),axis=0).T\n",
        "print(X_data.shape)\n",
        "\n",
        "X_data_mean = np.mean(X_data,0)\n",
        "print(X_data_mean.shape)\n",
        "\n",
        "X_data_std = np.std(X_data,0)\n",
        "\n",
        "X_data = (X_data-X_data_mean)/X_data_std\n",
        "\n",
        "elements = ['K', 'Y', 'V', 'Sm', 'Dy', 'In', 'Lu', 'Hg', 'Co', 'Mg',    #list of all elements in the dataset\n",
        "            'Cu', 'Rh', 'Hf', 'O', 'As', 'Ge', 'Au', 'Mo', 'Br', 'Ce',\n",
        "            'Zr', 'Ag', 'Ba', 'N', 'Cr', 'Sr', 'Fe', 'Gd', 'I', 'Al',\n",
        "            'B', 'Se', 'Pr', 'Te', 'Cd', 'Pd', 'Si', 'Zn', 'Pb', 'Sn',\n",
        "            'Cl', 'Mn', 'Cs', 'Na', 'S', 'Ti', 'Ni', 'Ru', 'Ca', 'Nd',\n",
        "            'W', 'H', 'Li', 'Sb', 'Bi', 'La', 'Pt', 'Nb', 'P', 'F', 'C']\n",
        "\n",
        "#convert element to a one-hot vector of dimension len(elements)\n",
        "def element_to_onehot(element):\n",
        "    out = []\n",
        "    for i in range(0, len(element)):\n",
        "        v = np.zeros(len(elements))\n",
        "        v[elements.index(element[i])] = 1.0\n",
        "        out.append(v)\n",
        "    return np.asarray(out)\n",
        "\n",
        "#convert solubility value to one-hot class vector\n",
        "def val_to_class(val):\n",
        "    if val < -3.65: #insoluble\n",
        "        return [1, 0, 0]\n",
        "    elif val < -1.69: #slightly soluble\n",
        "        return [0, 1, 0]\n",
        "    else: #soluble\n",
        "        return [0, 0, 1]\n",
        "\n",
        "#process SMILES strings into graphs\n",
        "nodes = []\n",
        "edge_index = []\n",
        "for smiles in tqdm(X_smiles):\n",
        "    try:\n",
        "        G = read_smiles(smiles, explicit_hydrogen=True)\n",
        "        feature = element_to_onehot(np.asarray(G.nodes(data='element'))[:, 1])\n",
        "        edges = np.asarray(G.edges)\n",
        "        index = np.asarray([edges[:,0], edges[:,1]]) #reshape indices into shape [2, -1]\n",
        "        nodes.append(feature)\n",
        "        edge_index.append(index)\n",
        "    except:\n",
        "        pass"
      ]
    },
    {
      "cell_type": "code",
      "execution_count": null,
      "metadata": {
        "colab": {
          "base_uri": "https://localhost:8080/"
        },
        "id": "fXcJSQmn9ebx",
        "outputId": "76c05a69-24bb-449b-cf87-30597c026096"
      },
      "outputs": [
        {
          "output_type": "stream",
          "name": "stderr",
          "text": [
            "100%|██████████| 9947/9947 [00:01<00:00, 6015.15it/s]\n"
          ]
        }
      ],
      "source": [
        "#Generate Data objects\n",
        "data = list()\n",
        "\n",
        "#process graphs into torch_geometric Data objects\n",
        "for i in tqdm(range(0, len(nodes))):\n",
        "    x = torch.tensor(nodes[i], dtype=torch.float) #convert node features into torch tensor\n",
        "    edges = torch.tensor(edge_index[i], dtype=torch.long) #convert edge index into torch tensor\n",
        "    y = torch.tensor([val_to_class(Y[i])], dtype=torch.float) #change shape of label and convert to tensor\n",
        "    data.append((Data(x=x,edge_index=edges, y=y),torch.from_numpy(X_data[i].astype(np.float32)))) #add the Data object to the list of data\n",
        "random.shuffle(data)\n",
        "train = data[:int(len(data)*0.8)] #train set\n",
        "test = data[int(len(data)*0.8):] #val set"
      ]
    },
    {
      "cell_type": "code",
      "execution_count": null,
      "metadata": {
        "id": "SsXl2-Z9kIl2"
      },
      "outputs": [],
      "source": [
        "#define the message passing network\n",
        "class Net(torch.nn.Module):\n",
        "    def __init__(self):\n",
        "        super(Net, self).__init__()\n",
        "        self.conv1 = GCNConv(78, 86)\n",
        "        self.conv2 = GCNConv(86, 64)\n",
        "        self.conv3 = GCNConv(64, 32)\n",
        "\n",
        "        self.lin1 = Linear(32, 16)\n",
        "        self.lin2 = Linear(16, 3)\n",
        "\n",
        "\n",
        "\n",
        "\n",
        "    def forward(self, gdata, ldata):\n",
        "        x, edge_index= gdata.x, gdata.edge_index\n",
        "        #print(x.shape)\n",
        "        #print(ldata.repeat(len(x),1).shape)\n",
        "        x = torch.cat((x,ldata.repeat(len(x),1)),1)\n",
        "        x = self.conv1(x, edge_index)\n",
        "        x = F.relu(x)\n",
        "        x = F.dropout(x, p=0.2, training=self.training)\n",
        "\n",
        "        x = self.conv2(x, edge_index)\n",
        "        x = F.relu(x)\n",
        "        x = F.dropout(x, p=0.2, training=self.training)\n",
        "        x = self.conv3(x,edge_index)\n",
        "        x = F.relu(x)\n",
        "\n",
        "\n",
        "\n",
        "        x = torch.sum(x, dim=0)\n",
        "\n",
        "        x = self.lin1(x)\n",
        "        x = F.relu(x)\n",
        "\n",
        "        x = self.lin2(x)\n",
        "\n",
        "\n",
        "\n",
        "        return x"
      ]
    },
    {
      "cell_type": "code",
      "execution_count": null,
      "metadata": {
        "id": "YAbm0BfhitV3"
      },
      "outputs": [],
      "source": [
        "#set up device and create model\n",
        "device = torch.device('cuda' if torch.cuda.is_available() else 'cpu') #use CUDA if available\n",
        "model = Net().to(device) #create network and send to the device memory\n",
        "optimizer = torch.optim.Adam(model.parameters(), lr=0.001, weight_decay=1e-4) #use Adam optimizer\n",
        "CSE = CrossEntropyLoss() #define loss"
      ]
    },
    {
      "cell_type": "code",
      "execution_count": null,
      "metadata": {
        "colab": {
          "base_uri": "https://localhost:8080/",
          "height": 1000
        },
        "id": "OruDaljhkJo1",
        "outputId": "0c2b97d7-2b6f-4e6a-c9b8-1876b1bfa06c"
      },
      "outputs": [
        {
          "output_type": "stream",
          "name": "stderr",
          "text": [
            "100%|██████████| 7957/7957 [01:08<00:00, 116.42it/s]\n"
          ]
        },
        {
          "output_type": "stream",
          "name": "stdout",
          "text": [
            "Epoch: 000, Average loss: 0.80492, Accuracy: 0.66709\n"
          ]
        },
        {
          "output_type": "stream",
          "name": "stderr",
          "text": [
            "100%|██████████| 7957/7957 [00:48<00:00, 164.65it/s]\n"
          ]
        },
        {
          "output_type": "stream",
          "name": "stdout",
          "text": [
            "Epoch: 001, Average loss: 0.72433, Accuracy: 0.70378\n"
          ]
        },
        {
          "output_type": "stream",
          "name": "stderr",
          "text": [
            "100%|██████████| 7957/7957 [00:52<00:00, 150.74it/s]\n"
          ]
        },
        {
          "output_type": "stream",
          "name": "stdout",
          "text": [
            "Epoch: 002, Average loss: 0.69800, Accuracy: 0.71472\n"
          ]
        },
        {
          "output_type": "stream",
          "name": "stderr",
          "text": [
            "100%|██████████| 7957/7957 [00:52<00:00, 151.30it/s]\n"
          ]
        },
        {
          "output_type": "stream",
          "name": "stdout",
          "text": [
            "Epoch: 003, Average loss: 0.67943, Accuracy: 0.72427\n"
          ]
        },
        {
          "output_type": "stream",
          "name": "stderr",
          "text": [
            "100%|██████████| 7957/7957 [00:50<00:00, 158.97it/s]\n"
          ]
        },
        {
          "output_type": "stream",
          "name": "stdout",
          "text": [
            "Epoch: 004, Average loss: 0.65125, Accuracy: 0.73143\n"
          ]
        },
        {
          "output_type": "stream",
          "name": "stderr",
          "text": [
            "100%|██████████| 7957/7957 [00:51<00:00, 154.63it/s]\n"
          ]
        },
        {
          "output_type": "stream",
          "name": "stdout",
          "text": [
            "Epoch: 005, Average loss: 0.64918, Accuracy: 0.73859\n"
          ]
        },
        {
          "output_type": "stream",
          "name": "stderr",
          "text": [
            "100%|██████████| 7957/7957 [00:52<00:00, 150.88it/s]\n"
          ]
        },
        {
          "output_type": "stream",
          "name": "stdout",
          "text": [
            "Epoch: 006, Average loss: 0.62419, Accuracy: 0.73633\n"
          ]
        },
        {
          "output_type": "stream",
          "name": "stderr",
          "text": [
            "100%|██████████| 7957/7957 [00:54<00:00, 146.78it/s]\n"
          ]
        },
        {
          "output_type": "stream",
          "name": "stdout",
          "text": [
            "Epoch: 007, Average loss: 0.62526, Accuracy: 0.74224\n"
          ]
        },
        {
          "output_type": "stream",
          "name": "stderr",
          "text": [
            "100%|██████████| 7957/7957 [00:55<00:00, 143.30it/s]\n"
          ]
        },
        {
          "output_type": "stream",
          "name": "stdout",
          "text": [
            "Epoch: 008, Average loss: 0.62047, Accuracy: 0.74073\n"
          ]
        },
        {
          "output_type": "stream",
          "name": "stderr",
          "text": [
            "100%|██████████| 7957/7957 [00:50<00:00, 156.55it/s]\n"
          ]
        },
        {
          "output_type": "stream",
          "name": "stdout",
          "text": [
            "Epoch: 009, Average loss: 0.62873, Accuracy: 0.74425\n"
          ]
        },
        {
          "output_type": "stream",
          "name": "stderr",
          "text": [
            "100%|██████████| 7957/7957 [00:51<00:00, 154.50it/s]\n"
          ]
        },
        {
          "output_type": "stream",
          "name": "stdout",
          "text": [
            "Epoch: 010, Average loss: 0.61434, Accuracy: 0.74802\n"
          ]
        },
        {
          "output_type": "stream",
          "name": "stderr",
          "text": [
            "100%|██████████| 7957/7957 [00:50<00:00, 158.68it/s]\n"
          ]
        },
        {
          "output_type": "stream",
          "name": "stdout",
          "text": [
            "Epoch: 011, Average loss: 0.60957, Accuracy: 0.74136\n"
          ]
        },
        {
          "output_type": "stream",
          "name": "stderr",
          "text": [
            "100%|██████████| 7957/7957 [00:47<00:00, 166.21it/s]\n"
          ]
        },
        {
          "output_type": "stream",
          "name": "stdout",
          "text": [
            "Epoch: 012, Average loss: 0.60259, Accuracy: 0.74953\n"
          ]
        },
        {
          "output_type": "stream",
          "name": "stderr",
          "text": [
            "100%|██████████| 7957/7957 [00:48<00:00, 165.69it/s]\n"
          ]
        },
        {
          "output_type": "stream",
          "name": "stdout",
          "text": [
            "Epoch: 013, Average loss: 0.60212, Accuracy: 0.74890\n"
          ]
        },
        {
          "output_type": "stream",
          "name": "stderr",
          "text": [
            "100%|██████████| 7957/7957 [00:49<00:00, 161.38it/s]\n"
          ]
        },
        {
          "output_type": "stream",
          "name": "stdout",
          "text": [
            "Epoch: 014, Average loss: 0.59483, Accuracy: 0.75430\n"
          ]
        },
        {
          "output_type": "stream",
          "name": "stderr",
          "text": [
            "100%|██████████| 7957/7957 [00:48<00:00, 162.59it/s]\n"
          ]
        },
        {
          "output_type": "stream",
          "name": "stdout",
          "text": [
            "Epoch: 015, Average loss: 0.59649, Accuracy: 0.75342\n"
          ]
        },
        {
          "output_type": "stream",
          "name": "stderr",
          "text": [
            "100%|██████████| 7957/7957 [00:48<00:00, 165.20it/s]\n"
          ]
        },
        {
          "output_type": "stream",
          "name": "stdout",
          "text": [
            "Epoch: 016, Average loss: 0.58688, Accuracy: 0.75418\n"
          ]
        },
        {
          "output_type": "stream",
          "name": "stderr",
          "text": [
            "100%|██████████| 7957/7957 [00:48<00:00, 162.72it/s]\n"
          ]
        },
        {
          "output_type": "stream",
          "name": "stdout",
          "text": [
            "Epoch: 017, Average loss: 0.58435, Accuracy: 0.75833\n"
          ]
        },
        {
          "output_type": "stream",
          "name": "stderr",
          "text": [
            "100%|██████████| 7957/7957 [00:48<00:00, 163.03it/s]\n"
          ]
        },
        {
          "output_type": "stream",
          "name": "stdout",
          "text": [
            "Epoch: 018, Average loss: 0.57747, Accuracy: 0.76097\n"
          ]
        },
        {
          "output_type": "stream",
          "name": "stderr",
          "text": [
            "100%|██████████| 7957/7957 [00:50<00:00, 157.08it/s]\n"
          ]
        },
        {
          "output_type": "stream",
          "name": "stdout",
          "text": [
            "Epoch: 019, Average loss: 0.57669, Accuracy: 0.76335\n"
          ]
        },
        {
          "output_type": "stream",
          "name": "stderr",
          "text": [
            "100%|██████████| 7957/7957 [00:47<00:00, 166.91it/s]\n"
          ]
        },
        {
          "output_type": "stream",
          "name": "stdout",
          "text": [
            "Epoch: 020, Average loss: 0.57723, Accuracy: 0.76662\n"
          ]
        },
        {
          "output_type": "stream",
          "name": "stderr",
          "text": [
            "100%|██████████| 7957/7957 [00:48<00:00, 165.02it/s]\n"
          ]
        },
        {
          "output_type": "stream",
          "name": "stdout",
          "text": [
            "Epoch: 021, Average loss: 0.57375, Accuracy: 0.76097\n"
          ]
        },
        {
          "output_type": "stream",
          "name": "stderr",
          "text": [
            "100%|██████████| 7957/7957 [00:48<00:00, 164.88it/s]\n"
          ]
        },
        {
          "output_type": "stream",
          "name": "stdout",
          "text": [
            "Epoch: 022, Average loss: 0.57283, Accuracy: 0.75719\n"
          ]
        },
        {
          "output_type": "stream",
          "name": "stderr",
          "text": [
            "100%|██████████| 7957/7957 [00:48<00:00, 164.70it/s]\n"
          ]
        },
        {
          "output_type": "stream",
          "name": "stdout",
          "text": [
            "Epoch: 023, Average loss: 0.57117, Accuracy: 0.76964\n"
          ]
        },
        {
          "output_type": "stream",
          "name": "stderr",
          "text": [
            "100%|██████████| 7957/7957 [00:48<00:00, 163.80it/s]\n"
          ]
        },
        {
          "output_type": "stream",
          "name": "stdout",
          "text": [
            "Epoch: 024, Average loss: 0.56650, Accuracy: 0.76499\n"
          ]
        },
        {
          "output_type": "stream",
          "name": "stderr",
          "text": [
            "100%|██████████| 7957/7957 [00:48<00:00, 162.53it/s]\n"
          ]
        },
        {
          "output_type": "stream",
          "name": "stdout",
          "text": [
            "Epoch: 025, Average loss: 0.57411, Accuracy: 0.76574\n"
          ]
        },
        {
          "output_type": "stream",
          "name": "stderr",
          "text": [
            "100%|██████████| 7957/7957 [00:48<00:00, 162.96it/s]\n"
          ]
        },
        {
          "output_type": "stream",
          "name": "stdout",
          "text": [
            "Epoch: 026, Average loss: 0.56952, Accuracy: 0.76536\n"
          ]
        },
        {
          "output_type": "stream",
          "name": "stderr",
          "text": [
            "100%|██████████| 7957/7957 [00:49<00:00, 161.32it/s]\n"
          ]
        },
        {
          "output_type": "stream",
          "name": "stdout",
          "text": [
            "Epoch: 027, Average loss: 0.56543, Accuracy: 0.76825\n"
          ]
        },
        {
          "output_type": "stream",
          "name": "stderr",
          "text": [
            "100%|██████████| 7957/7957 [00:49<00:00, 162.10it/s]\n"
          ]
        },
        {
          "output_type": "stream",
          "name": "stdout",
          "text": [
            "Epoch: 028, Average loss: 0.57005, Accuracy: 0.76059\n"
          ]
        },
        {
          "output_type": "stream",
          "name": "stderr",
          "text": [
            "100%|██████████| 7957/7957 [00:48<00:00, 163.46it/s]\n"
          ]
        },
        {
          "output_type": "stream",
          "name": "stdout",
          "text": [
            "Epoch: 029, Average loss: 0.55474, Accuracy: 0.77039\n"
          ]
        },
        {
          "output_type": "stream",
          "name": "stderr",
          "text": [
            "100%|██████████| 7957/7957 [00:53<00:00, 149.81it/s]\n"
          ]
        },
        {
          "output_type": "stream",
          "name": "stdout",
          "text": [
            "Epoch: 030, Average loss: 0.55819, Accuracy: 0.76825\n"
          ]
        },
        {
          "output_type": "stream",
          "name": "stderr",
          "text": [
            "100%|██████████| 7957/7957 [00:51<00:00, 153.12it/s]\n"
          ]
        },
        {
          "output_type": "stream",
          "name": "stdout",
          "text": [
            "Epoch: 031, Average loss: 0.56678, Accuracy: 0.76260\n"
          ]
        },
        {
          "output_type": "stream",
          "name": "stderr",
          "text": [
            "100%|██████████| 7957/7957 [00:50<00:00, 159.07it/s]\n"
          ]
        },
        {
          "output_type": "stream",
          "name": "stdout",
          "text": [
            "Epoch: 032, Average loss: 0.56350, Accuracy: 0.77605\n"
          ]
        },
        {
          "output_type": "stream",
          "name": "stderr",
          "text": [
            "100%|██████████| 7957/7957 [00:50<00:00, 156.20it/s]\n"
          ]
        },
        {
          "output_type": "stream",
          "name": "stdout",
          "text": [
            "Epoch: 033, Average loss: 0.56923, Accuracy: 0.77253\n"
          ]
        },
        {
          "output_type": "stream",
          "name": "stderr",
          "text": [
            "100%|██████████| 7957/7957 [00:51<00:00, 154.23it/s]\n"
          ]
        },
        {
          "output_type": "stream",
          "name": "stdout",
          "text": [
            "Epoch: 034, Average loss: 0.55294, Accuracy: 0.77127\n"
          ]
        },
        {
          "output_type": "stream",
          "name": "stderr",
          "text": [
            "100%|██████████| 7957/7957 [00:51<00:00, 153.09it/s]\n"
          ]
        },
        {
          "output_type": "stream",
          "name": "stdout",
          "text": [
            "Epoch: 035, Average loss: 0.55676, Accuracy: 0.77278\n"
          ]
        },
        {
          "output_type": "stream",
          "name": "stderr",
          "text": [
            "100%|██████████| 7957/7957 [00:51<00:00, 155.21it/s]\n"
          ]
        },
        {
          "output_type": "stream",
          "name": "stdout",
          "text": [
            "Epoch: 036, Average loss: 0.55130, Accuracy: 0.77353\n"
          ]
        },
        {
          "output_type": "stream",
          "name": "stderr",
          "text": [
            "100%|██████████| 7957/7957 [00:52<00:00, 152.52it/s]\n"
          ]
        },
        {
          "output_type": "stream",
          "name": "stdout",
          "text": [
            "Epoch: 037, Average loss: 0.55144, Accuracy: 0.77529\n"
          ]
        },
        {
          "output_type": "stream",
          "name": "stderr",
          "text": [
            "100%|██████████| 7957/7957 [00:54<00:00, 145.88it/s]\n"
          ]
        },
        {
          "output_type": "stream",
          "name": "stdout",
          "text": [
            "Epoch: 038, Average loss: 0.54997, Accuracy: 0.77190\n"
          ]
        },
        {
          "output_type": "stream",
          "name": "stderr",
          "text": [
            "100%|██████████| 7957/7957 [00:52<00:00, 152.55it/s]\n"
          ]
        },
        {
          "output_type": "stream",
          "name": "stdout",
          "text": [
            "Epoch: 039, Average loss: 0.55282, Accuracy: 0.77039\n"
          ]
        },
        {
          "output_type": "stream",
          "name": "stderr",
          "text": [
            "100%|██████████| 7957/7957 [00:51<00:00, 153.07it/s]\n"
          ]
        },
        {
          "output_type": "stream",
          "name": "stdout",
          "text": [
            "Epoch: 040, Average loss: 0.54889, Accuracy: 0.77492\n"
          ]
        },
        {
          "output_type": "stream",
          "name": "stderr",
          "text": [
            "100%|██████████| 7957/7957 [00:52<00:00, 151.04it/s]\n"
          ]
        },
        {
          "output_type": "stream",
          "name": "stdout",
          "text": [
            "Epoch: 041, Average loss: 0.55747, Accuracy: 0.77114\n"
          ]
        },
        {
          "output_type": "stream",
          "name": "stderr",
          "text": [
            "100%|██████████| 7957/7957 [00:51<00:00, 155.56it/s]\n"
          ]
        },
        {
          "output_type": "stream",
          "name": "stdout",
          "text": [
            "Epoch: 042, Average loss: 0.54602, Accuracy: 0.77454\n"
          ]
        },
        {
          "output_type": "stream",
          "name": "stderr",
          "text": [
            "100%|██████████| 7957/7957 [00:49<00:00, 159.15it/s]\n"
          ]
        },
        {
          "output_type": "stream",
          "name": "stdout",
          "text": [
            "Epoch: 043, Average loss: 0.54718, Accuracy: 0.77165\n"
          ]
        },
        {
          "output_type": "stream",
          "name": "stderr",
          "text": [
            "100%|██████████| 7957/7957 [00:51<00:00, 154.55it/s]\n"
          ]
        },
        {
          "output_type": "stream",
          "name": "stdout",
          "text": [
            "Epoch: 044, Average loss: 0.55560, Accuracy: 0.77366\n"
          ]
        },
        {
          "output_type": "stream",
          "name": "stderr",
          "text": [
            "100%|██████████| 7957/7957 [00:54<00:00, 146.27it/s]\n"
          ]
        },
        {
          "output_type": "stream",
          "name": "stdout",
          "text": [
            "Epoch: 045, Average loss: 0.55017, Accuracy: 0.77429\n"
          ]
        },
        {
          "output_type": "stream",
          "name": "stderr",
          "text": [
            "100%|██████████| 7957/7957 [00:51<00:00, 155.69it/s]\n"
          ]
        },
        {
          "output_type": "stream",
          "name": "stdout",
          "text": [
            "Epoch: 046, Average loss: 0.53979, Accuracy: 0.77253\n"
          ]
        },
        {
          "output_type": "stream",
          "name": "stderr",
          "text": [
            "100%|██████████| 7957/7957 [00:50<00:00, 156.55it/s]\n"
          ]
        },
        {
          "output_type": "stream",
          "name": "stdout",
          "text": [
            "Epoch: 047, Average loss: 0.55148, Accuracy: 0.77466\n"
          ]
        },
        {
          "output_type": "stream",
          "name": "stderr",
          "text": [
            "100%|██████████| 7957/7957 [00:51<00:00, 154.75it/s]\n"
          ]
        },
        {
          "output_type": "stream",
          "name": "stdout",
          "text": [
            "Epoch: 048, Average loss: 0.53769, Accuracy: 0.77693\n"
          ]
        },
        {
          "output_type": "stream",
          "name": "stderr",
          "text": [
            "100%|██████████| 7957/7957 [00:50<00:00, 157.86it/s]\n"
          ]
        },
        {
          "output_type": "stream",
          "name": "stdout",
          "text": [
            "Epoch: 049, Average loss: 0.54480, Accuracy: 0.77755\n"
          ]
        },
        {
          "output_type": "stream",
          "name": "stderr",
          "text": [
            "100%|██████████| 7957/7957 [00:50<00:00, 158.80it/s]\n"
          ]
        },
        {
          "output_type": "stream",
          "name": "stdout",
          "text": [
            "Epoch: 050, Average loss: 0.54347, Accuracy: 0.77391\n"
          ]
        },
        {
          "output_type": "stream",
          "name": "stderr",
          "text": [
            "100%|██████████| 7957/7957 [00:53<00:00, 148.84it/s]\n"
          ]
        },
        {
          "output_type": "stream",
          "name": "stdout",
          "text": [
            "Epoch: 051, Average loss: 0.54016, Accuracy: 0.78132\n"
          ]
        },
        {
          "output_type": "stream",
          "name": "stderr",
          "text": [
            "100%|██████████| 7957/7957 [00:50<00:00, 158.18it/s]\n"
          ]
        },
        {
          "output_type": "stream",
          "name": "stdout",
          "text": [
            "Epoch: 052, Average loss: 0.54084, Accuracy: 0.77931\n"
          ]
        },
        {
          "output_type": "stream",
          "name": "stderr",
          "text": [
            "100%|██████████| 7957/7957 [00:50<00:00, 156.25it/s]\n"
          ]
        },
        {
          "output_type": "stream",
          "name": "stdout",
          "text": [
            "Epoch: 053, Average loss: 0.53555, Accuracy: 0.78158\n"
          ]
        },
        {
          "output_type": "stream",
          "name": "stderr",
          "text": [
            "100%|██████████| 7957/7957 [00:50<00:00, 158.07it/s]\n"
          ]
        },
        {
          "output_type": "stream",
          "name": "stdout",
          "text": [
            "Epoch: 054, Average loss: 0.54115, Accuracy: 0.78635\n"
          ]
        },
        {
          "output_type": "stream",
          "name": "stderr",
          "text": [
            "100%|██████████| 7957/7957 [00:50<00:00, 156.36it/s]\n"
          ]
        },
        {
          "output_type": "stream",
          "name": "stdout",
          "text": [
            "Epoch: 055, Average loss: 0.53125, Accuracy: 0.77605\n"
          ]
        },
        {
          "output_type": "stream",
          "name": "stderr",
          "text": [
            "100%|██████████| 7957/7957 [00:49<00:00, 160.60it/s]\n"
          ]
        },
        {
          "output_type": "stream",
          "name": "stdout",
          "text": [
            "Epoch: 056, Average loss: 0.53030, Accuracy: 0.78007\n"
          ]
        },
        {
          "output_type": "stream",
          "name": "stderr",
          "text": [
            "100%|██████████| 7957/7957 [00:50<00:00, 156.76it/s]\n"
          ]
        },
        {
          "output_type": "stream",
          "name": "stdout",
          "text": [
            "Epoch: 057, Average loss: 0.53013, Accuracy: 0.78371\n"
          ]
        },
        {
          "output_type": "stream",
          "name": "stderr",
          "text": [
            "100%|██████████| 7957/7957 [00:51<00:00, 155.44it/s]\n"
          ]
        },
        {
          "output_type": "stream",
          "name": "stdout",
          "text": [
            "Epoch: 058, Average loss: 0.54153, Accuracy: 0.77567\n"
          ]
        },
        {
          "output_type": "stream",
          "name": "stderr",
          "text": [
            "100%|██████████| 7957/7957 [00:50<00:00, 157.73it/s]\n"
          ]
        },
        {
          "output_type": "stream",
          "name": "stdout",
          "text": [
            "Epoch: 059, Average loss: 0.54132, Accuracy: 0.78522\n"
          ]
        },
        {
          "output_type": "stream",
          "name": "stderr",
          "text": [
            "100%|██████████| 7957/7957 [00:49<00:00, 159.32it/s]\n"
          ]
        },
        {
          "output_type": "stream",
          "name": "stdout",
          "text": [
            "Epoch: 060, Average loss: 0.52526, Accuracy: 0.78082\n"
          ]
        },
        {
          "output_type": "stream",
          "name": "stderr",
          "text": [
            "100%|██████████| 7957/7957 [00:49<00:00, 160.11it/s]\n"
          ]
        },
        {
          "output_type": "stream",
          "name": "stdout",
          "text": [
            "Epoch: 061, Average loss: 0.53479, Accuracy: 0.77944\n"
          ]
        },
        {
          "output_type": "stream",
          "name": "stderr",
          "text": [
            "100%|██████████| 7957/7957 [00:52<00:00, 150.29it/s]\n"
          ]
        },
        {
          "output_type": "stream",
          "name": "stdout",
          "text": [
            "Epoch: 062, Average loss: 0.53539, Accuracy: 0.78032\n"
          ]
        },
        {
          "output_type": "stream",
          "name": "stderr",
          "text": [
            "100%|██████████| 7957/7957 [00:50<00:00, 157.35it/s]\n"
          ]
        },
        {
          "output_type": "stream",
          "name": "stdout",
          "text": [
            "Epoch: 063, Average loss: 0.52830, Accuracy: 0.77341\n"
          ]
        },
        {
          "output_type": "stream",
          "name": "stderr",
          "text": [
            "100%|██████████| 7957/7957 [00:49<00:00, 160.70it/s]\n"
          ]
        },
        {
          "output_type": "stream",
          "name": "stdout",
          "text": [
            "Epoch: 064, Average loss: 0.52319, Accuracy: 0.78359\n"
          ]
        },
        {
          "output_type": "stream",
          "name": "stderr",
          "text": [
            "100%|██████████| 7957/7957 [00:49<00:00, 161.61it/s]\n"
          ]
        },
        {
          "output_type": "stream",
          "name": "stdout",
          "text": [
            "Epoch: 065, Average loss: 0.52791, Accuracy: 0.78271\n"
          ]
        },
        {
          "output_type": "stream",
          "name": "stderr",
          "text": [
            "100%|██████████| 7957/7957 [00:49<00:00, 160.14it/s]\n"
          ]
        },
        {
          "output_type": "stream",
          "name": "stdout",
          "text": [
            "Epoch: 066, Average loss: 0.52623, Accuracy: 0.78208\n"
          ]
        },
        {
          "output_type": "stream",
          "name": "stderr",
          "text": [
            "100%|██████████| 7957/7957 [00:49<00:00, 160.11it/s]\n"
          ]
        },
        {
          "output_type": "stream",
          "name": "stdout",
          "text": [
            "Epoch: 067, Average loss: 0.53519, Accuracy: 0.78334\n"
          ]
        },
        {
          "output_type": "stream",
          "name": "stderr",
          "text": [
            "100%|██████████| 7957/7957 [00:50<00:00, 157.89it/s]\n"
          ]
        },
        {
          "output_type": "stream",
          "name": "stdout",
          "text": [
            "Epoch: 068, Average loss: 0.52114, Accuracy: 0.78786\n"
          ]
        },
        {
          "output_type": "stream",
          "name": "stderr",
          "text": [
            "100%|██████████| 7957/7957 [00:49<00:00, 160.26it/s]\n"
          ]
        },
        {
          "output_type": "stream",
          "name": "stdout",
          "text": [
            "Epoch: 069, Average loss: 0.52499, Accuracy: 0.78246\n"
          ]
        },
        {
          "output_type": "stream",
          "name": "stderr",
          "text": [
            "100%|██████████| 7957/7957 [00:49<00:00, 160.81it/s]\n"
          ]
        },
        {
          "output_type": "stream",
          "name": "stdout",
          "text": [
            "Epoch: 070, Average loss: 0.52328, Accuracy: 0.78384\n"
          ]
        },
        {
          "output_type": "stream",
          "name": "stderr",
          "text": [
            "100%|██████████| 7957/7957 [00:49<00:00, 159.66it/s]\n"
          ]
        },
        {
          "output_type": "stream",
          "name": "stdout",
          "text": [
            "Epoch: 071, Average loss: 0.52360, Accuracy: 0.78509\n"
          ]
        },
        {
          "output_type": "stream",
          "name": "stderr",
          "text": [
            "100%|██████████| 7957/7957 [00:49<00:00, 162.28it/s]\n"
          ]
        },
        {
          "output_type": "stream",
          "name": "stdout",
          "text": [
            "Epoch: 072, Average loss: 0.51356, Accuracy: 0.79050\n"
          ]
        },
        {
          "output_type": "stream",
          "name": "stderr",
          "text": [
            "100%|██████████| 7957/7957 [00:50<00:00, 158.24it/s]\n"
          ]
        },
        {
          "output_type": "stream",
          "name": "stdout",
          "text": [
            "Epoch: 073, Average loss: 0.52965, Accuracy: 0.78887\n"
          ]
        },
        {
          "output_type": "stream",
          "name": "stderr",
          "text": [
            "100%|██████████| 7957/7957 [00:53<00:00, 148.31it/s]\n"
          ]
        },
        {
          "output_type": "stream",
          "name": "stdout",
          "text": [
            "Epoch: 074, Average loss: 0.52104, Accuracy: 0.78283\n"
          ]
        },
        {
          "output_type": "stream",
          "name": "stderr",
          "text": [
            "100%|██████████| 7957/7957 [00:49<00:00, 160.99it/s]\n"
          ]
        },
        {
          "output_type": "stream",
          "name": "stdout",
          "text": [
            "Epoch: 075, Average loss: 0.52061, Accuracy: 0.78748\n"
          ]
        },
        {
          "output_type": "stream",
          "name": "stderr",
          "text": [
            "100%|██████████| 7957/7957 [00:49<00:00, 160.79it/s]\n"
          ]
        },
        {
          "output_type": "stream",
          "name": "stdout",
          "text": [
            "Epoch: 076, Average loss: 0.52551, Accuracy: 0.78233\n"
          ]
        },
        {
          "output_type": "stream",
          "name": "stderr",
          "text": [
            "100%|██████████| 7957/7957 [00:48<00:00, 164.61it/s]\n"
          ]
        },
        {
          "output_type": "stream",
          "name": "stdout",
          "text": [
            "Epoch: 077, Average loss: 0.52772, Accuracy: 0.78396\n"
          ]
        },
        {
          "output_type": "stream",
          "name": "stderr",
          "text": [
            "100%|██████████| 7957/7957 [00:47<00:00, 165.88it/s]\n"
          ]
        },
        {
          "output_type": "stream",
          "name": "stdout",
          "text": [
            "Epoch: 078, Average loss: 0.52644, Accuracy: 0.78384\n"
          ]
        },
        {
          "output_type": "stream",
          "name": "stderr",
          "text": [
            "100%|██████████| 7957/7957 [00:48<00:00, 164.81it/s]\n"
          ]
        },
        {
          "output_type": "stream",
          "name": "stdout",
          "text": [
            "Epoch: 079, Average loss: 0.52035, Accuracy: 0.78321\n"
          ]
        },
        {
          "output_type": "stream",
          "name": "stderr",
          "text": [
            "100%|██████████| 7957/7957 [00:49<00:00, 161.93it/s]\n"
          ]
        },
        {
          "output_type": "stream",
          "name": "stdout",
          "text": [
            "Epoch: 080, Average loss: 0.52221, Accuracy: 0.78371\n"
          ]
        },
        {
          "output_type": "stream",
          "name": "stderr",
          "text": [
            "100%|██████████| 7957/7957 [00:49<00:00, 159.66it/s]\n"
          ]
        },
        {
          "output_type": "stream",
          "name": "stdout",
          "text": [
            "Epoch: 081, Average loss: 0.51613, Accuracy: 0.78962\n"
          ]
        },
        {
          "output_type": "stream",
          "name": "stderr",
          "text": [
            "100%|██████████| 7957/7957 [00:48<00:00, 165.55it/s]\n"
          ]
        },
        {
          "output_type": "stream",
          "name": "stdout",
          "text": [
            "Epoch: 082, Average loss: 0.51507, Accuracy: 0.79100\n"
          ]
        },
        {
          "output_type": "stream",
          "name": "stderr",
          "text": [
            "100%|██████████| 7957/7957 [00:48<00:00, 163.01it/s]\n"
          ]
        },
        {
          "output_type": "stream",
          "name": "stdout",
          "text": [
            "Epoch: 083, Average loss: 0.51458, Accuracy: 0.78610\n"
          ]
        },
        {
          "output_type": "stream",
          "name": "stderr",
          "text": [
            "100%|██████████| 7957/7957 [00:49<00:00, 162.23it/s]\n"
          ]
        },
        {
          "output_type": "stream",
          "name": "stdout",
          "text": [
            "Epoch: 084, Average loss: 0.51423, Accuracy: 0.78711\n"
          ]
        },
        {
          "output_type": "stream",
          "name": "stderr",
          "text": [
            "100%|██████████| 7957/7957 [00:52<00:00, 151.85it/s]\n"
          ]
        },
        {
          "output_type": "stream",
          "name": "stdout",
          "text": [
            "Epoch: 085, Average loss: 0.52044, Accuracy: 0.78761\n"
          ]
        },
        {
          "output_type": "stream",
          "name": "stderr",
          "text": [
            "100%|██████████| 7957/7957 [00:49<00:00, 161.18it/s]\n"
          ]
        },
        {
          "output_type": "stream",
          "name": "stdout",
          "text": [
            "Epoch: 086, Average loss: 0.52284, Accuracy: 0.78685\n"
          ]
        },
        {
          "output_type": "stream",
          "name": "stderr",
          "text": [
            "100%|██████████| 7957/7957 [00:48<00:00, 162.44it/s]\n"
          ]
        },
        {
          "output_type": "stream",
          "name": "stdout",
          "text": [
            "Epoch: 087, Average loss: 0.52007, Accuracy: 0.78459\n"
          ]
        },
        {
          "output_type": "stream",
          "name": "stderr",
          "text": [
            "100%|██████████| 7957/7957 [00:49<00:00, 161.53it/s]\n"
          ]
        },
        {
          "output_type": "stream",
          "name": "stdout",
          "text": [
            "Epoch: 088, Average loss: 0.50922, Accuracy: 0.79125\n"
          ]
        },
        {
          "output_type": "stream",
          "name": "stderr",
          "text": [
            "100%|██████████| 7957/7957 [00:49<00:00, 160.73it/s]\n"
          ]
        },
        {
          "output_type": "stream",
          "name": "stdout",
          "text": [
            "Epoch: 089, Average loss: 0.51317, Accuracy: 0.78962\n"
          ]
        },
        {
          "output_type": "stream",
          "name": "stderr",
          "text": [
            "100%|██████████| 7957/7957 [00:49<00:00, 160.62it/s]\n"
          ]
        },
        {
          "output_type": "stream",
          "name": "stdout",
          "text": [
            "Epoch: 090, Average loss: 0.52015, Accuracy: 0.78648\n"
          ]
        },
        {
          "output_type": "stream",
          "name": "stderr",
          "text": [
            "100%|██████████| 7957/7957 [00:48<00:00, 162.77it/s]\n"
          ]
        },
        {
          "output_type": "stream",
          "name": "stdout",
          "text": [
            "Epoch: 091, Average loss: 0.52185, Accuracy: 0.78836\n"
          ]
        },
        {
          "output_type": "stream",
          "name": "stderr",
          "text": [
            "100%|██████████| 7957/7957 [00:48<00:00, 162.93it/s]\n"
          ]
        },
        {
          "output_type": "stream",
          "name": "stdout",
          "text": [
            "Epoch: 092, Average loss: 0.51724, Accuracy: 0.79088\n"
          ]
        },
        {
          "output_type": "stream",
          "name": "stderr",
          "text": [
            "100%|██████████| 7957/7957 [00:48<00:00, 163.51it/s]\n"
          ]
        },
        {
          "output_type": "stream",
          "name": "stdout",
          "text": [
            "Epoch: 093, Average loss: 0.52570, Accuracy: 0.78509\n"
          ]
        },
        {
          "output_type": "stream",
          "name": "stderr",
          "text": [
            "100%|██████████| 7957/7957 [00:49<00:00, 161.38it/s]\n"
          ]
        },
        {
          "output_type": "stream",
          "name": "stdout",
          "text": [
            "Epoch: 094, Average loss: 0.51069, Accuracy: 0.79176\n"
          ]
        },
        {
          "output_type": "stream",
          "name": "stderr",
          "text": [
            "100%|██████████| 7957/7957 [00:49<00:00, 160.21it/s]\n"
          ]
        },
        {
          "output_type": "stream",
          "name": "stdout",
          "text": [
            "Epoch: 095, Average loss: 0.51470, Accuracy: 0.78673\n"
          ]
        },
        {
          "output_type": "stream",
          "name": "stderr",
          "text": [
            "100%|██████████| 7957/7957 [00:49<00:00, 161.17it/s]\n"
          ]
        },
        {
          "output_type": "stream",
          "name": "stdout",
          "text": [
            "Epoch: 096, Average loss: 0.52712, Accuracy: 0.78547\n"
          ]
        },
        {
          "output_type": "stream",
          "name": "stderr",
          "text": [
            "100%|██████████| 7957/7957 [00:52<00:00, 152.41it/s]\n"
          ]
        },
        {
          "output_type": "stream",
          "name": "stdout",
          "text": [
            "Epoch: 097, Average loss: 0.51358, Accuracy: 0.79000\n"
          ]
        },
        {
          "output_type": "stream",
          "name": "stderr",
          "text": [
            "100%|██████████| 7957/7957 [00:50<00:00, 156.32it/s]\n"
          ]
        },
        {
          "output_type": "stream",
          "name": "stdout",
          "text": [
            "Epoch: 098, Average loss: 0.51655, Accuracy: 0.78899\n"
          ]
        },
        {
          "output_type": "stream",
          "name": "stderr",
          "text": [
            "100%|██████████| 7957/7957 [00:49<00:00, 160.18it/s]\n"
          ]
        },
        {
          "output_type": "stream",
          "name": "stdout",
          "text": [
            "Epoch: 099, Average loss: 0.50901, Accuracy: 0.79025\n"
          ]
        },
        {
          "output_type": "stream",
          "name": "stderr",
          "text": [
            "100%|██████████| 7957/7957 [00:50<00:00, 157.29it/s]\n"
          ]
        },
        {
          "output_type": "stream",
          "name": "stdout",
          "text": [
            "Epoch: 100, Average loss: 0.51065, Accuracy: 0.79565\n"
          ]
        },
        {
          "output_type": "stream",
          "name": "stderr",
          "text": [
            "100%|██████████| 7957/7957 [00:49<00:00, 160.50it/s]\n"
          ]
        },
        {
          "output_type": "stream",
          "name": "stdout",
          "text": [
            "Epoch: 101, Average loss: 0.51557, Accuracy: 0.79138\n"
          ]
        },
        {
          "output_type": "stream",
          "name": "stderr",
          "text": [
            "100%|██████████| 7957/7957 [00:50<00:00, 159.01it/s]\n"
          ]
        },
        {
          "output_type": "stream",
          "name": "stdout",
          "text": [
            "Epoch: 102, Average loss: 0.51703, Accuracy: 0.78899\n"
          ]
        },
        {
          "output_type": "stream",
          "name": "stderr",
          "text": [
            "100%|██████████| 7957/7957 [00:50<00:00, 157.92it/s]\n"
          ]
        },
        {
          "output_type": "stream",
          "name": "stdout",
          "text": [
            "Epoch: 103, Average loss: 0.52177, Accuracy: 0.78949\n"
          ]
        },
        {
          "output_type": "stream",
          "name": "stderr",
          "text": [
            "100%|██████████| 7957/7957 [00:49<00:00, 161.14it/s]\n"
          ]
        },
        {
          "output_type": "stream",
          "name": "stdout",
          "text": [
            "Epoch: 104, Average loss: 0.50502, Accuracy: 0.79364\n"
          ]
        },
        {
          "output_type": "stream",
          "name": "stderr",
          "text": [
            "100%|██████████| 7957/7957 [00:51<00:00, 155.48it/s]\n"
          ]
        },
        {
          "output_type": "stream",
          "name": "stdout",
          "text": [
            "Epoch: 105, Average loss: 0.51322, Accuracy: 0.79301\n"
          ]
        },
        {
          "output_type": "stream",
          "name": "stderr",
          "text": [
            "100%|██████████| 7957/7957 [00:49<00:00, 161.04it/s]\n"
          ]
        },
        {
          "output_type": "stream",
          "name": "stdout",
          "text": [
            "Epoch: 106, Average loss: 0.50440, Accuracy: 0.79540\n"
          ]
        },
        {
          "output_type": "stream",
          "name": "stderr",
          "text": [
            "100%|██████████| 7957/7957 [00:48<00:00, 164.84it/s]\n"
          ]
        },
        {
          "output_type": "stream",
          "name": "stdout",
          "text": [
            "Epoch: 107, Average loss: 0.50649, Accuracy: 0.79414\n"
          ]
        },
        {
          "output_type": "stream",
          "name": "stderr",
          "text": [
            "100%|██████████| 7957/7957 [00:49<00:00, 160.82it/s]\n"
          ]
        },
        {
          "output_type": "stream",
          "name": "stdout",
          "text": [
            "Epoch: 108, Average loss: 0.50505, Accuracy: 0.79238\n"
          ]
        },
        {
          "output_type": "stream",
          "name": "stderr",
          "text": [
            "100%|██████████| 7957/7957 [00:51<00:00, 155.11it/s]\n"
          ]
        },
        {
          "output_type": "stream",
          "name": "stdout",
          "text": [
            "Epoch: 109, Average loss: 0.51219, Accuracy: 0.79590\n"
          ]
        },
        {
          "output_type": "stream",
          "name": "stderr",
          "text": [
            "100%|██████████| 7957/7957 [00:49<00:00, 159.76it/s]\n"
          ]
        },
        {
          "output_type": "stream",
          "name": "stdout",
          "text": [
            "Epoch: 110, Average loss: 0.50979, Accuracy: 0.79176\n"
          ]
        },
        {
          "output_type": "stream",
          "name": "stderr",
          "text": [
            "100%|██████████| 7957/7957 [00:49<00:00, 162.11it/s]\n"
          ]
        },
        {
          "output_type": "stream",
          "name": "stdout",
          "text": [
            "Epoch: 111, Average loss: 0.50963, Accuracy: 0.79352\n"
          ]
        },
        {
          "output_type": "stream",
          "name": "stderr",
          "text": [
            "100%|██████████| 7957/7957 [00:49<00:00, 162.22it/s]\n"
          ]
        },
        {
          "output_type": "stream",
          "name": "stdout",
          "text": [
            "Epoch: 112, Average loss: 0.51594, Accuracy: 0.79402\n"
          ]
        },
        {
          "output_type": "stream",
          "name": "stderr",
          "text": [
            "100%|██████████| 7957/7957 [00:49<00:00, 160.07it/s]\n"
          ]
        },
        {
          "output_type": "stream",
          "name": "stdout",
          "text": [
            "Epoch: 113, Average loss: 0.51842, Accuracy: 0.78547\n"
          ]
        },
        {
          "output_type": "stream",
          "name": "stderr",
          "text": [
            "100%|██████████| 7957/7957 [00:48<00:00, 162.89it/s]\n"
          ]
        },
        {
          "output_type": "stream",
          "name": "stdout",
          "text": [
            "Epoch: 114, Average loss: 0.51131, Accuracy: 0.79590\n"
          ]
        },
        {
          "output_type": "stream",
          "name": "stderr",
          "text": [
            "100%|██████████| 7957/7957 [00:48<00:00, 162.67it/s]\n"
          ]
        },
        {
          "output_type": "stream",
          "name": "stdout",
          "text": [
            "Epoch: 115, Average loss: 0.50530, Accuracy: 0.79326\n"
          ]
        },
        {
          "output_type": "stream",
          "name": "stderr",
          "text": [
            "100%|██████████| 7957/7957 [00:51<00:00, 155.46it/s]\n"
          ]
        },
        {
          "output_type": "stream",
          "name": "stdout",
          "text": [
            "Epoch: 116, Average loss: 0.50868, Accuracy: 0.79012\n"
          ]
        },
        {
          "output_type": "stream",
          "name": "stderr",
          "text": [
            "100%|██████████| 7957/7957 [00:51<00:00, 154.74it/s]\n"
          ]
        },
        {
          "output_type": "stream",
          "name": "stdout",
          "text": [
            "Epoch: 117, Average loss: 0.51726, Accuracy: 0.79402\n"
          ]
        },
        {
          "output_type": "stream",
          "name": "stderr",
          "text": [
            "100%|██████████| 7957/7957 [00:50<00:00, 157.06it/s]\n"
          ]
        },
        {
          "output_type": "stream",
          "name": "stdout",
          "text": [
            "Epoch: 118, Average loss: 0.50604, Accuracy: 0.79289\n"
          ]
        },
        {
          "output_type": "stream",
          "name": "stderr",
          "text": [
            "100%|██████████| 7957/7957 [00:49<00:00, 159.52it/s]\n"
          ]
        },
        {
          "output_type": "stream",
          "name": "stdout",
          "text": [
            "Epoch: 119, Average loss: 0.50023, Accuracy: 0.80030\n"
          ]
        },
        {
          "output_type": "stream",
          "name": "stderr",
          "text": [
            "100%|██████████| 7957/7957 [00:49<00:00, 159.41it/s]\n"
          ]
        },
        {
          "output_type": "stream",
          "name": "stdout",
          "text": [
            "Epoch: 120, Average loss: 0.50355, Accuracy: 0.79088\n"
          ]
        },
        {
          "output_type": "stream",
          "name": "stderr",
          "text": [
            "100%|██████████| 7957/7957 [00:52<00:00, 151.48it/s]\n"
          ]
        },
        {
          "output_type": "stream",
          "name": "stdout",
          "text": [
            "Epoch: 121, Average loss: 0.50214, Accuracy: 0.79301\n"
          ]
        },
        {
          "output_type": "stream",
          "name": "stderr",
          "text": [
            "100%|██████████| 7957/7957 [00:51<00:00, 154.66it/s]\n"
          ]
        },
        {
          "output_type": "stream",
          "name": "stdout",
          "text": [
            "Epoch: 122, Average loss: 0.51055, Accuracy: 0.78937\n"
          ]
        },
        {
          "output_type": "stream",
          "name": "stderr",
          "text": [
            "100%|██████████| 7957/7957 [00:50<00:00, 157.97it/s]\n"
          ]
        },
        {
          "output_type": "stream",
          "name": "stdout",
          "text": [
            "Epoch: 123, Average loss: 0.50302, Accuracy: 0.79892\n"
          ]
        },
        {
          "output_type": "stream",
          "name": "stderr",
          "text": [
            "100%|██████████| 7957/7957 [00:49<00:00, 160.16it/s]\n"
          ]
        },
        {
          "output_type": "stream",
          "name": "stdout",
          "text": [
            "Epoch: 124, Average loss: 0.51885, Accuracy: 0.79062\n"
          ]
        },
        {
          "output_type": "stream",
          "name": "stderr",
          "text": [
            "100%|██████████| 7957/7957 [00:48<00:00, 162.71it/s]\n"
          ]
        },
        {
          "output_type": "stream",
          "name": "stdout",
          "text": [
            "Epoch: 125, Average loss: 0.50234, Accuracy: 0.79515\n"
          ]
        },
        {
          "output_type": "stream",
          "name": "stderr",
          "text": [
            "100%|██████████| 7957/7957 [00:48<00:00, 162.89it/s]\n"
          ]
        },
        {
          "output_type": "stream",
          "name": "stdout",
          "text": [
            "Epoch: 126, Average loss: 0.50527, Accuracy: 0.79251\n"
          ]
        },
        {
          "output_type": "stream",
          "name": "stderr",
          "text": [
            "100%|██████████| 7957/7957 [00:49<00:00, 161.27it/s]\n"
          ]
        },
        {
          "output_type": "stream",
          "name": "stdout",
          "text": [
            "Epoch: 127, Average loss: 0.50078, Accuracy: 0.79377\n"
          ]
        },
        {
          "output_type": "stream",
          "name": "stderr",
          "text": [
            "100%|██████████| 7957/7957 [00:49<00:00, 159.22it/s]\n"
          ]
        },
        {
          "output_type": "stream",
          "name": "stdout",
          "text": [
            "Epoch: 128, Average loss: 0.50522, Accuracy: 0.79201\n"
          ]
        },
        {
          "output_type": "stream",
          "name": "stderr",
          "text": [
            "100%|██████████| 7957/7957 [00:49<00:00, 159.31it/s]\n"
          ]
        },
        {
          "output_type": "stream",
          "name": "stdout",
          "text": [
            "Epoch: 129, Average loss: 0.50708, Accuracy: 0.79729\n"
          ]
        },
        {
          "output_type": "stream",
          "name": "stderr",
          "text": [
            "100%|██████████| 7957/7957 [00:49<00:00, 162.17it/s]\n"
          ]
        },
        {
          "output_type": "stream",
          "name": "stdout",
          "text": [
            "Epoch: 130, Average loss: 0.49852, Accuracy: 0.79854\n"
          ]
        },
        {
          "output_type": "stream",
          "name": "stderr",
          "text": [
            "100%|██████████| 7957/7957 [00:49<00:00, 162.35it/s]\n"
          ]
        },
        {
          "output_type": "stream",
          "name": "stdout",
          "text": [
            "Epoch: 131, Average loss: 0.50567, Accuracy: 0.79452\n"
          ]
        },
        {
          "output_type": "stream",
          "name": "stderr",
          "text": [
            "100%|██████████| 7957/7957 [00:48<00:00, 164.16it/s]\n"
          ]
        },
        {
          "output_type": "stream",
          "name": "stdout",
          "text": [
            "Epoch: 132, Average loss: 0.50418, Accuracy: 0.79791\n"
          ]
        },
        {
          "output_type": "stream",
          "name": "stderr",
          "text": [
            "100%|██████████| 7957/7957 [00:52<00:00, 151.50it/s]\n"
          ]
        },
        {
          "output_type": "stream",
          "name": "stdout",
          "text": [
            "Epoch: 133, Average loss: 0.50291, Accuracy: 0.79502\n"
          ]
        },
        {
          "output_type": "stream",
          "name": "stderr",
          "text": [
            "100%|██████████| 7957/7957 [00:49<00:00, 162.22it/s]\n"
          ]
        },
        {
          "output_type": "stream",
          "name": "stdout",
          "text": [
            "Epoch: 134, Average loss: 0.49837, Accuracy: 0.79527\n"
          ]
        },
        {
          "output_type": "stream",
          "name": "stderr",
          "text": [
            "100%|██████████| 7957/7957 [00:49<00:00, 159.81it/s]\n"
          ]
        },
        {
          "output_type": "stream",
          "name": "stdout",
          "text": [
            "Epoch: 135, Average loss: 0.49919, Accuracy: 0.79402\n"
          ]
        },
        {
          "output_type": "stream",
          "name": "stderr",
          "text": [
            "100%|██████████| 7957/7957 [00:51<00:00, 153.67it/s]\n"
          ]
        },
        {
          "output_type": "stream",
          "name": "stdout",
          "text": [
            "Epoch: 136, Average loss: 0.50449, Accuracy: 0.79678\n"
          ]
        },
        {
          "output_type": "stream",
          "name": "stderr",
          "text": [
            "100%|██████████| 7957/7957 [00:51<00:00, 155.37it/s]\n"
          ]
        },
        {
          "output_type": "stream",
          "name": "stdout",
          "text": [
            "Epoch: 137, Average loss: 0.49942, Accuracy: 0.79817\n"
          ]
        },
        {
          "output_type": "stream",
          "name": "stderr",
          "text": [
            "100%|██████████| 7957/7957 [00:50<00:00, 156.99it/s]\n"
          ]
        },
        {
          "output_type": "stream",
          "name": "stdout",
          "text": [
            "Epoch: 138, Average loss: 0.50713, Accuracy: 0.79527\n"
          ]
        },
        {
          "output_type": "stream",
          "name": "stderr",
          "text": [
            "100%|██████████| 7957/7957 [00:49<00:00, 161.99it/s]\n"
          ]
        },
        {
          "output_type": "stream",
          "name": "stdout",
          "text": [
            "Epoch: 139, Average loss: 0.50495, Accuracy: 0.79515\n"
          ]
        },
        {
          "output_type": "stream",
          "name": "stderr",
          "text": [
            "100%|██████████| 7957/7957 [00:48<00:00, 163.46it/s]\n"
          ]
        },
        {
          "output_type": "stream",
          "name": "stdout",
          "text": [
            "Epoch: 140, Average loss: 0.51060, Accuracy: 0.79050\n"
          ]
        },
        {
          "output_type": "stream",
          "name": "stderr",
          "text": [
            "100%|██████████| 7957/7957 [00:49<00:00, 159.16it/s]\n"
          ]
        },
        {
          "output_type": "stream",
          "name": "stdout",
          "text": [
            "Epoch: 141, Average loss: 0.50245, Accuracy: 0.79502\n"
          ]
        },
        {
          "output_type": "stream",
          "name": "stderr",
          "text": [
            "100%|██████████| 7957/7957 [00:48<00:00, 162.96it/s]\n"
          ]
        },
        {
          "output_type": "stream",
          "name": "stdout",
          "text": [
            "Epoch: 142, Average loss: 0.50261, Accuracy: 0.78974\n"
          ]
        },
        {
          "output_type": "stream",
          "name": "stderr",
          "text": [
            "100%|██████████| 7957/7957 [00:49<00:00, 160.73it/s]\n"
          ]
        },
        {
          "output_type": "stream",
          "name": "stdout",
          "text": [
            "Epoch: 143, Average loss: 0.51788, Accuracy: 0.79138\n"
          ]
        },
        {
          "output_type": "stream",
          "name": "stderr",
          "text": [
            "100%|██████████| 7957/7957 [00:48<00:00, 165.62it/s]\n"
          ]
        },
        {
          "output_type": "stream",
          "name": "stdout",
          "text": [
            "Epoch: 144, Average loss: 0.49319, Accuracy: 0.79590\n"
          ]
        },
        {
          "output_type": "stream",
          "name": "stderr",
          "text": [
            "100%|██████████| 7957/7957 [00:50<00:00, 157.14it/s]\n"
          ]
        },
        {
          "output_type": "stream",
          "name": "stdout",
          "text": [
            "Epoch: 145, Average loss: 0.51439, Accuracy: 0.79414\n"
          ]
        },
        {
          "output_type": "stream",
          "name": "stderr",
          "text": [
            "100%|██████████| 7957/7957 [00:48<00:00, 163.57it/s]\n"
          ]
        },
        {
          "output_type": "stream",
          "name": "stdout",
          "text": [
            "Epoch: 146, Average loss: 0.49830, Accuracy: 0.79666\n"
          ]
        },
        {
          "output_type": "stream",
          "name": "stderr",
          "text": [
            "100%|██████████| 7957/7957 [00:49<00:00, 159.50it/s]\n"
          ]
        },
        {
          "output_type": "stream",
          "name": "stdout",
          "text": [
            "Epoch: 147, Average loss: 0.49657, Accuracy: 0.79867\n"
          ]
        },
        {
          "output_type": "stream",
          "name": "stderr",
          "text": [
            "100%|██████████| 7957/7957 [00:51<00:00, 155.69it/s]\n"
          ]
        },
        {
          "output_type": "stream",
          "name": "stdout",
          "text": [
            "Epoch: 148, Average loss: 0.49592, Accuracy: 0.80256\n"
          ]
        },
        {
          "output_type": "stream",
          "name": "stderr",
          "text": [
            "100%|██████████| 7957/7957 [00:50<00:00, 158.20it/s]\n"
          ]
        },
        {
          "output_type": "stream",
          "name": "stdout",
          "text": [
            "Epoch: 149, Average loss: 0.51094, Accuracy: 0.79427\n"
          ]
        },
        {
          "output_type": "stream",
          "name": "stderr",
          "text": [
            "100%|██████████| 7957/7957 [00:49<00:00, 161.49it/s]\n"
          ]
        },
        {
          "output_type": "stream",
          "name": "stdout",
          "text": [
            "Epoch: 150, Average loss: 0.52143, Accuracy: 0.79691\n"
          ]
        },
        {
          "output_type": "stream",
          "name": "stderr",
          "text": [
            "100%|██████████| 7957/7957 [00:47<00:00, 167.88it/s]\n"
          ]
        },
        {
          "output_type": "stream",
          "name": "stdout",
          "text": [
            "Epoch: 151, Average loss: 0.50015, Accuracy: 0.80369\n"
          ]
        },
        {
          "output_type": "stream",
          "name": "stderr",
          "text": [
            "100%|██████████| 7957/7957 [00:47<00:00, 168.19it/s]\n"
          ]
        },
        {
          "output_type": "stream",
          "name": "stdout",
          "text": [
            "Epoch: 152, Average loss: 0.50057, Accuracy: 0.79364\n"
          ]
        },
        {
          "output_type": "stream",
          "name": "stderr",
          "text": [
            "100%|██████████| 7957/7957 [00:48<00:00, 164.74it/s]\n"
          ]
        },
        {
          "output_type": "stream",
          "name": "stdout",
          "text": [
            "Epoch: 153, Average loss: 0.49672, Accuracy: 0.79930\n"
          ]
        },
        {
          "output_type": "stream",
          "name": "stderr",
          "text": [
            "100%|██████████| 7957/7957 [00:47<00:00, 168.61it/s]\n"
          ]
        },
        {
          "output_type": "stream",
          "name": "stdout",
          "text": [
            "Epoch: 154, Average loss: 0.50702, Accuracy: 0.79540\n"
          ]
        },
        {
          "output_type": "stream",
          "name": "stderr",
          "text": [
            "100%|██████████| 7957/7957 [00:48<00:00, 164.99it/s]\n"
          ]
        },
        {
          "output_type": "stream",
          "name": "stdout",
          "text": [
            "Epoch: 155, Average loss: 0.49614, Accuracy: 0.79213\n"
          ]
        },
        {
          "output_type": "stream",
          "name": "stderr",
          "text": [
            "100%|██████████| 7957/7957 [00:48<00:00, 165.71it/s]\n"
          ]
        },
        {
          "output_type": "stream",
          "name": "stdout",
          "text": [
            "Epoch: 156, Average loss: 0.49717, Accuracy: 0.79339\n"
          ]
        },
        {
          "output_type": "stream",
          "name": "stderr",
          "text": [
            "100%|██████████| 7957/7957 [00:47<00:00, 165.97it/s]\n"
          ]
        },
        {
          "output_type": "stream",
          "name": "stdout",
          "text": [
            "Epoch: 157, Average loss: 0.49229, Accuracy: 0.79930\n"
          ]
        },
        {
          "output_type": "stream",
          "name": "stderr",
          "text": [
            "100%|██████████| 7957/7957 [00:49<00:00, 159.76it/s]\n"
          ]
        },
        {
          "output_type": "stream",
          "name": "stdout",
          "text": [
            "Epoch: 158, Average loss: 0.49254, Accuracy: 0.79942\n"
          ]
        },
        {
          "output_type": "stream",
          "name": "stderr",
          "text": [
            "100%|██████████| 7957/7957 [00:48<00:00, 163.95it/s]\n"
          ]
        },
        {
          "output_type": "stream",
          "name": "stdout",
          "text": [
            "Epoch: 159, Average loss: 0.49061, Accuracy: 0.80118\n"
          ]
        },
        {
          "output_type": "stream",
          "name": "stderr",
          "text": [
            "100%|██████████| 7957/7957 [00:49<00:00, 162.28it/s]\n"
          ]
        },
        {
          "output_type": "stream",
          "name": "stdout",
          "text": [
            "Epoch: 160, Average loss: 0.49676, Accuracy: 0.80018\n"
          ]
        },
        {
          "output_type": "stream",
          "name": "stderr",
          "text": [
            "100%|██████████| 7957/7957 [00:47<00:00, 166.05it/s]\n"
          ]
        },
        {
          "output_type": "stream",
          "name": "stdout",
          "text": [
            "Epoch: 161, Average loss: 0.49929, Accuracy: 0.79276\n"
          ]
        },
        {
          "output_type": "stream",
          "name": "stderr",
          "text": [
            "100%|██████████| 7957/7957 [00:47<00:00, 166.29it/s]\n"
          ]
        },
        {
          "output_type": "stream",
          "name": "stdout",
          "text": [
            "Epoch: 162, Average loss: 0.49906, Accuracy: 0.79829\n"
          ]
        },
        {
          "output_type": "stream",
          "name": "stderr",
          "text": [
            " 98%|█████████▊| 7784/7957 [00:46<00:01, 166.50it/s]\n"
          ]
        },
        {
          "output_type": "error",
          "ename": "KeyboardInterrupt",
          "evalue": "ignored",
          "traceback": [
            "\u001b[0;31m---------------------------------------------------------------------------\u001b[0m",
            "\u001b[0;31mKeyboardInterrupt\u001b[0m                         Traceback (most recent call last)",
            "\u001b[0;32m<ipython-input-12-a8dc62ad1b57>\u001b[0m in \u001b[0;36m<cell line: 3>\u001b[0;34m()\u001b[0m\n\u001b[1;32m      8\u001b[0m         \u001b[0mdata\u001b[0m \u001b[0;34m=\u001b[0m \u001b[0md\u001b[0m\u001b[0;34m[\u001b[0m\u001b[0;36m0\u001b[0m\u001b[0;34m]\u001b[0m\u001b[0;34m.\u001b[0m\u001b[0mto\u001b[0m\u001b[0;34m(\u001b[0m\u001b[0mdevice\u001b[0m\u001b[0;34m)\u001b[0m \u001b[0;31m#send data to device\u001b[0m\u001b[0;34m\u001b[0m\u001b[0;34m\u001b[0m\u001b[0m\n\u001b[1;32m      9\u001b[0m         \u001b[0moptimizer\u001b[0m\u001b[0;34m.\u001b[0m\u001b[0mzero_grad\u001b[0m\u001b[0;34m(\u001b[0m\u001b[0;34m)\u001b[0m \u001b[0;31m#zero gradients\u001b[0m\u001b[0;34m\u001b[0m\u001b[0;34m\u001b[0m\u001b[0m\n\u001b[0;32m---> 10\u001b[0;31m         \u001b[0mout\u001b[0m \u001b[0;34m=\u001b[0m \u001b[0mmodel\u001b[0m\u001b[0;34m(\u001b[0m\u001b[0mdata\u001b[0m\u001b[0;34m,\u001b[0m \u001b[0md\u001b[0m\u001b[0;34m[\u001b[0m\u001b[0;36m1\u001b[0m\u001b[0;34m]\u001b[0m\u001b[0;34m)\u001b[0m \u001b[0;31m#evaluate data point\u001b[0m\u001b[0;34m\u001b[0m\u001b[0;34m\u001b[0m\u001b[0m\n\u001b[0m\u001b[1;32m     11\u001b[0m         \u001b[0;32mif\u001b[0m \u001b[0mtorch\u001b[0m\u001b[0;34m.\u001b[0m\u001b[0margmax\u001b[0m\u001b[0;34m(\u001b[0m\u001b[0mout\u001b[0m\u001b[0;34m)\u001b[0m \u001b[0;34m==\u001b[0m \u001b[0mtorch\u001b[0m\u001b[0;34m.\u001b[0m\u001b[0margmax\u001b[0m\u001b[0;34m(\u001b[0m\u001b[0mdata\u001b[0m\u001b[0;34m.\u001b[0m\u001b[0my\u001b[0m\u001b[0;34m)\u001b[0m\u001b[0;34m:\u001b[0m \u001b[0;31m#if prediction is correct, increment counter for accuracy calculation\u001b[0m\u001b[0;34m\u001b[0m\u001b[0;34m\u001b[0m\u001b[0m\n\u001b[1;32m     12\u001b[0m             \u001b[0mnum_correct\u001b[0m \u001b[0;34m+=\u001b[0m \u001b[0;36m1\u001b[0m\u001b[0;34m\u001b[0m\u001b[0;34m\u001b[0m\u001b[0m\n",
            "\u001b[0;32m/usr/local/lib/python3.10/dist-packages/torch/nn/modules/module.py\u001b[0m in \u001b[0;36m_wrapped_call_impl\u001b[0;34m(self, *args, **kwargs)\u001b[0m\n\u001b[1;32m   1516\u001b[0m             \u001b[0;32mreturn\u001b[0m \u001b[0mself\u001b[0m\u001b[0;34m.\u001b[0m\u001b[0m_compiled_call_impl\u001b[0m\u001b[0;34m(\u001b[0m\u001b[0;34m*\u001b[0m\u001b[0margs\u001b[0m\u001b[0;34m,\u001b[0m \u001b[0;34m**\u001b[0m\u001b[0mkwargs\u001b[0m\u001b[0;34m)\u001b[0m  \u001b[0;31m# type: ignore[misc]\u001b[0m\u001b[0;34m\u001b[0m\u001b[0;34m\u001b[0m\u001b[0m\n\u001b[1;32m   1517\u001b[0m         \u001b[0;32melse\u001b[0m\u001b[0;34m:\u001b[0m\u001b[0;34m\u001b[0m\u001b[0;34m\u001b[0m\u001b[0m\n\u001b[0;32m-> 1518\u001b[0;31m             \u001b[0;32mreturn\u001b[0m \u001b[0mself\u001b[0m\u001b[0;34m.\u001b[0m\u001b[0m_call_impl\u001b[0m\u001b[0;34m(\u001b[0m\u001b[0;34m*\u001b[0m\u001b[0margs\u001b[0m\u001b[0;34m,\u001b[0m \u001b[0;34m**\u001b[0m\u001b[0mkwargs\u001b[0m\u001b[0;34m)\u001b[0m\u001b[0;34m\u001b[0m\u001b[0;34m\u001b[0m\u001b[0m\n\u001b[0m\u001b[1;32m   1519\u001b[0m \u001b[0;34m\u001b[0m\u001b[0m\n\u001b[1;32m   1520\u001b[0m     \u001b[0;32mdef\u001b[0m \u001b[0m_call_impl\u001b[0m\u001b[0;34m(\u001b[0m\u001b[0mself\u001b[0m\u001b[0;34m,\u001b[0m \u001b[0;34m*\u001b[0m\u001b[0margs\u001b[0m\u001b[0;34m,\u001b[0m \u001b[0;34m**\u001b[0m\u001b[0mkwargs\u001b[0m\u001b[0;34m)\u001b[0m\u001b[0;34m:\u001b[0m\u001b[0;34m\u001b[0m\u001b[0;34m\u001b[0m\u001b[0m\n",
            "\u001b[0;32m/usr/local/lib/python3.10/dist-packages/torch/nn/modules/module.py\u001b[0m in \u001b[0;36m_call_impl\u001b[0;34m(self, *args, **kwargs)\u001b[0m\n\u001b[1;32m   1525\u001b[0m                 \u001b[0;32mor\u001b[0m \u001b[0m_global_backward_pre_hooks\u001b[0m \u001b[0;32mor\u001b[0m \u001b[0m_global_backward_hooks\u001b[0m\u001b[0;34m\u001b[0m\u001b[0;34m\u001b[0m\u001b[0m\n\u001b[1;32m   1526\u001b[0m                 or _global_forward_hooks or _global_forward_pre_hooks):\n\u001b[0;32m-> 1527\u001b[0;31m             \u001b[0;32mreturn\u001b[0m \u001b[0mforward_call\u001b[0m\u001b[0;34m(\u001b[0m\u001b[0;34m*\u001b[0m\u001b[0margs\u001b[0m\u001b[0;34m,\u001b[0m \u001b[0;34m**\u001b[0m\u001b[0mkwargs\u001b[0m\u001b[0;34m)\u001b[0m\u001b[0;34m\u001b[0m\u001b[0;34m\u001b[0m\u001b[0m\n\u001b[0m\u001b[1;32m   1528\u001b[0m \u001b[0;34m\u001b[0m\u001b[0m\n\u001b[1;32m   1529\u001b[0m         \u001b[0;32mtry\u001b[0m\u001b[0;34m:\u001b[0m\u001b[0;34m\u001b[0m\u001b[0;34m\u001b[0m\u001b[0m\n",
            "\u001b[0;32m<ipython-input-10-d64eaf8ba21b>\u001b[0m in \u001b[0;36mforward\u001b[0;34m(self, gdata, ldata)\u001b[0m\n\u001b[1;32m     22\u001b[0m         \u001b[0mx\u001b[0m \u001b[0;34m=\u001b[0m \u001b[0mF\u001b[0m\u001b[0;34m.\u001b[0m\u001b[0mdropout\u001b[0m\u001b[0;34m(\u001b[0m\u001b[0mx\u001b[0m\u001b[0;34m,\u001b[0m \u001b[0mp\u001b[0m\u001b[0;34m=\u001b[0m\u001b[0;36m0.2\u001b[0m\u001b[0;34m,\u001b[0m \u001b[0mtraining\u001b[0m\u001b[0;34m=\u001b[0m\u001b[0mself\u001b[0m\u001b[0;34m.\u001b[0m\u001b[0mtraining\u001b[0m\u001b[0;34m)\u001b[0m\u001b[0;34m\u001b[0m\u001b[0;34m\u001b[0m\u001b[0m\n\u001b[1;32m     23\u001b[0m \u001b[0;34m\u001b[0m\u001b[0m\n\u001b[0;32m---> 24\u001b[0;31m         \u001b[0mx\u001b[0m \u001b[0;34m=\u001b[0m \u001b[0mself\u001b[0m\u001b[0;34m.\u001b[0m\u001b[0mconv2\u001b[0m\u001b[0;34m(\u001b[0m\u001b[0mx\u001b[0m\u001b[0;34m,\u001b[0m \u001b[0medge_index\u001b[0m\u001b[0;34m)\u001b[0m\u001b[0;34m\u001b[0m\u001b[0;34m\u001b[0m\u001b[0m\n\u001b[0m\u001b[1;32m     25\u001b[0m         \u001b[0mx\u001b[0m \u001b[0;34m=\u001b[0m \u001b[0mF\u001b[0m\u001b[0;34m.\u001b[0m\u001b[0mrelu\u001b[0m\u001b[0;34m(\u001b[0m\u001b[0mx\u001b[0m\u001b[0;34m)\u001b[0m\u001b[0;34m\u001b[0m\u001b[0;34m\u001b[0m\u001b[0m\n\u001b[1;32m     26\u001b[0m         \u001b[0mx\u001b[0m \u001b[0;34m=\u001b[0m \u001b[0mF\u001b[0m\u001b[0;34m.\u001b[0m\u001b[0mdropout\u001b[0m\u001b[0;34m(\u001b[0m\u001b[0mx\u001b[0m\u001b[0;34m,\u001b[0m \u001b[0mp\u001b[0m\u001b[0;34m=\u001b[0m\u001b[0;36m0.2\u001b[0m\u001b[0;34m,\u001b[0m \u001b[0mtraining\u001b[0m\u001b[0;34m=\u001b[0m\u001b[0mself\u001b[0m\u001b[0;34m.\u001b[0m\u001b[0mtraining\u001b[0m\u001b[0;34m)\u001b[0m\u001b[0;34m\u001b[0m\u001b[0;34m\u001b[0m\u001b[0m\n",
            "\u001b[0;32m/usr/local/lib/python3.10/dist-packages/torch/nn/modules/module.py\u001b[0m in \u001b[0;36m_wrapped_call_impl\u001b[0;34m(self, *args, **kwargs)\u001b[0m\n\u001b[1;32m   1516\u001b[0m             \u001b[0;32mreturn\u001b[0m \u001b[0mself\u001b[0m\u001b[0;34m.\u001b[0m\u001b[0m_compiled_call_impl\u001b[0m\u001b[0;34m(\u001b[0m\u001b[0;34m*\u001b[0m\u001b[0margs\u001b[0m\u001b[0;34m,\u001b[0m \u001b[0;34m**\u001b[0m\u001b[0mkwargs\u001b[0m\u001b[0;34m)\u001b[0m  \u001b[0;31m# type: ignore[misc]\u001b[0m\u001b[0;34m\u001b[0m\u001b[0;34m\u001b[0m\u001b[0m\n\u001b[1;32m   1517\u001b[0m         \u001b[0;32melse\u001b[0m\u001b[0;34m:\u001b[0m\u001b[0;34m\u001b[0m\u001b[0;34m\u001b[0m\u001b[0m\n\u001b[0;32m-> 1518\u001b[0;31m             \u001b[0;32mreturn\u001b[0m \u001b[0mself\u001b[0m\u001b[0;34m.\u001b[0m\u001b[0m_call_impl\u001b[0m\u001b[0;34m(\u001b[0m\u001b[0;34m*\u001b[0m\u001b[0margs\u001b[0m\u001b[0;34m,\u001b[0m \u001b[0;34m**\u001b[0m\u001b[0mkwargs\u001b[0m\u001b[0;34m)\u001b[0m\u001b[0;34m\u001b[0m\u001b[0;34m\u001b[0m\u001b[0m\n\u001b[0m\u001b[1;32m   1519\u001b[0m \u001b[0;34m\u001b[0m\u001b[0m\n\u001b[1;32m   1520\u001b[0m     \u001b[0;32mdef\u001b[0m \u001b[0m_call_impl\u001b[0m\u001b[0;34m(\u001b[0m\u001b[0mself\u001b[0m\u001b[0;34m,\u001b[0m \u001b[0;34m*\u001b[0m\u001b[0margs\u001b[0m\u001b[0;34m,\u001b[0m \u001b[0;34m**\u001b[0m\u001b[0mkwargs\u001b[0m\u001b[0;34m)\u001b[0m\u001b[0;34m:\u001b[0m\u001b[0;34m\u001b[0m\u001b[0;34m\u001b[0m\u001b[0m\n",
            "\u001b[0;32m/usr/local/lib/python3.10/dist-packages/torch/nn/modules/module.py\u001b[0m in \u001b[0;36m_call_impl\u001b[0;34m(self, *args, **kwargs)\u001b[0m\n\u001b[1;32m   1525\u001b[0m                 \u001b[0;32mor\u001b[0m \u001b[0m_global_backward_pre_hooks\u001b[0m \u001b[0;32mor\u001b[0m \u001b[0m_global_backward_hooks\u001b[0m\u001b[0;34m\u001b[0m\u001b[0;34m\u001b[0m\u001b[0m\n\u001b[1;32m   1526\u001b[0m                 or _global_forward_hooks or _global_forward_pre_hooks):\n\u001b[0;32m-> 1527\u001b[0;31m             \u001b[0;32mreturn\u001b[0m \u001b[0mforward_call\u001b[0m\u001b[0;34m(\u001b[0m\u001b[0;34m*\u001b[0m\u001b[0margs\u001b[0m\u001b[0;34m,\u001b[0m \u001b[0;34m**\u001b[0m\u001b[0mkwargs\u001b[0m\u001b[0;34m)\u001b[0m\u001b[0;34m\u001b[0m\u001b[0;34m\u001b[0m\u001b[0m\n\u001b[0m\u001b[1;32m   1528\u001b[0m \u001b[0;34m\u001b[0m\u001b[0m\n\u001b[1;32m   1529\u001b[0m         \u001b[0;32mtry\u001b[0m\u001b[0;34m:\u001b[0m\u001b[0;34m\u001b[0m\u001b[0;34m\u001b[0m\u001b[0m\n",
            "\u001b[0;32m/usr/local/lib/python3.10/dist-packages/torch_geometric/nn/conv/gcn_conv.py\u001b[0m in \u001b[0;36mforward\u001b[0;34m(self, x, edge_index, edge_weight)\u001b[0m\n\u001b[1;32m    239\u001b[0m                     \u001b[0medge_index\u001b[0m \u001b[0;34m=\u001b[0m \u001b[0mcache\u001b[0m\u001b[0;34m\u001b[0m\u001b[0;34m\u001b[0m\u001b[0m\n\u001b[1;32m    240\u001b[0m \u001b[0;34m\u001b[0m\u001b[0m\n\u001b[0;32m--> 241\u001b[0;31m         \u001b[0mx\u001b[0m \u001b[0;34m=\u001b[0m \u001b[0mself\u001b[0m\u001b[0;34m.\u001b[0m\u001b[0mlin\u001b[0m\u001b[0;34m(\u001b[0m\u001b[0mx\u001b[0m\u001b[0;34m)\u001b[0m\u001b[0;34m\u001b[0m\u001b[0;34m\u001b[0m\u001b[0m\n\u001b[0m\u001b[1;32m    242\u001b[0m \u001b[0;34m\u001b[0m\u001b[0m\n\u001b[1;32m    243\u001b[0m         \u001b[0;31m# propagate_type: (x: Tensor, edge_weight: OptTensor)\u001b[0m\u001b[0;34m\u001b[0m\u001b[0;34m\u001b[0m\u001b[0m\n",
            "\u001b[0;32m/usr/local/lib/python3.10/dist-packages/torch/nn/modules/module.py\u001b[0m in \u001b[0;36m_wrapped_call_impl\u001b[0;34m(self, *args, **kwargs)\u001b[0m\n\u001b[1;32m   1516\u001b[0m             \u001b[0;32mreturn\u001b[0m \u001b[0mself\u001b[0m\u001b[0;34m.\u001b[0m\u001b[0m_compiled_call_impl\u001b[0m\u001b[0;34m(\u001b[0m\u001b[0;34m*\u001b[0m\u001b[0margs\u001b[0m\u001b[0;34m,\u001b[0m \u001b[0;34m**\u001b[0m\u001b[0mkwargs\u001b[0m\u001b[0;34m)\u001b[0m  \u001b[0;31m# type: ignore[misc]\u001b[0m\u001b[0;34m\u001b[0m\u001b[0;34m\u001b[0m\u001b[0m\n\u001b[1;32m   1517\u001b[0m         \u001b[0;32melse\u001b[0m\u001b[0;34m:\u001b[0m\u001b[0;34m\u001b[0m\u001b[0;34m\u001b[0m\u001b[0m\n\u001b[0;32m-> 1518\u001b[0;31m             \u001b[0;32mreturn\u001b[0m \u001b[0mself\u001b[0m\u001b[0;34m.\u001b[0m\u001b[0m_call_impl\u001b[0m\u001b[0;34m(\u001b[0m\u001b[0;34m*\u001b[0m\u001b[0margs\u001b[0m\u001b[0;34m,\u001b[0m \u001b[0;34m**\u001b[0m\u001b[0mkwargs\u001b[0m\u001b[0;34m)\u001b[0m\u001b[0;34m\u001b[0m\u001b[0;34m\u001b[0m\u001b[0m\n\u001b[0m\u001b[1;32m   1519\u001b[0m \u001b[0;34m\u001b[0m\u001b[0m\n\u001b[1;32m   1520\u001b[0m     \u001b[0;32mdef\u001b[0m \u001b[0m_call_impl\u001b[0m\u001b[0;34m(\u001b[0m\u001b[0mself\u001b[0m\u001b[0;34m,\u001b[0m \u001b[0;34m*\u001b[0m\u001b[0margs\u001b[0m\u001b[0;34m,\u001b[0m \u001b[0;34m**\u001b[0m\u001b[0mkwargs\u001b[0m\u001b[0;34m)\u001b[0m\u001b[0;34m:\u001b[0m\u001b[0;34m\u001b[0m\u001b[0;34m\u001b[0m\u001b[0m\n",
            "\u001b[0;32m/usr/local/lib/python3.10/dist-packages/torch/nn/modules/module.py\u001b[0m in \u001b[0;36m_call_impl\u001b[0;34m(self, *args, **kwargs)\u001b[0m\n\u001b[1;32m   1525\u001b[0m                 \u001b[0;32mor\u001b[0m \u001b[0m_global_backward_pre_hooks\u001b[0m \u001b[0;32mor\u001b[0m \u001b[0m_global_backward_hooks\u001b[0m\u001b[0;34m\u001b[0m\u001b[0;34m\u001b[0m\u001b[0m\n\u001b[1;32m   1526\u001b[0m                 or _global_forward_hooks or _global_forward_pre_hooks):\n\u001b[0;32m-> 1527\u001b[0;31m             \u001b[0;32mreturn\u001b[0m \u001b[0mforward_call\u001b[0m\u001b[0;34m(\u001b[0m\u001b[0;34m*\u001b[0m\u001b[0margs\u001b[0m\u001b[0;34m,\u001b[0m \u001b[0;34m**\u001b[0m\u001b[0mkwargs\u001b[0m\u001b[0;34m)\u001b[0m\u001b[0;34m\u001b[0m\u001b[0;34m\u001b[0m\u001b[0m\n\u001b[0m\u001b[1;32m   1528\u001b[0m \u001b[0;34m\u001b[0m\u001b[0m\n\u001b[1;32m   1529\u001b[0m         \u001b[0;32mtry\u001b[0m\u001b[0;34m:\u001b[0m\u001b[0;34m\u001b[0m\u001b[0;34m\u001b[0m\u001b[0m\n",
            "\u001b[0;32m/usr/local/lib/python3.10/dist-packages/torch_geometric/nn/dense/linear.py\u001b[0m in \u001b[0;36mforward\u001b[0;34m(self, x)\u001b[0m\n\u001b[1;32m    128\u001b[0m             \u001b[0mx\u001b[0m \u001b[0;34m(\u001b[0m\u001b[0mtorch\u001b[0m\u001b[0;34m.\u001b[0m\u001b[0mTensor\u001b[0m\u001b[0;34m)\u001b[0m\u001b[0;34m:\u001b[0m \u001b[0mThe\u001b[0m \u001b[0minput\u001b[0m \u001b[0mfeatures\u001b[0m\u001b[0;34m.\u001b[0m\u001b[0;34m\u001b[0m\u001b[0;34m\u001b[0m\u001b[0m\n\u001b[1;32m    129\u001b[0m         \"\"\"\n\u001b[0;32m--> 130\u001b[0;31m         \u001b[0;32mreturn\u001b[0m \u001b[0mF\u001b[0m\u001b[0;34m.\u001b[0m\u001b[0mlinear\u001b[0m\u001b[0;34m(\u001b[0m\u001b[0mx\u001b[0m\u001b[0;34m,\u001b[0m \u001b[0mself\u001b[0m\u001b[0;34m.\u001b[0m\u001b[0mweight\u001b[0m\u001b[0;34m,\u001b[0m \u001b[0mself\u001b[0m\u001b[0;34m.\u001b[0m\u001b[0mbias\u001b[0m\u001b[0;34m)\u001b[0m\u001b[0;34m\u001b[0m\u001b[0;34m\u001b[0m\u001b[0m\n\u001b[0m\u001b[1;32m    131\u001b[0m \u001b[0;34m\u001b[0m\u001b[0m\n\u001b[1;32m    132\u001b[0m     \u001b[0;34m@\u001b[0m\u001b[0mtorch\u001b[0m\u001b[0;34m.\u001b[0m\u001b[0mno_grad\u001b[0m\u001b[0;34m(\u001b[0m\u001b[0;34m)\u001b[0m\u001b[0;34m\u001b[0m\u001b[0;34m\u001b[0m\u001b[0m\n",
            "\u001b[0;31mKeyboardInterrupt\u001b[0m: "
          ]
        }
      ],
      "source": [
        "#train model\n",
        "model.train() #set model to training mode\n",
        "for epoch in range(200): #run for epochs of training\n",
        "    sum_loss = 0 #used to compute average loss in an epoch\n",
        "    num_correct = 0\n",
        "    random.shuffle(train) #shuffle the training data each epoch\n",
        "    for d in tqdm(train): #go over each training point\n",
        "        data = d[0].to(device) #send data to device\n",
        "        optimizer.zero_grad() #zero gradients\n",
        "        out = model(data, d[1]) #evaluate data point\n",
        "        if torch.argmax(out) == torch.argmax(data.y): #if prediction is correct, increment counter for accuracy calculation\n",
        "            num_correct += 1\n",
        "        loss = CSE(torch.reshape(out, [1, 3]), torch.reshape(torch.argmax(data.y),[1])) #compute mean squared error loss\n",
        "        sum_loss += float(loss) #add loss value to aggregate loss\n",
        "        loss.backward() #compute gradients\n",
        "        optimizer.step() #apply optimization\n",
        "    print('Epoch: {:03d}, Average loss: {:.5f}, Accuracy: {:.5f}'.format(epoch, sum_loss/len(train), num_correct/len(train)))"
      ]
    },
    {
      "cell_type": "code",
      "execution_count": null,
      "metadata": {
        "id": "KN59wgg8itV3",
        "colab": {
          "base_uri": "https://localhost:8080/",
          "height": 517
        },
        "outputId": "9920206d-60b4-490c-bffa-c51249fc8e33"
      },
      "outputs": [
        {
          "output_type": "stream",
          "name": "stderr",
          "text": [
            "100%|██████████| 1990/1990 [00:04<00:00, 446.71it/s]\n"
          ]
        },
        {
          "output_type": "stream",
          "name": "stdout",
          "text": [
            "Test accuracy: 0.7492462311557789\n"
          ]
        },
        {
          "output_type": "execute_result",
          "data": {
            "text/plain": [
              "(array([642., 704., 644.]),\n",
              " array([0.        , 0.66666667, 1.33333333, 2.        ]),\n",
              " <BarContainer object of 3 artists>)"
            ]
          },
          "metadata": {},
          "execution_count": 13
        },
        {
          "output_type": "display_data",
          "data": {
            "text/plain": [
              "<Figure size 640x480 with 1 Axes>"
            ],
            "image/png": "[encoded data removed]"
          },
          "metadata": {}
        }
      ],
      "source": [
        "#test the model and display a histogram of the outputs\n",
        "num_correct = 0\n",
        "model.eval()\n",
        "predictions = list()\n",
        "y_pred = list()\n",
        "y_true = list()\n",
        "for t in tqdm(test):\n",
        "    d = t[0].to(device)\n",
        "    out = model(d,t[1])\n",
        "    y_true.append(torch.argmax(d.y))\n",
        "    y_pred.append(torch.argmax(out))\n",
        "    if torch.argmax(out) == torch.argmax(d.y): #if prediction is correct, increment counter for accuracy calculation\n",
        "            num_correct += 1\n",
        "    predictions.append(torch.argmax(out).item())\n",
        "\n",
        "print(\"Test accuracy: \" + str(num_correct/len(test)))\n",
        "plt.hist(predictions, bins=3)"
      ]
    },
    {
      "cell_type": "code",
      "execution_count": null,
      "metadata": {
        "id": "zTq0pyD8kLPD",
        "colab": {
          "base_uri": "https://localhost:8080/",
          "height": 486
        },
        "outputId": "5346b9d6-120e-4053-b372-2d778cc4776e"
      },
      "outputs": [
        {
          "output_type": "stream",
          "name": "stdout",
          "text": [
            "[tensor(2), tensor(2), tensor(0), tensor(1), tensor(1), tensor(2), tensor(1), tensor(2), tensor(2), tensor(2), tensor(1), tensor(2), tensor(2), tensor(0), tensor(1), tensor(0), tensor(1), tensor(0), tensor(2), tensor(0), tensor(1), tensor(2), tensor(0), tensor(0), tensor(2), tensor(0), tensor(2), tensor(2), tensor(1), tensor(0), tensor(0), tensor(1), tensor(0), tensor(2), tensor(2), tensor(1), tensor(2), tensor(2), tensor(2), tensor(2), tensor(0), tensor(1), tensor(0), tensor(0), tensor(2), tensor(1), tensor(0), tensor(0), tensor(0), tensor(2), tensor(1), tensor(0), tensor(1), tensor(1), tensor(1), tensor(0), tensor(0), tensor(2), tensor(1), tensor(0), tensor(0), tensor(1), tensor(1), tensor(2), tensor(1), tensor(1), tensor(1), tensor(2), tensor(1), tensor(2), tensor(1), tensor(1), tensor(2), tensor(0), tensor(2), tensor(1), tensor(1), tensor(0), tensor(2), tensor(1), tensor(2), tensor(1), tensor(1), tensor(2), tensor(1), tensor(1), tensor(2), tensor(2), tensor(0), tensor(2), tensor(2), tensor(0), tensor(0), tensor(2), tensor(2), tensor(0), tensor(0), tensor(2), tensor(0), tensor(2), tensor(1), tensor(1), tensor(0), tensor(0), tensor(2), tensor(2), tensor(0), tensor(1), tensor(1), tensor(2), tensor(0), tensor(1), tensor(1), tensor(1), tensor(0), tensor(1), tensor(2), tensor(1), tensor(0), tensor(1), tensor(2), tensor(2), tensor(1), tensor(0), tensor(2), tensor(0), tensor(2), tensor(0), tensor(0), tensor(1), tensor(2), tensor(1), tensor(1), tensor(0), tensor(0), tensor(2), tensor(2), tensor(1), tensor(1), tensor(2), tensor(1), tensor(1), tensor(2), tensor(0), tensor(2), tensor(1), tensor(1), tensor(2), tensor(1), tensor(0), tensor(1), tensor(2), tensor(1), tensor(0), tensor(2), tensor(1), tensor(2), tensor(2), tensor(2), tensor(0), tensor(0), tensor(2), tensor(0), tensor(1), tensor(2), tensor(0), tensor(1), tensor(2), tensor(0), tensor(1), tensor(1), tensor(0), tensor(1), tensor(2), tensor(2), tensor(0), tensor(1), tensor(0), tensor(0), tensor(2), tensor(0), tensor(0), tensor(1), tensor(2), tensor(0), tensor(2), tensor(0), tensor(1), tensor(2), tensor(1), tensor(2), tensor(1), tensor(2), tensor(0), tensor(0), tensor(2), tensor(0), tensor(2), tensor(2), tensor(2), tensor(2), tensor(2), tensor(1), tensor(0), tensor(1), tensor(0), tensor(0), tensor(0), tensor(2), tensor(1), tensor(0), tensor(2), tensor(1), tensor(1), tensor(2), tensor(2), tensor(2), tensor(2), tensor(1), tensor(0), tensor(0), tensor(1), tensor(1), tensor(0), tensor(1), tensor(0), tensor(2), tensor(1), tensor(2), tensor(2), tensor(1), tensor(1), tensor(2), tensor(1), tensor(1), tensor(1), tensor(1), tensor(2), tensor(2), tensor(0), tensor(0), tensor(0), tensor(0), tensor(0), tensor(1), tensor(1), tensor(1), tensor(0), tensor(2), tensor(2), tensor(1), tensor(1), tensor(2), tensor(2), tensor(2), tensor(0), tensor(2), tensor(0), tensor(0), tensor(2), tensor(1), tensor(2), tensor(2), tensor(0), tensor(0), tensor(0), tensor(1), tensor(2), tensor(0), tensor(0), tensor(1), tensor(2), tensor(1), tensor(1), tensor(0), tensor(0), tensor(2), tensor(2), tensor(1), tensor(2), tensor(2), tensor(1), tensor(0), tensor(1), tensor(2), tensor(0), tensor(2), tensor(1), tensor(0), tensor(1), tensor(2), tensor(0), tensor(0), tensor(1), tensor(2), tensor(2), tensor(0), tensor(1), tensor(0), tensor(1), tensor(0), tensor(0), tensor(1), tensor(1), tensor(0), tensor(1), tensor(2), tensor(1), tensor(2), tensor(0), tensor(2), tensor(1), tensor(2), tensor(0), tensor(0), tensor(2), tensor(2), tensor(0), tensor(2), tensor(0), tensor(1), tensor(2), tensor(1), tensor(2), tensor(2), tensor(0), tensor(0), tensor(1), tensor(2), tensor(2), tensor(0), tensor(2), tensor(2), tensor(1), tensor(1), tensor(1), tensor(0), tensor(0), tensor(1), tensor(2), tensor(1), tensor(1), tensor(2), tensor(2), tensor(1), tensor(2), tensor(1), tensor(1), tensor(2), tensor(0), tensor(2), tensor(1), tensor(1), tensor(0), tensor(2), tensor(0), tensor(1), tensor(0), tensor(0), tensor(2), tensor(0), tensor(0), tensor(0), tensor(2), tensor(1), tensor(2), tensor(1), tensor(1), tensor(1), tensor(0), tensor(2), tensor(2), tensor(1), tensor(1), tensor(0), tensor(0), tensor(0), tensor(2), tensor(0), tensor(0), tensor(2), tensor(0), tensor(1), tensor(0), tensor(0), tensor(0), tensor(2), tensor(1), tensor(2), tensor(0), tensor(0), tensor(2), tensor(0), tensor(2), tensor(1), tensor(2), tensor(1), tensor(1), tensor(0), tensor(0), tensor(1), tensor(0), tensor(2), tensor(2), tensor(1), tensor(2), tensor(2), tensor(1), tensor(1), tensor(2), tensor(2), tensor(1), tensor(2), tensor(0), tensor(0), tensor(2), tensor(0), tensor(2), tensor(1), tensor(1), tensor(1), tensor(1), tensor(0), tensor(2), tensor(1), tensor(1), tensor(2), tensor(0), tensor(1), tensor(1), tensor(1), tensor(2), tensor(0), tensor(2), tensor(1), tensor(0), tensor(2), tensor(2), tensor(2), tensor(1), tensor(0), tensor(1), tensor(1), tensor(0), tensor(1), tensor(2), tensor(1), tensor(1), tensor(2), tensor(1), tensor(2), tensor(1), tensor(0), tensor(2), tensor(0), tensor(1), tensor(1), tensor(2), tensor(0), tensor(1), tensor(0), tensor(0), tensor(0), tensor(1), tensor(0), tensor(2), tensor(0), tensor(2), tensor(1), tensor(0), tensor(0), tensor(1), tensor(0), tensor(0), tensor(1), tensor(2), tensor(2), tensor(0), tensor(0), tensor(2), tensor(1), tensor(2), tensor(2), tensor(0), tensor(2), tensor(0), tensor(1), tensor(0), tensor(1), tensor(1), tensor(2), tensor(2), tensor(2), tensor(0), tensor(0), tensor(1), tensor(2), tensor(2), tensor(0), tensor(1), tensor(2), tensor(1), tensor(1), tensor(2), tensor(0), tensor(1), tensor(0), tensor(0), tensor(1), tensor(2), tensor(1), tensor(0), tensor(2), tensor(0), tensor(0), tensor(0), tensor(1), tensor(1), tensor(1), tensor(2), tensor(0), tensor(1), tensor(1), tensor(1), tensor(1), tensor(2), tensor(2), tensor(2), tensor(2), tensor(0), tensor(2), tensor(1), tensor(1), tensor(0), tensor(1), tensor(1), tensor(2), tensor(0), tensor(1), tensor(2), tensor(2), tensor(2), tensor(2), tensor(1), tensor(2), tensor(1), tensor(1), tensor(0), tensor(1), tensor(1), tensor(1), tensor(2), tensor(0), tensor(2), tensor(2), tensor(1), tensor(0), tensor(0), tensor(1), tensor(2), tensor(2), tensor(0), tensor(0), tensor(2), tensor(1), tensor(1), tensor(1), tensor(0), tensor(1), tensor(2), tensor(2), tensor(0), tensor(1), tensor(2), tensor(1), tensor(2), tensor(0), tensor(1), tensor(1), tensor(0), tensor(2), tensor(1), tensor(0), tensor(2), tensor(0), tensor(1), tensor(1), tensor(0), tensor(2), tensor(1), tensor(2), tensor(2), tensor(2), tensor(0), tensor(2), tensor(1), tensor(2), tensor(1), tensor(0), tensor(1), tensor(2), tensor(1), tensor(1), tensor(1), tensor(0), tensor(0), tensor(1), tensor(2), tensor(0), tensor(2), tensor(2), tensor(2), tensor(2), tensor(0), tensor(2), tensor(2), tensor(1), tensor(0), tensor(0), tensor(1), tensor(1), tensor(1), tensor(1), tensor(1), tensor(0), tensor(0), tensor(0), tensor(2), tensor(2), tensor(1), tensor(1), tensor(2), tensor(0), tensor(1), tensor(1), tensor(0), tensor(2), tensor(0), tensor(2), tensor(2), tensor(0), tensor(1), tensor(2), tensor(2), tensor(1), tensor(2), tensor(0), tensor(0), tensor(2), tensor(1), tensor(1), tensor(1), tensor(0), tensor(1), tensor(1), tensor(2), tensor(0), tensor(0), tensor(2), tensor(1), tensor(0), tensor(1), tensor(0), tensor(0), tensor(2), tensor(1), tensor(2), tensor(2), tensor(1), tensor(1), tensor(1), tensor(0), tensor(0), tensor(2), tensor(0), tensor(1), tensor(0), tensor(0), tensor(1), tensor(1), tensor(1), tensor(1), tensor(2), tensor(0), tensor(1), tensor(1), tensor(1), tensor(1), tensor(2), tensor(2), tensor(0), tensor(0), tensor(1), tensor(1), tensor(2), tensor(0), tensor(1), tensor(0), tensor(0), tensor(2), tensor(1), tensor(1), tensor(0), tensor(1), tensor(1), tensor(0), tensor(2), tensor(1), tensor(2), tensor(2), tensor(2), tensor(1), tensor(1), tensor(1), tensor(0), tensor(1), tensor(1), tensor(0), tensor(0), tensor(2), tensor(1), tensor(1), tensor(0), tensor(2), tensor(2), tensor(0), tensor(2), tensor(2), tensor(0), tensor(2), tensor(2), tensor(1), tensor(2), tensor(2), tensor(0), tensor(2), tensor(1), tensor(0), tensor(2), tensor(0), tensor(2), tensor(1), tensor(2), tensor(0), tensor(1), tensor(2), tensor(2), tensor(1), tensor(1), tensor(0), tensor(2), tensor(0), tensor(2), tensor(1), tensor(1), tensor(2), tensor(0), tensor(0), tensor(1), tensor(0), tensor(0), tensor(2), tensor(2), tensor(0), tensor(0), tensor(1), tensor(1), tensor(0), tensor(2), tensor(0), tensor(1), tensor(0), tensor(0), tensor(0), tensor(1), tensor(0), tensor(0), tensor(2), tensor(0), tensor(1), tensor(0), tensor(2), tensor(1), tensor(2), tensor(1), tensor(1), tensor(0), tensor(0), tensor(2), tensor(0), tensor(1), tensor(0), tensor(1), tensor(0), tensor(1), tensor(0), tensor(2), tensor(0), tensor(0), tensor(2), tensor(1), tensor(1), tensor(0), tensor(1), tensor(1), tensor(1), tensor(1), tensor(1), tensor(0), tensor(0), tensor(2), tensor(0), tensor(2), tensor(2), tensor(2), tensor(2), tensor(0), tensor(0), tensor(2), tensor(0), tensor(1), tensor(0), tensor(1), tensor(2), tensor(0), tensor(2), tensor(1), tensor(2), tensor(2), tensor(1), tensor(1), tensor(2), tensor(0), tensor(2), tensor(0), tensor(1), tensor(1), tensor(0), tensor(2), tensor(1), tensor(2), tensor(0), tensor(1), tensor(2), tensor(0), tensor(0), tensor(1), tensor(1), tensor(1), tensor(2), tensor(1), tensor(2), tensor(0), tensor(0), tensor(2), tensor(2), tensor(2), tensor(0), tensor(2), tensor(2), tensor(0), tensor(2), tensor(2), tensor(2), tensor(0), tensor(0), tensor(1), tensor(0), tensor(1), tensor(0), tensor(1), tensor(1), tensor(1), tensor(2), tensor(0), tensor(1), tensor(0), tensor(1), tensor(0), tensor(0), tensor(1), tensor(0), tensor(2), tensor(0), tensor(0), tensor(0), tensor(1), tensor(2), tensor(2), tensor(1), tensor(0), tensor(2), tensor(1), tensor(0), tensor(2), tensor(2), tensor(2), tensor(0), tensor(1), tensor(0), tensor(0), tensor(0), tensor(2), tensor(2), tensor(2), tensor(2), tensor(0), tensor(2), tensor(0), tensor(2), tensor(1), tensor(1), tensor(2), tensor(0), tensor(2), tensor(1), tensor(0), tensor(0), tensor(0), tensor(1), tensor(2), tensor(0), tensor(1), tensor(0), tensor(2), tensor(1), tensor(2), tensor(2), tensor(0), tensor(1), tensor(2), tensor(0), tensor(2), tensor(1), tensor(2), tensor(0), tensor(1), tensor(2), tensor(1), tensor(0), tensor(0), tensor(1), tensor(0), tensor(2), tensor(0), tensor(2), tensor(2), tensor(1), tensor(2), tensor(0), tensor(0), tensor(0), tensor(1), tensor(0), tensor(1), tensor(1), tensor(2), tensor(0), tensor(1), tensor(1), tensor(1), tensor(0), tensor(1), tensor(0), tensor(1), tensor(1), tensor(2), tensor(1), tensor(0), tensor(1), tensor(1), tensor(2), tensor(1), tensor(1), tensor(1), tensor(2), tensor(2), tensor(1), tensor(0), tensor(1), tensor(0), tensor(0), tensor(1), tensor(0), tensor(1), tensor(2), tensor(0), tensor(1), tensor(1), tensor(1), tensor(0), tensor(2), tensor(2), tensor(0), tensor(1), tensor(2), tensor(0), tensor(0), tensor(2), tensor(2), tensor(1), tensor(1), tensor(2), tensor(1), tensor(0), tensor(2), tensor(1), tensor(2), tensor(1), tensor(1), tensor(1), tensor(1), tensor(1), tensor(0), tensor(2), tensor(0), tensor(2), tensor(1), tensor(2), tensor(0), tensor(0), tensor(0), tensor(0), tensor(0), tensor(2), tensor(0), tensor(1), tensor(1), tensor(1), tensor(1), tensor(1), tensor(0), tensor(2), tensor(1), tensor(1), tensor(2), tensor(0), tensor(0), tensor(2), tensor(2), tensor(2), tensor(1), tensor(0), tensor(2), tensor(0), tensor(2), tensor(2), tensor(0), tensor(2), tensor(1), tensor(2), tensor(2), tensor(1), tensor(1), tensor(1), tensor(1), tensor(2), tensor(2), tensor(0), tensor(1), tensor(2), tensor(2), tensor(2), tensor(0), tensor(0), tensor(0), tensor(2), tensor(2), tensor(1), tensor(1), tensor(1), tensor(2), tensor(2), tensor(2), tensor(1), tensor(0), tensor(0), tensor(0), tensor(0), tensor(0), tensor(2), tensor(2), tensor(0), tensor(0), tensor(1), tensor(1), tensor(2), tensor(0), tensor(1), tensor(2), tensor(2), tensor(2), tensor(1), tensor(0), tensor(0), tensor(2), tensor(0), tensor(1), tensor(1), tensor(2), tensor(1), tensor(0), tensor(2), tensor(2), tensor(1), tensor(1), tensor(1), tensor(0), tensor(1), tensor(1), tensor(0), tensor(1), tensor(2), tensor(2), tensor(1), tensor(1), tensor(2), tensor(0), tensor(0), tensor(1), tensor(2), tensor(2), tensor(0), tensor(2), tensor(1), tensor(0), tensor(0), tensor(1), tensor(1), tensor(1), tensor(0), tensor(0), tensor(0), tensor(0), tensor(1), tensor(0), tensor(0), tensor(2), tensor(1), tensor(0), tensor(2), tensor(2), tensor(1), tensor(1), tensor(1), tensor(2), tensor(1), tensor(2), tensor(1), tensor(1), tensor(0), tensor(1), tensor(2), tensor(2), tensor(0), tensor(2), tensor(2), tensor(1), tensor(2), tensor(1), tensor(0), tensor(0), tensor(2), tensor(1), tensor(2), tensor(0), tensor(1), tensor(2), tensor(1), tensor(1), tensor(1), tensor(1), tensor(0), tensor(2), tensor(0), tensor(1), tensor(0), tensor(2), tensor(0), tensor(2), tensor(0), tensor(0), tensor(2), tensor(1), tensor(0), tensor(0), tensor(2), tensor(0), tensor(2), tensor(1), tensor(2), tensor(2), tensor(1), tensor(1), tensor(2), tensor(1), tensor(2), tensor(0), tensor(1), tensor(1), tensor(0), tensor(1), tensor(1), tensor(2), tensor(1), tensor(0), tensor(0), tensor(1), tensor(0), tensor(2), tensor(2), tensor(2), tensor(0), tensor(1), tensor(1), tensor(1), tensor(1), tensor(1), tensor(2), tensor(1), tensor(1), tensor(0), tensor(0), tensor(1), tensor(1), tensor(0), tensor(1), tensor(0), tensor(1), tensor(0), tensor(0), tensor(1), tensor(1), tensor(1), tensor(1), tensor(2), tensor(2), tensor(2), tensor(1), tensor(0), tensor(1), tensor(0), tensor(0), tensor(0), tensor(0), tensor(2), tensor(0), tensor(0), tensor(1), tensor(1), tensor(0), tensor(2), tensor(1), tensor(0), tensor(0), tensor(2), tensor(0), tensor(1), tensor(2), tensor(1), tensor(0), tensor(0), tensor(0), tensor(2), tensor(1), tensor(2), tensor(1), tensor(0), tensor(0), tensor(2), tensor(2), tensor(2), tensor(0), tensor(0), tensor(0), tensor(0), tensor(1), tensor(2), tensor(0), tensor(1), tensor(1), tensor(2), tensor(1), tensor(2), tensor(0), tensor(0), tensor(1), tensor(1), tensor(0), tensor(1), tensor(0), tensor(1), tensor(2), tensor(0), tensor(2), tensor(1), tensor(0), tensor(0), tensor(0), tensor(2), tensor(0), tensor(1), tensor(2), tensor(2), tensor(0), tensor(1), tensor(0), tensor(1), tensor(2), tensor(1), tensor(0), tensor(2), tensor(0), tensor(0), tensor(2), tensor(0), tensor(1), tensor(2), tensor(0), tensor(2), tensor(0), tensor(0), tensor(2), tensor(2), tensor(0), tensor(1), tensor(0), tensor(0), tensor(1), tensor(1), tensor(0), tensor(0), tensor(2), tensor(1), tensor(2), tensor(1), tensor(2), tensor(0), tensor(0), tensor(1), tensor(2), tensor(1), tensor(1), tensor(0), tensor(0), tensor(1), tensor(2), tensor(2), tensor(1), tensor(2), tensor(1), tensor(0), tensor(1), tensor(0), tensor(2), tensor(1), tensor(1), tensor(1), tensor(1), tensor(1), tensor(2), tensor(0), tensor(2), tensor(2), tensor(1), tensor(0), tensor(1), tensor(0), tensor(0), tensor(0), tensor(1), tensor(2), tensor(0), tensor(0), tensor(2), tensor(2), tensor(2), tensor(2), tensor(2), tensor(1), tensor(0), tensor(0), tensor(0), tensor(1), tensor(0), tensor(2), tensor(1), tensor(2), tensor(1), tensor(0), tensor(2), tensor(2), tensor(1), tensor(1), tensor(1), tensor(1), tensor(1), tensor(1), tensor(1), tensor(1), tensor(0), tensor(1), tensor(1), tensor(0), tensor(1), tensor(2), tensor(2), tensor(0), tensor(1), tensor(1), tensor(1), tensor(0), tensor(0), tensor(1), tensor(0), tensor(0), tensor(1), tensor(0), tensor(0), tensor(2), tensor(0), tensor(0), tensor(1), tensor(2), tensor(0), tensor(2), tensor(1), tensor(0), tensor(0), tensor(0), tensor(0), tensor(1), tensor(0), tensor(1), tensor(1), tensor(0), tensor(0), tensor(2), tensor(2), tensor(2), tensor(1), tensor(1), tensor(1), tensor(1), tensor(0), tensor(2), tensor(2), tensor(0), tensor(2), tensor(1), tensor(0), tensor(2), tensor(2), tensor(2), tensor(2), tensor(2), tensor(2), tensor(0), tensor(0), tensor(1), tensor(2), tensor(1), tensor(2), tensor(1), tensor(1), tensor(2), tensor(1), tensor(0), tensor(2), tensor(2), tensor(0), tensor(1), tensor(2), tensor(2), tensor(0), tensor(1), tensor(2), tensor(1), tensor(1), tensor(0), tensor(1), tensor(1), tensor(1), tensor(2), tensor(2), tensor(2), tensor(2), tensor(1), tensor(0), tensor(1), tensor(2), tensor(1), tensor(2), tensor(2), tensor(0), tensor(2), tensor(2), tensor(1), tensor(0), tensor(0), tensor(1), tensor(0), tensor(1), tensor(1), tensor(0), tensor(0), tensor(2), tensor(2), tensor(2), tensor(2), tensor(2), tensor(1), tensor(0), tensor(1), tensor(1), tensor(0), tensor(1), tensor(2), tensor(1), tensor(1), tensor(1), tensor(1), tensor(0), tensor(0), tensor(2), tensor(0), tensor(1), tensor(1), tensor(0), tensor(2), tensor(2), tensor(1), tensor(1), tensor(2), tensor(0), tensor(1), tensor(0), tensor(2), tensor(1), tensor(1), tensor(2), tensor(1), tensor(0), tensor(1), tensor(2), tensor(0), tensor(0), tensor(0), tensor(2), tensor(1), tensor(0), tensor(1), tensor(0), tensor(2), tensor(1), tensor(0), tensor(2), tensor(0), tensor(2), tensor(1), tensor(0), tensor(1), tensor(0), tensor(1), tensor(1), tensor(1), tensor(1), tensor(0), tensor(2), tensor(1), tensor(0), tensor(1), tensor(0), tensor(1), tensor(1), tensor(0), tensor(0), tensor(2), tensor(1), tensor(0), tensor(1), tensor(0), tensor(2), tensor(2), tensor(1), tensor(0), tensor(2), tensor(2), tensor(0), tensor(1), tensor(1), tensor(1), tensor(2), tensor(1), tensor(2), tensor(2), tensor(2), tensor(1), tensor(1), tensor(1), tensor(2), tensor(2), tensor(2), tensor(2), tensor(1), tensor(2), tensor(1), tensor(2), tensor(2), tensor(2), tensor(1), tensor(2), tensor(1), tensor(1), tensor(1), tensor(0), tensor(2), tensor(2), tensor(2), tensor(2), tensor(0), tensor(1), tensor(0), tensor(1), tensor(1), tensor(2), tensor(0), tensor(2), tensor(2), tensor(2), tensor(1), tensor(2), tensor(2), tensor(1), tensor(2), tensor(2), tensor(1), tensor(1), tensor(1), tensor(0), tensor(2), tensor(2), tensor(2), tensor(1), tensor(1), tensor(1), tensor(0), tensor(0), tensor(2), tensor(1), tensor(1), tensor(2), tensor(1), tensor(0), tensor(0), tensor(0), tensor(1), tensor(2), tensor(1), tensor(0), tensor(2), tensor(2), tensor(1), tensor(1), tensor(2), tensor(2), tensor(0), tensor(2), tensor(2), tensor(0), tensor(1), tensor(1), tensor(1), tensor(1), tensor(1), tensor(2), tensor(2), tensor(1), tensor(1), tensor(2), tensor(2), tensor(0), tensor(0), tensor(2), tensor(1), tensor(0), tensor(2), tensor(0), tensor(2), tensor(0), tensor(0), tensor(2), tensor(2), tensor(1), tensor(1), tensor(0), tensor(1), tensor(2), tensor(1), tensor(0), tensor(0), tensor(1), tensor(1), tensor(1), tensor(1), tensor(1), tensor(2), tensor(2), tensor(0), tensor(2), tensor(1), tensor(0), tensor(1), tensor(2), tensor(1), tensor(2), tensor(0), tensor(0), tensor(1), tensor(0), tensor(0), tensor(1), tensor(2), tensor(0), tensor(1), tensor(2), tensor(2), tensor(2), tensor(0), tensor(1), tensor(2), tensor(1), tensor(1), tensor(1), tensor(1), tensor(2), tensor(2), tensor(2), tensor(0), tensor(1), tensor(1), tensor(2), tensor(1), tensor(0), tensor(0), tensor(2), tensor(0), tensor(0), tensor(1), tensor(0), tensor(0), tensor(0), tensor(1), tensor(0), tensor(2), tensor(2), tensor(0), tensor(1), tensor(2), tensor(2), tensor(2), tensor(0), tensor(2), tensor(1), tensor(0), tensor(1), tensor(2), tensor(0), tensor(2), tensor(0), tensor(1), tensor(0), tensor(2), tensor(1), tensor(1), tensor(1), tensor(2), tensor(2), tensor(0), tensor(2), tensor(2), tensor(2), tensor(0), tensor(2), tensor(0), tensor(1), tensor(0), tensor(0), tensor(1), tensor(2), tensor(1), tensor(2), tensor(1), tensor(0), tensor(0), tensor(1), tensor(0), tensor(2), tensor(1), tensor(1), tensor(0), tensor(0), tensor(2), tensor(2), tensor(2), tensor(0), tensor(0), tensor(0), tensor(2), tensor(1), tensor(0), tensor(2), tensor(1), tensor(0), tensor(0), tensor(0), tensor(0), tensor(1), tensor(0), tensor(1), tensor(0), tensor(0), tensor(0), tensor(2), tensor(0), tensor(0), tensor(2), tensor(2), tensor(2), tensor(1), tensor(0), tensor(0), tensor(0), tensor(1), tensor(0), tensor(0), tensor(1), tensor(2), tensor(0), tensor(2), tensor(0), tensor(1), tensor(1), tensor(2), tensor(0), tensor(2), tensor(2), tensor(1), tensor(2), tensor(2), tensor(2), tensor(1), tensor(1), tensor(1), tensor(1), tensor(1), tensor(1), tensor(0), tensor(1), tensor(1), tensor(2), tensor(2), tensor(2), tensor(1), tensor(2), tensor(2), tensor(1), tensor(1), tensor(2), tensor(1), tensor(1), tensor(2), tensor(0), tensor(2), tensor(1), tensor(0), tensor(0), tensor(0), tensor(1), tensor(1), tensor(2), tensor(1), tensor(1), tensor(1), tensor(0), tensor(0), tensor(1), tensor(1), tensor(0), tensor(2), tensor(0), tensor(2), tensor(0), tensor(1), tensor(0), tensor(1), tensor(2), tensor(0), tensor(1), tensor(0), tensor(2), tensor(2), tensor(1), tensor(1), tensor(1), tensor(1), tensor(0), tensor(2), tensor(0), tensor(2), tensor(2), tensor(0), tensor(0), tensor(2), tensor(0), tensor(2), tensor(1), tensor(2), tensor(2), tensor(2), tensor(0), tensor(0), tensor(0), tensor(1), tensor(0), tensor(2), tensor(1), tensor(0), tensor(1), tensor(0), tensor(0), tensor(1), tensor(0), tensor(2), tensor(0), tensor(0), tensor(0), tensor(1), tensor(2), tensor(2), tensor(2), tensor(0), tensor(2), tensor(2), tensor(0), tensor(1), tensor(0), tensor(1), tensor(2), tensor(1), tensor(2), tensor(1), tensor(2), tensor(0), tensor(0), tensor(0), tensor(0), tensor(1), tensor(2), tensor(1), tensor(1), tensor(1), tensor(1), tensor(1), tensor(1), tensor(2), tensor(2), tensor(0), tensor(1), tensor(1), tensor(1), tensor(1), tensor(1), tensor(0), tensor(0), tensor(2), tensor(0), tensor(0), tensor(0), tensor(0), tensor(0), tensor(1), tensor(1), tensor(2), tensor(0), tensor(0), tensor(1), tensor(1), tensor(0), tensor(2)]\n"
          ]
        },
        {
          "output_type": "display_data",
          "data": {
            "text/plain": [
              "<Figure size 640x480 with 2 Axes>"
            ],
            "image/png": "[encoded data removed]"
          },
          "metadata": {}
        }
      ],
      "source": [
        "import sklearn\n",
        "from sklearn import metrics\n",
        "print(y_pred)\n",
        "cm = sklearn.metrics.confusion_matrix(y_true, y_pred)\n",
        "cm_display = metrics.ConfusionMatrixDisplay(confusion_matrix = cm, display_labels = [\"Insoluble\", \"Somewhat Solube\", \"Very Soluble\"])\n",
        "\n",
        "import matplotlib.pyplot as plt\n",
        "\n",
        "cm_display.plot()\n",
        "plt.show()\n",
        "\n",
        "\n",
        "\n",
        "\n"
      ]
    },
    {
      "cell_type": "code",
      "execution_count": null,
      "metadata": {
        "id": "tssS7J7HitV3"
      },
      "outputs": [],
      "source": []
    },
    {
      "cell_type": "code",
      "source": [],
      "metadata": {
        "id": "mf6Oh4JU2q8V"
      },
      "execution_count": null,
      "outputs": []
    }
  ],
  "metadata": {
    "colab": {
      "provenance": []
    },
    "kernelspec": {
      "display_name": "Python 3",
      "name": "python3"
    },
    "language_info": {
      "codemirror_mode": {
        "name": "ipython",
        "version": 3
      },
      "file_extension": ".py",
      "mimetype": "text/x-python",
      "name": "python",
      "nbconvert_exporter": "python",
      "pygments_lexer": "ipython3",
      "version": "3.6.4"
    }
  },
  "nbformat": 4,
  "nbformat_minor": 0
}